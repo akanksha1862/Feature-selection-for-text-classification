{
 "cells": [
  {
   "cell_type": "markdown",
   "metadata": {
    "id": "7Gotfl_bzJB5"
   },
   "source": [
    "# Importing Packages"
   ]
  },
  {
   "cell_type": "code",
   "execution_count": 2,
   "metadata": {
    "executionInfo": {
     "elapsed": 1599,
     "status": "ok",
     "timestamp": 1630510477999,
     "user": {
      "displayName": "Ramesh Ravindran",
      "photoUrl": "https://lh3.googleusercontent.com/a-/AOh14GhcjUie2zDWpQEXGBSui04ZAq0Nl9CR7dlOS1FcBg=s64",
      "userId": "08375370966839671912"
     },
     "user_tz": -330
    },
    "id": "W-arck3yzJCB"
   },
   "outputs": [],
   "source": [
    "import pandas as pd\n",
    "from nltk.corpus import stopwords\n",
    "from nltk.stem import PorterStemmer\n",
    "import re\n",
    "from sklearn.feature_extraction.text import TfidfVectorizer"
   ]
  },
  {
   "cell_type": "markdown",
   "metadata": {
    "id": "4otF5ydAzJCE"
   },
   "source": [
    "# Data Exploration"
   ]
  },
  {
   "cell_type": "code",
   "execution_count": 3,
   "metadata": {
    "colab": {
     "base_uri": "https://localhost:8080/"
    },
    "executionInfo": {
     "elapsed": 855,
     "status": "ok",
     "timestamp": 1630510481105,
     "user": {
      "displayName": "Ramesh Ravindran",
      "photoUrl": "https://lh3.googleusercontent.com/a-/AOh14GhcjUie2zDWpQEXGBSui04ZAq0Nl9CR7dlOS1FcBg=s64",
      "userId": "08375370966839671912"
     },
     "user_tz": -330
    },
    "id": "p4i-4l5ozJCF",
    "outputId": "56f04704-3cf7-437d-9e68-83edf4444e8c"
   },
   "outputs": [],
   "source": [
    "df= pd.read_csv('dataset/training.csv',encoding='ISO-8859-1')\n",
    "df = df[0:500]"
   ]
  },
  {
   "cell_type": "code",
   "execution_count": 4,
   "metadata": {
    "colab": {
     "base_uri": "https://localhost:8080/",
     "height": 204
    },
    "executionInfo": {
     "elapsed": 13,
     "status": "ok",
     "timestamp": 1630510484715,
     "user": {
      "displayName": "Ramesh Ravindran",
      "photoUrl": "https://lh3.googleusercontent.com/a-/AOh14GhcjUie2zDWpQEXGBSui04ZAq0Nl9CR7dlOS1FcBg=s64",
      "userId": "08375370966839671912"
     },
     "user_tz": -330
    },
    "id": "THSqkUSszJCI",
    "outputId": "09f11972-347a-4abf-da02-287b57aff1f1"
   },
   "outputs": [
    {
     "data": {
      "text/html": [
       "<div>\n",
       "<style scoped>\n",
       "    .dataframe tbody tr th:only-of-type {\n",
       "        vertical-align: middle;\n",
       "    }\n",
       "\n",
       "    .dataframe tbody tr th {\n",
       "        vertical-align: top;\n",
       "    }\n",
       "\n",
       "    .dataframe thead th {\n",
       "        text-align: right;\n",
       "    }\n",
       "</style>\n",
       "<table border=\"1\" class=\"dataframe\">\n",
       "  <thead>\n",
       "    <tr style=\"text-align: right;\">\n",
       "      <th></th>\n",
       "      <th>text</th>\n",
       "      <th>label</th>\n",
       "    </tr>\n",
       "  </thead>\n",
       "  <tbody>\n",
       "    <tr>\n",
       "      <th>0</th>\n",
       "      <td>i didnt feel humiliated</td>\n",
       "      <td>0</td>\n",
       "    </tr>\n",
       "    <tr>\n",
       "      <th>1</th>\n",
       "      <td>i can go from feeling so hopeless to so damned...</td>\n",
       "      <td>0</td>\n",
       "    </tr>\n",
       "    <tr>\n",
       "      <th>2</th>\n",
       "      <td>im grabbing a minute to post i feel greedy wrong</td>\n",
       "      <td>3</td>\n",
       "    </tr>\n",
       "    <tr>\n",
       "      <th>3</th>\n",
       "      <td>i am ever feeling nostalgic about the fireplac...</td>\n",
       "      <td>2</td>\n",
       "    </tr>\n",
       "    <tr>\n",
       "      <th>4</th>\n",
       "      <td>i am feeling grouchy</td>\n",
       "      <td>3</td>\n",
       "    </tr>\n",
       "  </tbody>\n",
       "</table>\n",
       "</div>"
      ],
      "text/plain": [
       "                                                text  label\n",
       "0                            i didnt feel humiliated      0\n",
       "1  i can go from feeling so hopeless to so damned...      0\n",
       "2   im grabbing a minute to post i feel greedy wrong      3\n",
       "3  i am ever feeling nostalgic about the fireplac...      2\n",
       "4                               i am feeling grouchy      3"
      ]
     },
     "execution_count": 4,
     "metadata": {},
     "output_type": "execute_result"
    }
   ],
   "source": [
    "df.head()"
   ]
  },
  {
   "cell_type": "code",
   "execution_count": 5,
   "metadata": {},
   "outputs": [
    {
     "data": {
      "text/plain": [
       "<AxesSubplot:xlabel='label', ylabel='count'>"
      ]
     },
     "execution_count": 5,
     "metadata": {},
     "output_type": "execute_result"
    }
   ],
   "source": [
    "import seaborn as sns\n",
    "sns.countplot(x=\"label\", data = df)"
   ]
  },
  {
   "cell_type": "code",
   "execution_count": 6,
   "metadata": {
    "executionInfo": {
     "elapsed": 5,
     "status": "ok",
     "timestamp": 1630510486051,
     "user": {
      "displayName": "Ramesh Ravindran",
      "photoUrl": "https://lh3.googleusercontent.com/a-/AOh14GhcjUie2zDWpQEXGBSui04ZAq0Nl9CR7dlOS1FcBg=s64",
      "userId": "08375370966839671912"
     },
     "user_tz": -330
    },
    "id": "JACjE1qDzJCJ"
   },
   "outputs": [],
   "source": [
    "df = df.dropna()"
   ]
  },
  {
   "cell_type": "code",
   "execution_count": 7,
   "metadata": {
    "colab": {
     "base_uri": "https://localhost:8080/"
    },
    "executionInfo": {
     "elapsed": 6,
     "status": "ok",
     "timestamp": 1630510487692,
     "user": {
      "displayName": "Ramesh Ravindran",
      "photoUrl": "https://lh3.googleusercontent.com/a-/AOh14GhcjUie2zDWpQEXGBSui04ZAq0Nl9CR7dlOS1FcBg=s64",
      "userId": "08375370966839671912"
     },
     "user_tz": -330
    },
    "id": "m-qEjYA4zJCK",
    "outputId": "b1b5acf1-251a-4d88-aa01-1ea426467773"
   },
   "outputs": [
    {
     "name": "stdout",
     "output_type": "stream",
     "text": [
      "<class 'pandas.core.frame.DataFrame'>\n",
      "Int64Index: 500 entries, 0 to 499\n",
      "Data columns (total 2 columns):\n",
      "text     500 non-null object\n",
      "label    500 non-null int64\n",
      "dtypes: int64(1), object(1)\n",
      "memory usage: 11.7+ KB\n"
     ]
    }
   ],
   "source": [
    "df.info()"
   ]
  },
  {
   "cell_type": "markdown",
   "metadata": {
    "id": "olZng8uTzJCM"
   },
   "source": [
    "# Data Cleaning & Processing"
   ]
  },
  {
   "cell_type": "code",
   "execution_count": 8,
   "metadata": {
    "executionInfo": {
     "elapsed": 7,
     "status": "ok",
     "timestamp": 1630510489286,
     "user": {
      "displayName": "Ramesh Ravindran",
      "photoUrl": "https://lh3.googleusercontent.com/a-/AOh14GhcjUie2zDWpQEXGBSui04ZAq0Nl9CR7dlOS1FcBg=s64",
      "userId": "08375370966839671912"
     },
     "user_tz": -330
    },
    "id": "zuCX8x9PzJCM"
   },
   "outputs": [],
   "source": [
    "def cleaner(text):\n",
    "    text = text.lower()\n",
    "    text = re.sub(\"@[^\\s]+\",\"\",text)\n",
    "    text = text.replace(\":)\",\"\")  \n",
    "    text = text.replace(\"@\",\"\") \n",
    "    text = text.replace(\"#\",\"\") \n",
    "    text = text.replace(\":(\",\"\")\n",
    "    return text"
   ]
  },
  {
   "cell_type": "code",
   "execution_count": 9,
   "metadata": {
    "executionInfo": {
     "elapsed": 5,
     "status": "ok",
     "timestamp": 1630510491003,
     "user": {
      "displayName": "Ramesh Ravindran",
      "photoUrl": "https://lh3.googleusercontent.com/a-/AOh14GhcjUie2zDWpQEXGBSui04ZAq0Nl9CR7dlOS1FcBg=s64",
      "userId": "08375370966839671912"
     },
     "user_tz": -330
    },
    "id": "IhkIGgqBzJCN"
   },
   "outputs": [],
   "source": [
    "def remove_stop_words(text):\n",
    "    sw = stopwords.words(\"english\")\n",
    "    clean_words = []\n",
    "    text = text.split()\n",
    "    for word in text:\n",
    "        if word not in sw:\n",
    "            clean_words.append(word)\n",
    "    return \" \".join(clean_words)"
   ]
  },
  {
   "cell_type": "code",
   "execution_count": 10,
   "metadata": {
    "executionInfo": {
     "elapsed": 381,
     "status": "ok",
     "timestamp": 1630510493126,
     "user": {
      "displayName": "Ramesh Ravindran",
      "photoUrl": "https://lh3.googleusercontent.com/a-/AOh14GhcjUie2zDWpQEXGBSui04ZAq0Nl9CR7dlOS1FcBg=s64",
      "userId": "08375370966839671912"
     },
     "user_tz": -330
    },
    "id": "gQhvbYy4zJCO"
   },
   "outputs": [],
   "source": [
    "def stemming(text):\n",
    "    ps = PorterStemmer()\n",
    "    text = text.split()\n",
    "    stemmed_words = []\n",
    "    for word in text :\n",
    "        stemmed_words.append(ps.stem(word))\n",
    "    return \" \".join(stemmed_words)"
   ]
  },
  {
   "cell_type": "code",
   "execution_count": 11,
   "metadata": {
    "executionInfo": {
     "elapsed": 7,
     "status": "ok",
     "timestamp": 1630510494384,
     "user": {
      "displayName": "Ramesh Ravindran",
      "photoUrl": "https://lh3.googleusercontent.com/a-/AOh14GhcjUie2zDWpQEXGBSui04ZAq0Nl9CR7dlOS1FcBg=s64",
      "userId": "08375370966839671912"
     },
     "user_tz": -330
    },
    "id": "7The4_NkzJCO"
   },
   "outputs": [],
   "source": [
    "def run(text):\n",
    "    text = cleaner(text)\n",
    "    text = remove_stop_words(text)\n",
    "    text = stemming(text)\n",
    "    return text"
   ]
  },
  {
   "cell_type": "code",
   "execution_count": 12,
   "metadata": {
    "colab": {
     "base_uri": "https://localhost:8080/"
    },
    "executionInfo": {
     "elapsed": 329,
     "status": "ok",
     "timestamp": 1630510496204,
     "user": {
      "displayName": "Ramesh Ravindran",
      "photoUrl": "https://lh3.googleusercontent.com/a-/AOh14GhcjUie2zDWpQEXGBSui04ZAq0Nl9CR7dlOS1FcBg=s64",
      "userId": "08375370966839671912"
     },
     "user_tz": -330
    },
    "id": "yIqbrwZozjCr",
    "outputId": "fb8db1c5-0bb5-4896-b62e-74b8d73322ab"
   },
   "outputs": [
    {
     "name": "stderr",
     "output_type": "stream",
     "text": [
      "[nltk_data] Downloading package stopwords to\n",
      "[nltk_data]     C:\\Users\\TruProjects\\AppData\\Roaming\\nltk_data...\n",
      "[nltk_data]   Package stopwords is already up-to-date!\n"
     ]
    },
    {
     "data": {
      "text/plain": [
       "True"
      ]
     },
     "execution_count": 12,
     "metadata": {},
     "output_type": "execute_result"
    }
   ],
   "source": [
    "import nltk\n",
    "nltk.download('stopwords')"
   ]
  },
  {
   "cell_type": "code",
   "execution_count": 13,
   "metadata": {
    "executionInfo": {
     "elapsed": 15098,
     "status": "ok",
     "timestamp": 1630510512490,
     "user": {
      "displayName": "Ramesh Ravindran",
      "photoUrl": "https://lh3.googleusercontent.com/a-/AOh14GhcjUie2zDWpQEXGBSui04ZAq0Nl9CR7dlOS1FcBg=s64",
      "userId": "08375370966839671912"
     },
     "user_tz": -330
    },
    "id": "XEGsHnECzJCP"
   },
   "outputs": [],
   "source": [
    "df['Message'] = df['text'].apply(run)"
   ]
  },
  {
   "cell_type": "code",
   "execution_count": 14,
   "metadata": {
    "executionInfo": {
     "elapsed": 832,
     "status": "ok",
     "timestamp": 1630510536372,
     "user": {
      "displayName": "Ramesh Ravindran",
      "photoUrl": "https://lh3.googleusercontent.com/a-/AOh14GhcjUie2zDWpQEXGBSui04ZAq0Nl9CR7dlOS1FcBg=s64",
      "userId": "08375370966839671912"
     },
     "user_tz": -330
    },
    "id": "UJ6VEtstzJCQ"
   },
   "outputs": [],
   "source": [
    "tfidf = TfidfVectorizer()\n",
    "x = tfidf.fit_transform(df[\"Message\"])"
   ]
  },
  {
   "cell_type": "markdown",
   "metadata": {
    "id": "xYmI8sa6zJCR"
   },
   "source": [
    "# Feature Selection"
   ]
  },
  {
   "cell_type": "code",
   "execution_count": 15,
   "metadata": {
    "colab": {
     "base_uri": "https://localhost:8080/"
    },
    "executionInfo": {
     "elapsed": 1159,
     "status": "ok",
     "timestamp": 1630510540912,
     "user": {
      "displayName": "Ramesh Ravindran",
      "photoUrl": "https://lh3.googleusercontent.com/a-/AOh14GhcjUie2zDWpQEXGBSui04ZAq0Nl9CR7dlOS1FcBg=s64",
      "userId": "08375370966839671912"
     },
     "user_tz": -330
    },
    "id": "1wgai5OazJCR",
    "outputId": "ea30b3f5-cfe8-4892-a839-f57db129bc27"
   },
   "outputs": [
    {
     "data": {
      "text/plain": [
       "array([[0., 0., 0., ..., 0., 0., 0.],\n",
       "       [0., 0., 0., ..., 0., 0., 0.],\n",
       "       [0., 0., 0., ..., 0., 0., 0.],\n",
       "       ...,\n",
       "       [0., 0., 0., ..., 0., 0., 0.],\n",
       "       [0., 0., 0., ..., 0., 0., 0.],\n",
       "       [0., 0., 0., ..., 0., 0., 0.]])"
      ]
     },
     "execution_count": 15,
     "metadata": {},
     "output_type": "execute_result"
    }
   ],
   "source": [
    "X = x.toarray()\n",
    "X"
   ]
  },
  {
   "cell_type": "code",
   "execution_count": 16,
   "metadata": {
    "colab": {
     "base_uri": "https://localhost:8080/"
    },
    "executionInfo": {
     "elapsed": 310,
     "status": "ok",
     "timestamp": 1630510542540,
     "user": {
      "displayName": "Ramesh Ravindran",
      "photoUrl": "https://lh3.googleusercontent.com/a-/AOh14GhcjUie2zDWpQEXGBSui04ZAq0Nl9CR7dlOS1FcBg=s64",
      "userId": "08375370966839671912"
     },
     "user_tz": -330
    },
    "id": "gpTCnAGozJCS",
    "outputId": "cfe1b582-2b29-4fdf-b55a-730e8e08cbf8"
   },
   "outputs": [
    {
     "data": {
      "text/plain": [
       "array([0, 0, 3, 2, 3, 0, 5, 4, 1, 2, 0, 1, 3, 0, 1, 1, 0, 0, 0, 4, 3, 4,\n",
       "       1, 1, 3, 0, 0, 0, 3, 1, 1, 4, 5, 3, 1, 1, 1, 1, 3, 1, 1, 1, 1, 1,\n",
       "       0, 0, 1, 2, 1, 3, 1, 0, 3, 4, 1, 0, 0, 5, 1, 1, 1, 2, 4, 4, 5, 3,\n",
       "       3, 0, 2, 1, 0, 0, 1, 0, 0, 0, 1, 1, 1, 3, 0, 3, 3, 3, 1, 1, 1, 1,\n",
       "       0, 4, 2, 3, 0, 3, 2, 0, 1, 1, 0, 3, 2, 1, 1, 1, 0, 1, 1, 1, 1, 0,\n",
       "       1, 1, 2, 0, 0, 1, 1, 0, 1, 1, 4, 4, 4, 0, 2, 1, 1, 2, 4, 5, 1, 1,\n",
       "       1, 1, 3, 4, 1, 3, 2, 3, 0, 1, 0, 3, 1, 5, 0, 3, 3, 0, 1, 4, 1, 1,\n",
       "       4, 0, 5, 5, 1, 3, 4, 3, 0, 3, 0, 4, 0, 1, 5, 4, 1, 3, 1, 3, 1, 4,\n",
       "       4, 0, 1, 1, 0, 5, 1, 4, 1, 0, 1, 1, 1, 4, 1, 5, 1, 3, 0, 0, 1, 3,\n",
       "       0, 1, 1, 5, 1, 4, 1, 4, 0, 4, 2, 0, 4, 2, 0, 0, 3, 1, 2, 3, 0, 5,\n",
       "       3, 1, 0, 3, 1, 1, 1, 1, 1, 0, 1, 2, 1, 0, 3, 5, 1, 3, 1, 2, 0, 0,\n",
       "       1, 0, 0, 1, 0, 1, 1, 1, 4, 0, 3, 0, 3, 2, 1, 2, 0, 1, 1, 1, 0, 1,\n",
       "       0, 3, 2, 0, 2, 0, 0, 0, 0, 0, 0, 4, 1, 0, 0, 1, 2, 0, 3, 0, 2, 1,\n",
       "       1, 1, 0, 1, 0, 1, 1, 1, 0, 0, 0, 2, 4, 0, 4, 1, 1, 4, 1, 3, 3, 2,\n",
       "       0, 5, 1, 3, 0, 0, 3, 2, 5, 0, 2, 1, 3, 1, 0, 0, 1, 1, 4, 0, 3, 1,\n",
       "       2, 1, 1, 1, 1, 1, 2, 1, 4, 4, 1, 1, 3, 1, 1, 1, 0, 5, 1, 1, 0, 5,\n",
       "       1, 4, 1, 3, 2, 3, 4, 5, 1, 3, 0, 0, 0, 4, 1, 4, 1, 3, 0, 2, 3, 0,\n",
       "       2, 2, 1, 0, 1, 1, 3, 1, 2, 1, 1, 0, 5, 1, 1, 0, 5, 3, 1, 1, 2, 1,\n",
       "       2, 2, 1, 0, 1, 0, 4, 3, 0, 3, 1, 4, 5, 2, 0, 0, 1, 5, 2, 0, 0, 1,\n",
       "       4, 1, 1, 1, 2, 4, 0, 0, 4, 2, 1, 0, 1, 0, 1, 0, 1, 0, 1, 1, 3, 0,\n",
       "       4, 0, 0, 3, 5, 5, 1, 5, 4, 2, 3, 1, 4, 0, 3, 0, 1, 4, 1, 1, 1, 1,\n",
       "       5, 3, 0, 1, 0, 3, 2, 0, 2, 3, 2, 2, 1, 1, 0, 1, 0, 1, 3, 1, 4, 0,\n",
       "       1, 0, 5, 1, 1, 2, 1, 0, 3, 1, 0, 0, 0, 1, 1, 1], dtype=int64)"
      ]
     },
     "execution_count": 16,
     "metadata": {},
     "output_type": "execute_result"
    }
   ],
   "source": [
    "y = df['label'].values\n",
    "y"
   ]
  },
  {
   "cell_type": "code",
   "execution_count": 17,
   "metadata": {},
   "outputs": [],
   "source": [
    "import pandas as pd\n",
    "from mlxtend.preprocessing import TransactionEncoder \n",
    "from mlxtend.frequent_patterns import association_rules\n",
    "from mlxtend.frequent_patterns import fpgrowth"
   ]
  },
  {
   "cell_type": "code",
   "execution_count": 18,
   "metadata": {},
   "outputs": [],
   "source": [
    "te = TransactionEncoder()\n",
    "te_array = te.fit(df['Message']).transform(df['Message'])\n",
    "data = pd.DataFrame(te_array, columns=te.columns_)"
   ]
  },
  {
   "cell_type": "code",
   "execution_count": 19,
   "metadata": {},
   "outputs": [
    {
     "data": {
      "text/html": [
       "<div>\n",
       "<style scoped>\n",
       "    .dataframe tbody tr th:only-of-type {\n",
       "        vertical-align: middle;\n",
       "    }\n",
       "\n",
       "    .dataframe tbody tr th {\n",
       "        vertical-align: top;\n",
       "    }\n",
       "\n",
       "    .dataframe thead th {\n",
       "        text-align: right;\n",
       "    }\n",
       "</style>\n",
       "<table border=\"1\" class=\"dataframe\">\n",
       "  <thead>\n",
       "    <tr style=\"text-align: right;\">\n",
       "      <th></th>\n",
       "      <th></th>\n",
       "      <th>a</th>\n",
       "      <th>b</th>\n",
       "      <th>c</th>\n",
       "      <th>d</th>\n",
       "      <th>e</th>\n",
       "      <th>f</th>\n",
       "      <th>g</th>\n",
       "      <th>h</th>\n",
       "      <th>i</th>\n",
       "      <th>...</th>\n",
       "      <th>q</th>\n",
       "      <th>r</th>\n",
       "      <th>s</th>\n",
       "      <th>t</th>\n",
       "      <th>u</th>\n",
       "      <th>v</th>\n",
       "      <th>w</th>\n",
       "      <th>x</th>\n",
       "      <th>y</th>\n",
       "      <th>z</th>\n",
       "    </tr>\n",
       "  </thead>\n",
       "  <tbody>\n",
       "    <tr>\n",
       "      <th>0</th>\n",
       "      <td>True</td>\n",
       "      <td>False</td>\n",
       "      <td>False</td>\n",
       "      <td>False</td>\n",
       "      <td>True</td>\n",
       "      <td>True</td>\n",
       "      <td>True</td>\n",
       "      <td>False</td>\n",
       "      <td>True</td>\n",
       "      <td>True</td>\n",
       "      <td>...</td>\n",
       "      <td>False</td>\n",
       "      <td>False</td>\n",
       "      <td>False</td>\n",
       "      <td>True</td>\n",
       "      <td>True</td>\n",
       "      <td>False</td>\n",
       "      <td>False</td>\n",
       "      <td>False</td>\n",
       "      <td>False</td>\n",
       "      <td>False</td>\n",
       "    </tr>\n",
       "    <tr>\n",
       "      <th>1</th>\n",
       "      <td>True</td>\n",
       "      <td>True</td>\n",
       "      <td>False</td>\n",
       "      <td>True</td>\n",
       "      <td>True</td>\n",
       "      <td>True</td>\n",
       "      <td>True</td>\n",
       "      <td>True</td>\n",
       "      <td>True</td>\n",
       "      <td>False</td>\n",
       "      <td>...</td>\n",
       "      <td>False</td>\n",
       "      <td>True</td>\n",
       "      <td>True</td>\n",
       "      <td>False</td>\n",
       "      <td>True</td>\n",
       "      <td>False</td>\n",
       "      <td>True</td>\n",
       "      <td>False</td>\n",
       "      <td>False</td>\n",
       "      <td>False</td>\n",
       "    </tr>\n",
       "    <tr>\n",
       "      <th>2</th>\n",
       "      <td>True</td>\n",
       "      <td>True</td>\n",
       "      <td>True</td>\n",
       "      <td>False</td>\n",
       "      <td>True</td>\n",
       "      <td>True</td>\n",
       "      <td>True</td>\n",
       "      <td>True</td>\n",
       "      <td>False</td>\n",
       "      <td>True</td>\n",
       "      <td>...</td>\n",
       "      <td>False</td>\n",
       "      <td>True</td>\n",
       "      <td>True</td>\n",
       "      <td>True</td>\n",
       "      <td>True</td>\n",
       "      <td>False</td>\n",
       "      <td>True</td>\n",
       "      <td>False</td>\n",
       "      <td>False</td>\n",
       "      <td>False</td>\n",
       "    </tr>\n",
       "    <tr>\n",
       "      <th>3</th>\n",
       "      <td>True</td>\n",
       "      <td>True</td>\n",
       "      <td>False</td>\n",
       "      <td>True</td>\n",
       "      <td>False</td>\n",
       "      <td>True</td>\n",
       "      <td>True</td>\n",
       "      <td>True</td>\n",
       "      <td>False</td>\n",
       "      <td>True</td>\n",
       "      <td>...</td>\n",
       "      <td>False</td>\n",
       "      <td>True</td>\n",
       "      <td>True</td>\n",
       "      <td>True</td>\n",
       "      <td>False</td>\n",
       "      <td>True</td>\n",
       "      <td>True</td>\n",
       "      <td>False</td>\n",
       "      <td>False</td>\n",
       "      <td>False</td>\n",
       "    </tr>\n",
       "    <tr>\n",
       "      <th>4</th>\n",
       "      <td>True</td>\n",
       "      <td>False</td>\n",
       "      <td>False</td>\n",
       "      <td>True</td>\n",
       "      <td>False</td>\n",
       "      <td>True</td>\n",
       "      <td>True</td>\n",
       "      <td>True</td>\n",
       "      <td>True</td>\n",
       "      <td>True</td>\n",
       "      <td>...</td>\n",
       "      <td>False</td>\n",
       "      <td>True</td>\n",
       "      <td>False</td>\n",
       "      <td>False</td>\n",
       "      <td>True</td>\n",
       "      <td>False</td>\n",
       "      <td>False</td>\n",
       "      <td>False</td>\n",
       "      <td>False</td>\n",
       "      <td>False</td>\n",
       "    </tr>\n",
       "    <tr>\n",
       "      <th>...</th>\n",
       "      <td>...</td>\n",
       "      <td>...</td>\n",
       "      <td>...</td>\n",
       "      <td>...</td>\n",
       "      <td>...</td>\n",
       "      <td>...</td>\n",
       "      <td>...</td>\n",
       "      <td>...</td>\n",
       "      <td>...</td>\n",
       "      <td>...</td>\n",
       "      <td>...</td>\n",
       "      <td>...</td>\n",
       "      <td>...</td>\n",
       "      <td>...</td>\n",
       "      <td>...</td>\n",
       "      <td>...</td>\n",
       "      <td>...</td>\n",
       "      <td>...</td>\n",
       "      <td>...</td>\n",
       "      <td>...</td>\n",
       "      <td>...</td>\n",
       "    </tr>\n",
       "    <tr>\n",
       "      <th>495</th>\n",
       "      <td>True</td>\n",
       "      <td>True</td>\n",
       "      <td>False</td>\n",
       "      <td>True</td>\n",
       "      <td>True</td>\n",
       "      <td>True</td>\n",
       "      <td>True</td>\n",
       "      <td>True</td>\n",
       "      <td>True</td>\n",
       "      <td>True</td>\n",
       "      <td>...</td>\n",
       "      <td>False</td>\n",
       "      <td>True</td>\n",
       "      <td>True</td>\n",
       "      <td>True</td>\n",
       "      <td>True</td>\n",
       "      <td>True</td>\n",
       "      <td>True</td>\n",
       "      <td>True</td>\n",
       "      <td>True</td>\n",
       "      <td>False</td>\n",
       "    </tr>\n",
       "    <tr>\n",
       "      <th>496</th>\n",
       "      <td>True</td>\n",
       "      <td>True</td>\n",
       "      <td>False</td>\n",
       "      <td>True</td>\n",
       "      <td>False</td>\n",
       "      <td>True</td>\n",
       "      <td>True</td>\n",
       "      <td>True</td>\n",
       "      <td>True</td>\n",
       "      <td>True</td>\n",
       "      <td>...</td>\n",
       "      <td>False</td>\n",
       "      <td>False</td>\n",
       "      <td>True</td>\n",
       "      <td>True</td>\n",
       "      <td>True</td>\n",
       "      <td>False</td>\n",
       "      <td>False</td>\n",
       "      <td>False</td>\n",
       "      <td>False</td>\n",
       "      <td>False</td>\n",
       "    </tr>\n",
       "    <tr>\n",
       "      <th>497</th>\n",
       "      <td>True</td>\n",
       "      <td>True</td>\n",
       "      <td>False</td>\n",
       "      <td>True</td>\n",
       "      <td>True</td>\n",
       "      <td>True</td>\n",
       "      <td>True</td>\n",
       "      <td>True</td>\n",
       "      <td>True</td>\n",
       "      <td>True</td>\n",
       "      <td>...</td>\n",
       "      <td>False</td>\n",
       "      <td>True</td>\n",
       "      <td>True</td>\n",
       "      <td>True</td>\n",
       "      <td>True</td>\n",
       "      <td>False</td>\n",
       "      <td>True</td>\n",
       "      <td>False</td>\n",
       "      <td>True</td>\n",
       "      <td>False</td>\n",
       "    </tr>\n",
       "    <tr>\n",
       "      <th>498</th>\n",
       "      <td>True</td>\n",
       "      <td>True</td>\n",
       "      <td>True</td>\n",
       "      <td>True</td>\n",
       "      <td>True</td>\n",
       "      <td>True</td>\n",
       "      <td>True</td>\n",
       "      <td>True</td>\n",
       "      <td>False</td>\n",
       "      <td>True</td>\n",
       "      <td>...</td>\n",
       "      <td>False</td>\n",
       "      <td>True</td>\n",
       "      <td>True</td>\n",
       "      <td>True</td>\n",
       "      <td>True</td>\n",
       "      <td>True</td>\n",
       "      <td>True</td>\n",
       "      <td>False</td>\n",
       "      <td>True</td>\n",
       "      <td>False</td>\n",
       "    </tr>\n",
       "    <tr>\n",
       "      <th>499</th>\n",
       "      <td>True</td>\n",
       "      <td>True</td>\n",
       "      <td>False</td>\n",
       "      <td>True</td>\n",
       "      <td>False</td>\n",
       "      <td>True</td>\n",
       "      <td>True</td>\n",
       "      <td>True</td>\n",
       "      <td>True</td>\n",
       "      <td>True</td>\n",
       "      <td>...</td>\n",
       "      <td>False</td>\n",
       "      <td>True</td>\n",
       "      <td>False</td>\n",
       "      <td>True</td>\n",
       "      <td>True</td>\n",
       "      <td>True</td>\n",
       "      <td>False</td>\n",
       "      <td>False</td>\n",
       "      <td>False</td>\n",
       "      <td>False</td>\n",
       "    </tr>\n",
       "  </tbody>\n",
       "</table>\n",
       "<p>500 rows × 27 columns</p>\n",
       "</div>"
      ],
      "text/plain": [
       "               a      b      c      d     e     f      g      h      i  ...  \\\n",
       "0    True  False  False  False   True  True  True  False   True   True  ...   \n",
       "1    True   True  False   True   True  True  True   True   True  False  ...   \n",
       "2    True   True   True  False   True  True  True   True  False   True  ...   \n",
       "3    True   True  False   True  False  True  True   True  False   True  ...   \n",
       "4    True  False  False   True  False  True  True   True   True   True  ...   \n",
       "..    ...    ...    ...    ...    ...   ...   ...    ...    ...    ...  ...   \n",
       "495  True   True  False   True   True  True  True   True   True   True  ...   \n",
       "496  True   True  False   True  False  True  True   True   True   True  ...   \n",
       "497  True   True  False   True   True  True  True   True   True   True  ...   \n",
       "498  True   True   True   True   True  True  True   True  False   True  ...   \n",
       "499  True   True  False   True  False  True  True   True   True   True  ...   \n",
       "\n",
       "         q      r      s      t      u      v      w      x      y      z  \n",
       "0    False  False  False   True   True  False  False  False  False  False  \n",
       "1    False   True   True  False   True  False   True  False  False  False  \n",
       "2    False   True   True   True   True  False   True  False  False  False  \n",
       "3    False   True   True   True  False   True   True  False  False  False  \n",
       "4    False   True  False  False   True  False  False  False  False  False  \n",
       "..     ...    ...    ...    ...    ...    ...    ...    ...    ...    ...  \n",
       "495  False   True   True   True   True   True   True   True   True  False  \n",
       "496  False  False   True   True   True  False  False  False  False  False  \n",
       "497  False   True   True   True   True  False   True  False   True  False  \n",
       "498  False   True   True   True   True   True   True  False   True  False  \n",
       "499  False   True  False   True   True   True  False  False  False  False  \n",
       "\n",
       "[500 rows x 27 columns]"
      ]
     },
     "execution_count": 19,
     "metadata": {},
     "output_type": "execute_result"
    }
   ],
   "source": [
    "data"
   ]
  },
  {
   "cell_type": "code",
   "execution_count": 20,
   "metadata": {},
   "outputs": [
    {
     "data": {
      "text/html": [
       "<div>\n",
       "<style scoped>\n",
       "    .dataframe tbody tr th:only-of-type {\n",
       "        vertical-align: middle;\n",
       "    }\n",
       "\n",
       "    .dataframe tbody tr th {\n",
       "        vertical-align: top;\n",
       "    }\n",
       "\n",
       "    .dataframe thead th {\n",
       "        text-align: right;\n",
       "    }\n",
       "</style>\n",
       "<table border=\"1\" class=\"dataframe\">\n",
       "  <thead>\n",
       "    <tr style=\"text-align: right;\">\n",
       "      <th></th>\n",
       "      <th>text</th>\n",
       "      <th>label</th>\n",
       "      <th>Message</th>\n",
       "    </tr>\n",
       "  </thead>\n",
       "  <tbody>\n",
       "    <tr>\n",
       "      <th>0</th>\n",
       "      <td>i didnt feel humiliated</td>\n",
       "      <td>0</td>\n",
       "      <td>didnt feel humili</td>\n",
       "    </tr>\n",
       "    <tr>\n",
       "      <th>1</th>\n",
       "      <td>i can go from feeling so hopeless to so damned...</td>\n",
       "      <td>0</td>\n",
       "      <td>go feel hopeless damn hope around someon care ...</td>\n",
       "    </tr>\n",
       "    <tr>\n",
       "      <th>2</th>\n",
       "      <td>im grabbing a minute to post i feel greedy wrong</td>\n",
       "      <td>3</td>\n",
       "      <td>im grab minut post feel greedi wrong</td>\n",
       "    </tr>\n",
       "    <tr>\n",
       "      <th>3</th>\n",
       "      <td>i am ever feeling nostalgic about the fireplac...</td>\n",
       "      <td>2</td>\n",
       "      <td>ever feel nostalg fireplac know still properti</td>\n",
       "    </tr>\n",
       "    <tr>\n",
       "      <th>4</th>\n",
       "      <td>i am feeling grouchy</td>\n",
       "      <td>3</td>\n",
       "      <td>feel grouchi</td>\n",
       "    </tr>\n",
       "    <tr>\n",
       "      <th>...</th>\n",
       "      <td>...</td>\n",
       "      <td>...</td>\n",
       "      <td>...</td>\n",
       "    </tr>\n",
       "    <tr>\n",
       "      <th>495</th>\n",
       "      <td>i feel could be unpleasant is layered with lov...</td>\n",
       "      <td>0</td>\n",
       "      <td>feel could unpleas layer love heal forgiv expe...</td>\n",
       "    </tr>\n",
       "    <tr>\n",
       "      <th>496</th>\n",
       "      <td>im feeling gloomy as i have completed nothing ...</td>\n",
       "      <td>0</td>\n",
       "      <td>im feel gloomi complet noth though im suppos c...</td>\n",
       "    </tr>\n",
       "    <tr>\n",
       "      <th>497</th>\n",
       "      <td>i am not working out the amount i would like t...</td>\n",
       "      <td>1</td>\n",
       "      <td>work amount would like feel like lifestyl chan...</td>\n",
       "    </tr>\n",
       "    <tr>\n",
       "      <th>498</th>\n",
       "      <td>i love the porn industry and i feel satisfied ...</td>\n",
       "      <td>1</td>\n",
       "      <td>love porn industri feel satisfi fulfil work sa...</td>\n",
       "    </tr>\n",
       "    <tr>\n",
       "      <th>499</th>\n",
       "      <td>i overhear the victory tune on some geeks ring...</td>\n",
       "      <td>1</td>\n",
       "      <td>overhear victori tune geek rington feel triump...</td>\n",
       "    </tr>\n",
       "  </tbody>\n",
       "</table>\n",
       "<p>500 rows × 3 columns</p>\n",
       "</div>"
      ],
      "text/plain": [
       "                                                  text  label  \\\n",
       "0                              i didnt feel humiliated      0   \n",
       "1    i can go from feeling so hopeless to so damned...      0   \n",
       "2     im grabbing a minute to post i feel greedy wrong      3   \n",
       "3    i am ever feeling nostalgic about the fireplac...      2   \n",
       "4                                 i am feeling grouchy      3   \n",
       "..                                                 ...    ...   \n",
       "495  i feel could be unpleasant is layered with lov...      0   \n",
       "496  im feeling gloomy as i have completed nothing ...      0   \n",
       "497  i am not working out the amount i would like t...      1   \n",
       "498  i love the porn industry and i feel satisfied ...      1   \n",
       "499  i overhear the victory tune on some geeks ring...      1   \n",
       "\n",
       "                                               Message  \n",
       "0                                    didnt feel humili  \n",
       "1    go feel hopeless damn hope around someon care ...  \n",
       "2                 im grab minut post feel greedi wrong  \n",
       "3       ever feel nostalg fireplac know still properti  \n",
       "4                                         feel grouchi  \n",
       "..                                                 ...  \n",
       "495  feel could unpleas layer love heal forgiv expe...  \n",
       "496  im feel gloomi complet noth though im suppos c...  \n",
       "497  work amount would like feel like lifestyl chan...  \n",
       "498  love porn industri feel satisfi fulfil work sa...  \n",
       "499  overhear victori tune geek rington feel triump...  \n",
       "\n",
       "[500 rows x 3 columns]"
      ]
     },
     "execution_count": 20,
     "metadata": {},
     "output_type": "execute_result"
    }
   ],
   "source": [
    "df"
   ]
  },
  {
   "cell_type": "code",
   "execution_count": 21,
   "metadata": {},
   "outputs": [],
   "source": [
    "fpgrowth(data, min_support=0.02, use_colnames=True)\n",
    "\n",
    "frequent_itemsets_fp=fpgrowth(data, min_support=0.02, use_colnames=True)"
   ]
  },
  {
   "cell_type": "code",
   "execution_count": null,
   "metadata": {},
   "outputs": [],
   "source": [
    "#rules_fp = association_rules(frequent_itemsets_fp, metric=\"confidence\", min_threshold=0.8)"
   ]
  },
  {
   "cell_type": "code",
   "execution_count": null,
   "metadata": {},
   "outputs": [],
   "source": [
    "#rules_fp"
   ]
  },
  {
   "cell_type": "code",
   "execution_count": null,
   "metadata": {},
   "outputs": [],
   "source": [
    "#frequent_itemsets_fp"
   ]
  },
  {
   "cell_type": "markdown",
   "metadata": {
    "id": "_qhPVswpzJCS"
   },
   "source": [
    "# Data Splitting"
   ]
  },
  {
   "cell_type": "code",
   "execution_count": 21,
   "metadata": {
    "executionInfo": {
     "elapsed": 1039,
     "status": "ok",
     "timestamp": 1630510545542,
     "user": {
      "displayName": "Ramesh Ravindran",
      "photoUrl": "https://lh3.googleusercontent.com/a-/AOh14GhcjUie2zDWpQEXGBSui04ZAq0Nl9CR7dlOS1FcBg=s64",
      "userId": "08375370966839671912"
     },
     "user_tz": -330
    },
    "id": "5fQRhX6wzJCS"
   },
   "outputs": [],
   "source": [
    "from sklearn.model_selection import train_test_split\n",
    "x_train,x_test,y_train,y_test = train_test_split(X,y,test_size=0.33)"
   ]
  },
  {
   "cell_type": "markdown",
   "metadata": {
    "id": "eJdhYhgjzJCT"
   },
   "source": [
    "# Logistic Regression"
   ]
  },
  {
   "cell_type": "code",
   "execution_count": 22,
   "metadata": {
    "executionInfo": {
     "elapsed": 14213,
     "status": "ok",
     "timestamp": 1630507353885,
     "user": {
      "displayName": "Ramesh Ravindran",
      "photoUrl": "https://lh3.googleusercontent.com/a-/AOh14GhcjUie2zDWpQEXGBSui04ZAq0Nl9CR7dlOS1FcBg=s64",
      "userId": "08375370966839671912"
     },
     "user_tz": -330
    },
    "id": "wqotNSr7zJCT"
   },
   "outputs": [
    {
     "name": "stderr",
     "output_type": "stream",
     "text": [
      "C:\\Users\\TruProjects\\Anaconda3\\lib\\site-packages\\scipy\\optimize\\lbfgsb.py:329: DeprecationWarning: tostring() is deprecated. Use tobytes() instead.\n",
      "  task_str = task.tostring()\n",
      "C:\\Users\\TruProjects\\Anaconda3\\lib\\site-packages\\scipy\\optimize\\lbfgsb.py:329: DeprecationWarning: tostring() is deprecated. Use tobytes() instead.\n",
      "  task_str = task.tostring()\n",
      "C:\\Users\\TruProjects\\Anaconda3\\lib\\site-packages\\scipy\\optimize\\lbfgsb.py:329: DeprecationWarning: tostring() is deprecated. Use tobytes() instead.\n",
      "  task_str = task.tostring()\n",
      "C:\\Users\\TruProjects\\Anaconda3\\lib\\site-packages\\scipy\\optimize\\lbfgsb.py:329: DeprecationWarning: tostring() is deprecated. Use tobytes() instead.\n",
      "  task_str = task.tostring()\n",
      "C:\\Users\\TruProjects\\Anaconda3\\lib\\site-packages\\scipy\\optimize\\lbfgsb.py:329: DeprecationWarning: tostring() is deprecated. Use tobytes() instead.\n",
      "  task_str = task.tostring()\n",
      "C:\\Users\\TruProjects\\Anaconda3\\lib\\site-packages\\scipy\\optimize\\lbfgsb.py:329: DeprecationWarning: tostring() is deprecated. Use tobytes() instead.\n",
      "  task_str = task.tostring()\n",
      "C:\\Users\\TruProjects\\Anaconda3\\lib\\site-packages\\scipy\\optimize\\lbfgsb.py:329: DeprecationWarning: tostring() is deprecated. Use tobytes() instead.\n",
      "  task_str = task.tostring()\n",
      "C:\\Users\\TruProjects\\Anaconda3\\lib\\site-packages\\scipy\\optimize\\lbfgsb.py:329: DeprecationWarning: tostring() is deprecated. Use tobytes() instead.\n",
      "  task_str = task.tostring()\n",
      "C:\\Users\\TruProjects\\Anaconda3\\lib\\site-packages\\scipy\\optimize\\lbfgsb.py:329: DeprecationWarning: tostring() is deprecated. Use tobytes() instead.\n",
      "  task_str = task.tostring()\n",
      "C:\\Users\\TruProjects\\Anaconda3\\lib\\site-packages\\scipy\\optimize\\lbfgsb.py:329: DeprecationWarning: tostring() is deprecated. Use tobytes() instead.\n",
      "  task_str = task.tostring()\n",
      "C:\\Users\\TruProjects\\Anaconda3\\lib\\site-packages\\scipy\\optimize\\lbfgsb.py:329: DeprecationWarning: tostring() is deprecated. Use tobytes() instead.\n",
      "  task_str = task.tostring()\n",
      "C:\\Users\\TruProjects\\Anaconda3\\lib\\site-packages\\scipy\\optimize\\lbfgsb.py:329: DeprecationWarning: tostring() is deprecated. Use tobytes() instead.\n",
      "  task_str = task.tostring()\n",
      "C:\\Users\\TruProjects\\Anaconda3\\lib\\site-packages\\scipy\\optimize\\lbfgsb.py:329: DeprecationWarning: tostring() is deprecated. Use tobytes() instead.\n",
      "  task_str = task.tostring()\n",
      "C:\\Users\\TruProjects\\Anaconda3\\lib\\site-packages\\scipy\\optimize\\lbfgsb.py:329: DeprecationWarning: tostring() is deprecated. Use tobytes() instead.\n",
      "  task_str = task.tostring()\n",
      "C:\\Users\\TruProjects\\Anaconda3\\lib\\site-packages\\scipy\\optimize\\lbfgsb.py:329: DeprecationWarning: tostring() is deprecated. Use tobytes() instead.\n",
      "  task_str = task.tostring()\n",
      "C:\\Users\\TruProjects\\Anaconda3\\lib\\site-packages\\scipy\\optimize\\lbfgsb.py:329: DeprecationWarning: tostring() is deprecated. Use tobytes() instead.\n",
      "  task_str = task.tostring()\n",
      "C:\\Users\\TruProjects\\Anaconda3\\lib\\site-packages\\scipy\\optimize\\lbfgsb.py:329: DeprecationWarning: tostring() is deprecated. Use tobytes() instead.\n",
      "  task_str = task.tostring()\n",
      "C:\\Users\\TruProjects\\Anaconda3\\lib\\site-packages\\scipy\\optimize\\lbfgsb.py:329: DeprecationWarning: tostring() is deprecated. Use tobytes() instead.\n",
      "  task_str = task.tostring()\n",
      "C:\\Users\\TruProjects\\Anaconda3\\lib\\site-packages\\scipy\\optimize\\lbfgsb.py:329: DeprecationWarning: tostring() is deprecated. Use tobytes() instead.\n",
      "  task_str = task.tostring()\n",
      "C:\\Users\\TruProjects\\Anaconda3\\lib\\site-packages\\scipy\\optimize\\lbfgsb.py:329: DeprecationWarning: tostring() is deprecated. Use tobytes() instead.\n",
      "  task_str = task.tostring()\n",
      "C:\\Users\\TruProjects\\Anaconda3\\lib\\site-packages\\scipy\\optimize\\lbfgsb.py:329: DeprecationWarning: tostring() is deprecated. Use tobytes() instead.\n",
      "  task_str = task.tostring()\n",
      "C:\\Users\\TruProjects\\Anaconda3\\lib\\site-packages\\scipy\\optimize\\lbfgsb.py:329: DeprecationWarning: tostring() is deprecated. Use tobytes() instead.\n",
      "  task_str = task.tostring()\n",
      "C:\\Users\\TruProjects\\Anaconda3\\lib\\site-packages\\scipy\\optimize\\lbfgsb.py:329: DeprecationWarning: tostring() is deprecated. Use tobytes() instead.\n",
      "  task_str = task.tostring()\n",
      "C:\\Users\\TruProjects\\Anaconda3\\lib\\site-packages\\scipy\\optimize\\lbfgsb.py:329: DeprecationWarning: tostring() is deprecated. Use tobytes() instead.\n",
      "  task_str = task.tostring()\n",
      "C:\\Users\\TruProjects\\Anaconda3\\lib\\site-packages\\scipy\\optimize\\lbfgsb.py:329: DeprecationWarning: tostring() is deprecated. Use tobytes() instead.\n",
      "  task_str = task.tostring()\n",
      "C:\\Users\\TruProjects\\Anaconda3\\lib\\site-packages\\scipy\\optimize\\lbfgsb.py:329: DeprecationWarning: tostring() is deprecated. Use tobytes() instead.\n",
      "  task_str = task.tostring()\n",
      "C:\\Users\\TruProjects\\Anaconda3\\lib\\site-packages\\scipy\\optimize\\lbfgsb.py:329: DeprecationWarning: tostring() is deprecated. Use tobytes() instead.\n",
      "  task_str = task.tostring()\n",
      "C:\\Users\\TruProjects\\Anaconda3\\lib\\site-packages\\scipy\\optimize\\lbfgsb.py:329: DeprecationWarning: tostring() is deprecated. Use tobytes() instead.\n",
      "  task_str = task.tostring()\n",
      "C:\\Users\\TruProjects\\Anaconda3\\lib\\site-packages\\scipy\\optimize\\lbfgsb.py:329: DeprecationWarning: tostring() is deprecated. Use tobytes() instead.\n",
      "  task_str = task.tostring()\n",
      "C:\\Users\\TruProjects\\Anaconda3\\lib\\site-packages\\scipy\\optimize\\lbfgsb.py:329: DeprecationWarning: tostring() is deprecated. Use tobytes() instead.\n",
      "  task_str = task.tostring()\n",
      "C:\\Users\\TruProjects\\Anaconda3\\lib\\site-packages\\scipy\\optimize\\lbfgsb.py:329: DeprecationWarning: tostring() is deprecated. Use tobytes() instead.\n",
      "  task_str = task.tostring()\n",
      "C:\\Users\\TruProjects\\Anaconda3\\lib\\site-packages\\scipy\\optimize\\lbfgsb.py:329: DeprecationWarning: tostring() is deprecated. Use tobytes() instead.\n",
      "  task_str = task.tostring()\n",
      "C:\\Users\\TruProjects\\Anaconda3\\lib\\site-packages\\scipy\\optimize\\lbfgsb.py:329: DeprecationWarning: tostring() is deprecated. Use tobytes() instead.\n",
      "  task_str = task.tostring()\n",
      "C:\\Users\\TruProjects\\Anaconda3\\lib\\site-packages\\scipy\\optimize\\lbfgsb.py:329: DeprecationWarning: tostring() is deprecated. Use tobytes() instead.\n",
      "  task_str = task.tostring()\n",
      "C:\\Users\\TruProjects\\Anaconda3\\lib\\site-packages\\scipy\\optimize\\lbfgsb.py:329: DeprecationWarning: tostring() is deprecated. Use tobytes() instead.\n",
      "  task_str = task.tostring()\n",
      "C:\\Users\\TruProjects\\Anaconda3\\lib\\site-packages\\scipy\\optimize\\lbfgsb.py:329: DeprecationWarning: tostring() is deprecated. Use tobytes() instead.\n",
      "  task_str = task.tostring()\n",
      "C:\\Users\\TruProjects\\Anaconda3\\lib\\site-packages\\scipy\\optimize\\lbfgsb.py:329: DeprecationWarning: tostring() is deprecated. Use tobytes() instead.\n",
      "  task_str = task.tostring()\n",
      "C:\\Users\\TruProjects\\Anaconda3\\lib\\site-packages\\scipy\\optimize\\lbfgsb.py:329: DeprecationWarning: tostring() is deprecated. Use tobytes() instead.\n",
      "  task_str = task.tostring()\n",
      "C:\\Users\\TruProjects\\Anaconda3\\lib\\site-packages\\scipy\\optimize\\lbfgsb.py:329: DeprecationWarning: tostring() is deprecated. Use tobytes() instead.\n",
      "  task_str = task.tostring()\n",
      "C:\\Users\\TruProjects\\Anaconda3\\lib\\site-packages\\scipy\\optimize\\lbfgsb.py:329: DeprecationWarning: tostring() is deprecated. Use tobytes() instead.\n",
      "  task_str = task.tostring()\n",
      "C:\\Users\\TruProjects\\Anaconda3\\lib\\site-packages\\scipy\\optimize\\lbfgsb.py:329: DeprecationWarning: tostring() is deprecated. Use tobytes() instead.\n",
      "  task_str = task.tostring()\n",
      "C:\\Users\\TruProjects\\Anaconda3\\lib\\site-packages\\scipy\\optimize\\lbfgsb.py:329: DeprecationWarning: tostring() is deprecated. Use tobytes() instead.\n",
      "  task_str = task.tostring()\n",
      "C:\\Users\\TruProjects\\Anaconda3\\lib\\site-packages\\scipy\\optimize\\lbfgsb.py:329: DeprecationWarning: tostring() is deprecated. Use tobytes() instead.\n",
      "  task_str = task.tostring()\n",
      "C:\\Users\\TruProjects\\Anaconda3\\lib\\site-packages\\scipy\\optimize\\lbfgsb.py:329: DeprecationWarning: tostring() is deprecated. Use tobytes() instead.\n",
      "  task_str = task.tostring()\n",
      "C:\\Users\\TruProjects\\Anaconda3\\lib\\site-packages\\scipy\\optimize\\lbfgsb.py:329: DeprecationWarning: tostring() is deprecated. Use tobytes() instead.\n",
      "  task_str = task.tostring()\n",
      "C:\\Users\\TruProjects\\Anaconda3\\lib\\site-packages\\scipy\\optimize\\lbfgsb.py:329: DeprecationWarning: tostring() is deprecated. Use tobytes() instead.\n",
      "  task_str = task.tostring()\n",
      "C:\\Users\\TruProjects\\Anaconda3\\lib\\site-packages\\scipy\\optimize\\lbfgsb.py:329: DeprecationWarning: tostring() is deprecated. Use tobytes() instead.\n",
      "  task_str = task.tostring()\n",
      "C:\\Users\\TruProjects\\Anaconda3\\lib\\site-packages\\scipy\\optimize\\lbfgsb.py:329: DeprecationWarning: tostring() is deprecated. Use tobytes() instead.\n",
      "  task_str = task.tostring()\n"
     ]
    },
    {
     "name": "stderr",
     "output_type": "stream",
     "text": [
      "C:\\Users\\TruProjects\\Anaconda3\\lib\\site-packages\\scipy\\optimize\\lbfgsb.py:329: DeprecationWarning: tostring() is deprecated. Use tobytes() instead.\n",
      "  task_str = task.tostring()\n",
      "C:\\Users\\TruProjects\\Anaconda3\\lib\\site-packages\\scipy\\optimize\\lbfgsb.py:329: DeprecationWarning: tostring() is deprecated. Use tobytes() instead.\n",
      "  task_str = task.tostring()\n",
      "C:\\Users\\TruProjects\\Anaconda3\\lib\\site-packages\\scipy\\optimize\\lbfgsb.py:329: DeprecationWarning: tostring() is deprecated. Use tobytes() instead.\n",
      "  task_str = task.tostring()\n",
      "C:\\Users\\TruProjects\\Anaconda3\\lib\\site-packages\\scipy\\optimize\\lbfgsb.py:329: DeprecationWarning: tostring() is deprecated. Use tobytes() instead.\n",
      "  task_str = task.tostring()\n",
      "C:\\Users\\TruProjects\\Anaconda3\\lib\\site-packages\\scipy\\optimize\\lbfgsb.py:329: DeprecationWarning: tostring() is deprecated. Use tobytes() instead.\n",
      "  task_str = task.tostring()\n",
      "C:\\Users\\TruProjects\\Anaconda3\\lib\\site-packages\\scipy\\optimize\\lbfgsb.py:329: DeprecationWarning: tostring() is deprecated. Use tobytes() instead.\n",
      "  task_str = task.tostring()\n",
      "C:\\Users\\TruProjects\\Anaconda3\\lib\\site-packages\\scipy\\optimize\\lbfgsb.py:329: DeprecationWarning: tostring() is deprecated. Use tobytes() instead.\n",
      "  task_str = task.tostring()\n",
      "C:\\Users\\TruProjects\\Anaconda3\\lib\\site-packages\\scipy\\optimize\\lbfgsb.py:329: DeprecationWarning: tostring() is deprecated. Use tobytes() instead.\n",
      "  task_str = task.tostring()\n",
      "C:\\Users\\TruProjects\\Anaconda3\\lib\\site-packages\\scipy\\optimize\\lbfgsb.py:329: DeprecationWarning: tostring() is deprecated. Use tobytes() instead.\n",
      "  task_str = task.tostring()\n",
      "C:\\Users\\TruProjects\\Anaconda3\\lib\\site-packages\\scipy\\optimize\\lbfgsb.py:329: DeprecationWarning: tostring() is deprecated. Use tobytes() instead.\n",
      "  task_str = task.tostring()\n",
      "C:\\Users\\TruProjects\\Anaconda3\\lib\\site-packages\\scipy\\optimize\\lbfgsb.py:329: DeprecationWarning: tostring() is deprecated. Use tobytes() instead.\n",
      "  task_str = task.tostring()\n",
      "C:\\Users\\TruProjects\\Anaconda3\\lib\\site-packages\\scipy\\optimize\\lbfgsb.py:329: DeprecationWarning: tostring() is deprecated. Use tobytes() instead.\n",
      "  task_str = task.tostring()\n",
      "C:\\Users\\TruProjects\\Anaconda3\\lib\\site-packages\\scipy\\optimize\\lbfgsb.py:329: DeprecationWarning: tostring() is deprecated. Use tobytes() instead.\n",
      "  task_str = task.tostring()\n",
      "C:\\Users\\TruProjects\\Anaconda3\\lib\\site-packages\\scipy\\optimize\\lbfgsb.py:329: DeprecationWarning: tostring() is deprecated. Use tobytes() instead.\n",
      "  task_str = task.tostring()\n",
      "C:\\Users\\TruProjects\\Anaconda3\\lib\\site-packages\\scipy\\optimize\\lbfgsb.py:329: DeprecationWarning: tostring() is deprecated. Use tobytes() instead.\n",
      "  task_str = task.tostring()\n",
      "C:\\Users\\TruProjects\\Anaconda3\\lib\\site-packages\\scipy\\optimize\\lbfgsb.py:329: DeprecationWarning: tostring() is deprecated. Use tobytes() instead.\n",
      "  task_str = task.tostring()\n",
      "C:\\Users\\TruProjects\\Anaconda3\\lib\\site-packages\\scipy\\optimize\\lbfgsb.py:329: DeprecationWarning: tostring() is deprecated. Use tobytes() instead.\n",
      "  task_str = task.tostring()\n",
      "C:\\Users\\TruProjects\\Anaconda3\\lib\\site-packages\\scipy\\optimize\\lbfgsb.py:329: DeprecationWarning: tostring() is deprecated. Use tobytes() instead.\n",
      "  task_str = task.tostring()\n",
      "C:\\Users\\TruProjects\\Anaconda3\\lib\\site-packages\\scipy\\optimize\\lbfgsb.py:329: DeprecationWarning: tostring() is deprecated. Use tobytes() instead.\n",
      "  task_str = task.tostring()\n",
      "C:\\Users\\TruProjects\\Anaconda3\\lib\\site-packages\\scipy\\optimize\\lbfgsb.py:329: DeprecationWarning: tostring() is deprecated. Use tobytes() instead.\n",
      "  task_str = task.tostring()\n",
      "C:\\Users\\TruProjects\\Anaconda3\\lib\\site-packages\\scipy\\optimize\\lbfgsb.py:329: DeprecationWarning: tostring() is deprecated. Use tobytes() instead.\n",
      "  task_str = task.tostring()\n",
      "C:\\Users\\TruProjects\\Anaconda3\\lib\\site-packages\\scipy\\optimize\\lbfgsb.py:329: DeprecationWarning: tostring() is deprecated. Use tobytes() instead.\n",
      "  task_str = task.tostring()\n",
      "C:\\Users\\TruProjects\\Anaconda3\\lib\\site-packages\\scipy\\optimize\\lbfgsb.py:329: DeprecationWarning: tostring() is deprecated. Use tobytes() instead.\n",
      "  task_str = task.tostring()\n",
      "C:\\Users\\TruProjects\\Anaconda3\\lib\\site-packages\\scipy\\optimize\\lbfgsb.py:329: DeprecationWarning: tostring() is deprecated. Use tobytes() instead.\n",
      "  task_str = task.tostring()\n",
      "C:\\Users\\TruProjects\\Anaconda3\\lib\\site-packages\\scipy\\optimize\\lbfgsb.py:329: DeprecationWarning: tostring() is deprecated. Use tobytes() instead.\n",
      "  task_str = task.tostring()\n",
      "C:\\Users\\TruProjects\\Anaconda3\\lib\\site-packages\\scipy\\optimize\\lbfgsb.py:329: DeprecationWarning: tostring() is deprecated. Use tobytes() instead.\n",
      "  task_str = task.tostring()\n",
      "C:\\Users\\TruProjects\\Anaconda3\\lib\\site-packages\\scipy\\optimize\\lbfgsb.py:329: DeprecationWarning: tostring() is deprecated. Use tobytes() instead.\n",
      "  task_str = task.tostring()\n",
      "C:\\Users\\TruProjects\\Anaconda3\\lib\\site-packages\\scipy\\optimize\\lbfgsb.py:329: DeprecationWarning: tostring() is deprecated. Use tobytes() instead.\n",
      "  task_str = task.tostring()\n",
      "C:\\Users\\TruProjects\\Anaconda3\\lib\\site-packages\\scipy\\optimize\\lbfgsb.py:329: DeprecationWarning: tostring() is deprecated. Use tobytes() instead.\n",
      "  task_str = task.tostring()\n",
      "C:\\Users\\TruProjects\\Anaconda3\\lib\\site-packages\\scipy\\optimize\\lbfgsb.py:329: DeprecationWarning: tostring() is deprecated. Use tobytes() instead.\n",
      "  task_str = task.tostring()\n",
      "C:\\Users\\TruProjects\\Anaconda3\\lib\\site-packages\\scipy\\optimize\\lbfgsb.py:329: DeprecationWarning: tostring() is deprecated. Use tobytes() instead.\n",
      "  task_str = task.tostring()\n",
      "C:\\Users\\TruProjects\\Anaconda3\\lib\\site-packages\\scipy\\optimize\\lbfgsb.py:329: DeprecationWarning: tostring() is deprecated. Use tobytes() instead.\n",
      "  task_str = task.tostring()\n",
      "C:\\Users\\TruProjects\\Anaconda3\\lib\\site-packages\\scipy\\optimize\\lbfgsb.py:329: DeprecationWarning: tostring() is deprecated. Use tobytes() instead.\n",
      "  task_str = task.tostring()\n",
      "C:\\Users\\TruProjects\\Anaconda3\\lib\\site-packages\\scipy\\optimize\\lbfgsb.py:329: DeprecationWarning: tostring() is deprecated. Use tobytes() instead.\n",
      "  task_str = task.tostring()\n",
      "C:\\Users\\TruProjects\\Anaconda3\\lib\\site-packages\\scipy\\optimize\\lbfgsb.py:329: DeprecationWarning: tostring() is deprecated. Use tobytes() instead.\n",
      "  task_str = task.tostring()\n",
      "C:\\Users\\TruProjects\\Anaconda3\\lib\\site-packages\\scipy\\optimize\\lbfgsb.py:329: DeprecationWarning: tostring() is deprecated. Use tobytes() instead.\n",
      "  task_str = task.tostring()\n",
      "C:\\Users\\TruProjects\\Anaconda3\\lib\\site-packages\\scipy\\optimize\\lbfgsb.py:329: DeprecationWarning: tostring() is deprecated. Use tobytes() instead.\n",
      "  task_str = task.tostring()\n",
      "C:\\Users\\TruProjects\\Anaconda3\\lib\\site-packages\\scipy\\optimize\\lbfgsb.py:329: DeprecationWarning: tostring() is deprecated. Use tobytes() instead.\n",
      "  task_str = task.tostring()\n",
      "C:\\Users\\TruProjects\\Anaconda3\\lib\\site-packages\\scipy\\optimize\\lbfgsb.py:329: DeprecationWarning: tostring() is deprecated. Use tobytes() instead.\n",
      "  task_str = task.tostring()\n",
      "C:\\Users\\TruProjects\\Anaconda3\\lib\\site-packages\\scipy\\optimize\\lbfgsb.py:329: DeprecationWarning: tostring() is deprecated. Use tobytes() instead.\n",
      "  task_str = task.tostring()\n",
      "C:\\Users\\TruProjects\\Anaconda3\\lib\\site-packages\\scipy\\optimize\\lbfgsb.py:329: DeprecationWarning: tostring() is deprecated. Use tobytes() instead.\n",
      "  task_str = task.tostring()\n",
      "C:\\Users\\TruProjects\\Anaconda3\\lib\\site-packages\\scipy\\optimize\\lbfgsb.py:329: DeprecationWarning: tostring() is deprecated. Use tobytes() instead.\n",
      "  task_str = task.tostring()\n",
      "C:\\Users\\TruProjects\\Anaconda3\\lib\\site-packages\\scipy\\optimize\\lbfgsb.py:329: DeprecationWarning: tostring() is deprecated. Use tobytes() instead.\n",
      "  task_str = task.tostring()\n",
      "C:\\Users\\TruProjects\\Anaconda3\\lib\\site-packages\\scipy\\optimize\\lbfgsb.py:329: DeprecationWarning: tostring() is deprecated. Use tobytes() instead.\n",
      "  task_str = task.tostring()\n",
      "C:\\Users\\TruProjects\\Anaconda3\\lib\\site-packages\\scipy\\optimize\\lbfgsb.py:329: DeprecationWarning: tostring() is deprecated. Use tobytes() instead.\n",
      "  task_str = task.tostring()\n",
      "C:\\Users\\TruProjects\\Anaconda3\\lib\\site-packages\\scipy\\optimize\\lbfgsb.py:329: DeprecationWarning: tostring() is deprecated. Use tobytes() instead.\n",
      "  task_str = task.tostring()\n",
      "C:\\Users\\TruProjects\\Anaconda3\\lib\\site-packages\\scipy\\optimize\\lbfgsb.py:329: DeprecationWarning: tostring() is deprecated. Use tobytes() instead.\n",
      "  task_str = task.tostring()\n",
      "C:\\Users\\TruProjects\\Anaconda3\\lib\\site-packages\\scipy\\optimize\\lbfgsb.py:329: DeprecationWarning: tostring() is deprecated. Use tobytes() instead.\n",
      "  task_str = task.tostring()\n",
      "C:\\Users\\TruProjects\\Anaconda3\\lib\\site-packages\\scipy\\optimize\\lbfgsb.py:329: DeprecationWarning: tostring() is deprecated. Use tobytes() instead.\n",
      "  task_str = task.tostring()\n",
      "C:\\Users\\TruProjects\\Anaconda3\\lib\\site-packages\\scipy\\optimize\\lbfgsb.py:329: DeprecationWarning: tostring() is deprecated. Use tobytes() instead.\n",
      "  task_str = task.tostring()\n"
     ]
    },
    {
     "name": "stderr",
     "output_type": "stream",
     "text": [
      "C:\\Users\\TruProjects\\Anaconda3\\lib\\site-packages\\scipy\\optimize\\lbfgsb.py:329: DeprecationWarning: tostring() is deprecated. Use tobytes() instead.\n",
      "  task_str = task.tostring()\n",
      "C:\\Users\\TruProjects\\Anaconda3\\lib\\site-packages\\scipy\\optimize\\lbfgsb.py:329: DeprecationWarning: tostring() is deprecated. Use tobytes() instead.\n",
      "  task_str = task.tostring()\n",
      "C:\\Users\\TruProjects\\Anaconda3\\lib\\site-packages\\scipy\\optimize\\lbfgsb.py:329: DeprecationWarning: tostring() is deprecated. Use tobytes() instead.\n",
      "  task_str = task.tostring()\n",
      "C:\\Users\\TruProjects\\Anaconda3\\lib\\site-packages\\scipy\\optimize\\lbfgsb.py:329: DeprecationWarning: tostring() is deprecated. Use tobytes() instead.\n",
      "  task_str = task.tostring()\n",
      "C:\\Users\\TruProjects\\Anaconda3\\lib\\site-packages\\scipy\\optimize\\lbfgsb.py:329: DeprecationWarning: tostring() is deprecated. Use tobytes() instead.\n",
      "  task_str = task.tostring()\n",
      "C:\\Users\\TruProjects\\Anaconda3\\lib\\site-packages\\scipy\\optimize\\lbfgsb.py:329: DeprecationWarning: tostring() is deprecated. Use tobytes() instead.\n",
      "  task_str = task.tostring()\n",
      "C:\\Users\\TruProjects\\Anaconda3\\lib\\site-packages\\scipy\\optimize\\lbfgsb.py:329: DeprecationWarning: tostring() is deprecated. Use tobytes() instead.\n",
      "  task_str = task.tostring()\n",
      "C:\\Users\\TruProjects\\Anaconda3\\lib\\site-packages\\scipy\\optimize\\lbfgsb.py:329: DeprecationWarning: tostring() is deprecated. Use tobytes() instead.\n",
      "  task_str = task.tostring()\n",
      "C:\\Users\\TruProjects\\Anaconda3\\lib\\site-packages\\scipy\\optimize\\lbfgsb.py:329: DeprecationWarning: tostring() is deprecated. Use tobytes() instead.\n",
      "  task_str = task.tostring()\n",
      "C:\\Users\\TruProjects\\Anaconda3\\lib\\site-packages\\scipy\\optimize\\lbfgsb.py:329: DeprecationWarning: tostring() is deprecated. Use tobytes() instead.\n",
      "  task_str = task.tostring()\n",
      "C:\\Users\\TruProjects\\Anaconda3\\lib\\site-packages\\scipy\\optimize\\lbfgsb.py:329: DeprecationWarning: tostring() is deprecated. Use tobytes() instead.\n",
      "  task_str = task.tostring()\n",
      "C:\\Users\\TruProjects\\Anaconda3\\lib\\site-packages\\scipy\\optimize\\lbfgsb.py:329: DeprecationWarning: tostring() is deprecated. Use tobytes() instead.\n",
      "  task_str = task.tostring()\n",
      "C:\\Users\\TruProjects\\Anaconda3\\lib\\site-packages\\scipy\\optimize\\lbfgsb.py:329: DeprecationWarning: tostring() is deprecated. Use tobytes() instead.\n",
      "  task_str = task.tostring()\n",
      "C:\\Users\\TruProjects\\Anaconda3\\lib\\site-packages\\scipy\\optimize\\lbfgsb.py:329: DeprecationWarning: tostring() is deprecated. Use tobytes() instead.\n",
      "  task_str = task.tostring()\n",
      "C:\\Users\\TruProjects\\Anaconda3\\lib\\site-packages\\scipy\\optimize\\lbfgsb.py:329: DeprecationWarning: tostring() is deprecated. Use tobytes() instead.\n",
      "  task_str = task.tostring()\n",
      "C:\\Users\\TruProjects\\Anaconda3\\lib\\site-packages\\scipy\\optimize\\lbfgsb.py:329: DeprecationWarning: tostring() is deprecated. Use tobytes() instead.\n",
      "  task_str = task.tostring()\n",
      "C:\\Users\\TruProjects\\Anaconda3\\lib\\site-packages\\scipy\\optimize\\lbfgsb.py:329: DeprecationWarning: tostring() is deprecated. Use tobytes() instead.\n",
      "  task_str = task.tostring()\n",
      "C:\\Users\\TruProjects\\Anaconda3\\lib\\site-packages\\scipy\\optimize\\lbfgsb.py:329: DeprecationWarning: tostring() is deprecated. Use tobytes() instead.\n",
      "  task_str = task.tostring()\n",
      "C:\\Users\\TruProjects\\Anaconda3\\lib\\site-packages\\scipy\\optimize\\lbfgsb.py:329: DeprecationWarning: tostring() is deprecated. Use tobytes() instead.\n",
      "  task_str = task.tostring()\n",
      "C:\\Users\\TruProjects\\Anaconda3\\lib\\site-packages\\scipy\\optimize\\lbfgsb.py:329: DeprecationWarning: tostring() is deprecated. Use tobytes() instead.\n",
      "  task_str = task.tostring()\n",
      "C:\\Users\\TruProjects\\Anaconda3\\lib\\site-packages\\scipy\\optimize\\lbfgsb.py:329: DeprecationWarning: tostring() is deprecated. Use tobytes() instead.\n",
      "  task_str = task.tostring()\n",
      "C:\\Users\\TruProjects\\Anaconda3\\lib\\site-packages\\scipy\\optimize\\lbfgsb.py:329: DeprecationWarning: tostring() is deprecated. Use tobytes() instead.\n",
      "  task_str = task.tostring()\n",
      "C:\\Users\\TruProjects\\Anaconda3\\lib\\site-packages\\scipy\\optimize\\lbfgsb.py:329: DeprecationWarning: tostring() is deprecated. Use tobytes() instead.\n",
      "  task_str = task.tostring()\n",
      "C:\\Users\\TruProjects\\Anaconda3\\lib\\site-packages\\scipy\\optimize\\lbfgsb.py:329: DeprecationWarning: tostring() is deprecated. Use tobytes() instead.\n",
      "  task_str = task.tostring()\n",
      "C:\\Users\\TruProjects\\Anaconda3\\lib\\site-packages\\scipy\\optimize\\lbfgsb.py:329: DeprecationWarning: tostring() is deprecated. Use tobytes() instead.\n",
      "  task_str = task.tostring()\n",
      "C:\\Users\\TruProjects\\Anaconda3\\lib\\site-packages\\scipy\\optimize\\lbfgsb.py:329: DeprecationWarning: tostring() is deprecated. Use tobytes() instead.\n",
      "  task_str = task.tostring()\n",
      "C:\\Users\\TruProjects\\Anaconda3\\lib\\site-packages\\scipy\\optimize\\lbfgsb.py:329: DeprecationWarning: tostring() is deprecated. Use tobytes() instead.\n",
      "  task_str = task.tostring()\n",
      "C:\\Users\\TruProjects\\Anaconda3\\lib\\site-packages\\scipy\\optimize\\lbfgsb.py:329: DeprecationWarning: tostring() is deprecated. Use tobytes() instead.\n",
      "  task_str = task.tostring()\n",
      "C:\\Users\\TruProjects\\Anaconda3\\lib\\site-packages\\scipy\\optimize\\lbfgsb.py:329: DeprecationWarning: tostring() is deprecated. Use tobytes() instead.\n",
      "  task_str = task.tostring()\n",
      "C:\\Users\\TruProjects\\Anaconda3\\lib\\site-packages\\scipy\\optimize\\lbfgsb.py:329: DeprecationWarning: tostring() is deprecated. Use tobytes() instead.\n",
      "  task_str = task.tostring()\n",
      "C:\\Users\\TruProjects\\Anaconda3\\lib\\site-packages\\scipy\\optimize\\lbfgsb.py:329: DeprecationWarning: tostring() is deprecated. Use tobytes() instead.\n",
      "  task_str = task.tostring()\n",
      "C:\\Users\\TruProjects\\Anaconda3\\lib\\site-packages\\scipy\\optimize\\lbfgsb.py:329: DeprecationWarning: tostring() is deprecated. Use tobytes() instead.\n",
      "  task_str = task.tostring()\n",
      "C:\\Users\\TruProjects\\Anaconda3\\lib\\site-packages\\scipy\\optimize\\lbfgsb.py:329: DeprecationWarning: tostring() is deprecated. Use tobytes() instead.\n",
      "  task_str = task.tostring()\n",
      "C:\\Users\\TruProjects\\Anaconda3\\lib\\site-packages\\scipy\\optimize\\lbfgsb.py:329: DeprecationWarning: tostring() is deprecated. Use tobytes() instead.\n",
      "  task_str = task.tostring()\n",
      "C:\\Users\\TruProjects\\Anaconda3\\lib\\site-packages\\scipy\\optimize\\lbfgsb.py:329: DeprecationWarning: tostring() is deprecated. Use tobytes() instead.\n",
      "  task_str = task.tostring()\n",
      "C:\\Users\\TruProjects\\Anaconda3\\lib\\site-packages\\scipy\\optimize\\lbfgsb.py:329: DeprecationWarning: tostring() is deprecated. Use tobytes() instead.\n",
      "  task_str = task.tostring()\n",
      "C:\\Users\\TruProjects\\Anaconda3\\lib\\site-packages\\scipy\\optimize\\lbfgsb.py:329: DeprecationWarning: tostring() is deprecated. Use tobytes() instead.\n",
      "  task_str = task.tostring()\n",
      "C:\\Users\\TruProjects\\Anaconda3\\lib\\site-packages\\scipy\\optimize\\lbfgsb.py:329: DeprecationWarning: tostring() is deprecated. Use tobytes() instead.\n",
      "  task_str = task.tostring()\n",
      "C:\\Users\\TruProjects\\Anaconda3\\lib\\site-packages\\scipy\\optimize\\lbfgsb.py:329: DeprecationWarning: tostring() is deprecated. Use tobytes() instead.\n",
      "  task_str = task.tostring()\n",
      "C:\\Users\\TruProjects\\Anaconda3\\lib\\site-packages\\scipy\\optimize\\lbfgsb.py:329: DeprecationWarning: tostring() is deprecated. Use tobytes() instead.\n",
      "  task_str = task.tostring()\n",
      "C:\\Users\\TruProjects\\Anaconda3\\lib\\site-packages\\scipy\\optimize\\lbfgsb.py:329: DeprecationWarning: tostring() is deprecated. Use tobytes() instead.\n",
      "  task_str = task.tostring()\n",
      "C:\\Users\\TruProjects\\Anaconda3\\lib\\site-packages\\scipy\\optimize\\lbfgsb.py:329: DeprecationWarning: tostring() is deprecated. Use tobytes() instead.\n",
      "  task_str = task.tostring()\n",
      "C:\\Users\\TruProjects\\Anaconda3\\lib\\site-packages\\scipy\\optimize\\lbfgsb.py:329: DeprecationWarning: tostring() is deprecated. Use tobytes() instead.\n",
      "  task_str = task.tostring()\n",
      "C:\\Users\\TruProjects\\Anaconda3\\lib\\site-packages\\scipy\\optimize\\lbfgsb.py:329: DeprecationWarning: tostring() is deprecated. Use tobytes() instead.\n",
      "  task_str = task.tostring()\n",
      "C:\\Users\\TruProjects\\Anaconda3\\lib\\site-packages\\scipy\\optimize\\lbfgsb.py:329: DeprecationWarning: tostring() is deprecated. Use tobytes() instead.\n",
      "  task_str = task.tostring()\n",
      "C:\\Users\\TruProjects\\Anaconda3\\lib\\site-packages\\scipy\\optimize\\lbfgsb.py:329: DeprecationWarning: tostring() is deprecated. Use tobytes() instead.\n",
      "  task_str = task.tostring()\n",
      "C:\\Users\\TruProjects\\Anaconda3\\lib\\site-packages\\scipy\\optimize\\lbfgsb.py:329: DeprecationWarning: tostring() is deprecated. Use tobytes() instead.\n",
      "  task_str = task.tostring()\n",
      "C:\\Users\\TruProjects\\Anaconda3\\lib\\site-packages\\scipy\\optimize\\lbfgsb.py:329: DeprecationWarning: tostring() is deprecated. Use tobytes() instead.\n",
      "  task_str = task.tostring()\n",
      "C:\\Users\\TruProjects\\Anaconda3\\lib\\site-packages\\scipy\\optimize\\lbfgsb.py:329: DeprecationWarning: tostring() is deprecated. Use tobytes() instead.\n",
      "  task_str = task.tostring()\n"
     ]
    },
    {
     "name": "stderr",
     "output_type": "stream",
     "text": [
      "C:\\Users\\TruProjects\\Anaconda3\\lib\\site-packages\\scipy\\optimize\\lbfgsb.py:329: DeprecationWarning: tostring() is deprecated. Use tobytes() instead.\n",
      "  task_str = task.tostring()\n",
      "C:\\Users\\TruProjects\\Anaconda3\\lib\\site-packages\\scipy\\optimize\\lbfgsb.py:329: DeprecationWarning: tostring() is deprecated. Use tobytes() instead.\n",
      "  task_str = task.tostring()\n",
      "C:\\Users\\TruProjects\\Anaconda3\\lib\\site-packages\\scipy\\optimize\\lbfgsb.py:329: DeprecationWarning: tostring() is deprecated. Use tobytes() instead.\n",
      "  task_str = task.tostring()\n",
      "C:\\Users\\TruProjects\\Anaconda3\\lib\\site-packages\\scipy\\optimize\\lbfgsb.py:329: DeprecationWarning: tostring() is deprecated. Use tobytes() instead.\n",
      "  task_str = task.tostring()\n",
      "C:\\Users\\TruProjects\\Anaconda3\\lib\\site-packages\\scipy\\optimize\\lbfgsb.py:329: DeprecationWarning: tostring() is deprecated. Use tobytes() instead.\n",
      "  task_str = task.tostring()\n",
      "C:\\Users\\TruProjects\\Anaconda3\\lib\\site-packages\\scipy\\optimize\\lbfgsb.py:329: DeprecationWarning: tostring() is deprecated. Use tobytes() instead.\n",
      "  task_str = task.tostring()\n",
      "C:\\Users\\TruProjects\\Anaconda3\\lib\\site-packages\\scipy\\optimize\\lbfgsb.py:329: DeprecationWarning: tostring() is deprecated. Use tobytes() instead.\n",
      "  task_str = task.tostring()\n",
      "C:\\Users\\TruProjects\\Anaconda3\\lib\\site-packages\\scipy\\optimize\\lbfgsb.py:329: DeprecationWarning: tostring() is deprecated. Use tobytes() instead.\n",
      "  task_str = task.tostring()\n",
      "C:\\Users\\TruProjects\\Anaconda3\\lib\\site-packages\\scipy\\optimize\\lbfgsb.py:329: DeprecationWarning: tostring() is deprecated. Use tobytes() instead.\n",
      "  task_str = task.tostring()\n",
      "C:\\Users\\TruProjects\\Anaconda3\\lib\\site-packages\\scipy\\optimize\\lbfgsb.py:329: DeprecationWarning: tostring() is deprecated. Use tobytes() instead.\n",
      "  task_str = task.tostring()\n",
      "C:\\Users\\TruProjects\\Anaconda3\\lib\\site-packages\\scipy\\optimize\\lbfgsb.py:329: DeprecationWarning: tostring() is deprecated. Use tobytes() instead.\n",
      "  task_str = task.tostring()\n",
      "C:\\Users\\TruProjects\\Anaconda3\\lib\\site-packages\\scipy\\optimize\\lbfgsb.py:329: DeprecationWarning: tostring() is deprecated. Use tobytes() instead.\n",
      "  task_str = task.tostring()\n",
      "C:\\Users\\TruProjects\\Anaconda3\\lib\\site-packages\\scipy\\optimize\\lbfgsb.py:329: DeprecationWarning: tostring() is deprecated. Use tobytes() instead.\n",
      "  task_str = task.tostring()\n",
      "C:\\Users\\TruProjects\\Anaconda3\\lib\\site-packages\\scipy\\optimize\\lbfgsb.py:329: DeprecationWarning: tostring() is deprecated. Use tobytes() instead.\n",
      "  task_str = task.tostring()\n",
      "C:\\Users\\TruProjects\\Anaconda3\\lib\\site-packages\\scipy\\optimize\\lbfgsb.py:329: DeprecationWarning: tostring() is deprecated. Use tobytes() instead.\n",
      "  task_str = task.tostring()\n",
      "C:\\Users\\TruProjects\\Anaconda3\\lib\\site-packages\\scipy\\optimize\\lbfgsb.py:329: DeprecationWarning: tostring() is deprecated. Use tobytes() instead.\n",
      "  task_str = task.tostring()\n",
      "C:\\Users\\TruProjects\\Anaconda3\\lib\\site-packages\\scipy\\optimize\\lbfgsb.py:329: DeprecationWarning: tostring() is deprecated. Use tobytes() instead.\n",
      "  task_str = task.tostring()\n",
      "C:\\Users\\TruProjects\\Anaconda3\\lib\\site-packages\\scipy\\optimize\\lbfgsb.py:329: DeprecationWarning: tostring() is deprecated. Use tobytes() instead.\n",
      "  task_str = task.tostring()\n",
      "C:\\Users\\TruProjects\\Anaconda3\\lib\\site-packages\\scipy\\optimize\\lbfgsb.py:329: DeprecationWarning: tostring() is deprecated. Use tobytes() instead.\n",
      "  task_str = task.tostring()\n",
      "C:\\Users\\TruProjects\\Anaconda3\\lib\\site-packages\\scipy\\optimize\\lbfgsb.py:329: DeprecationWarning: tostring() is deprecated. Use tobytes() instead.\n",
      "  task_str = task.tostring()\n",
      "C:\\Users\\TruProjects\\Anaconda3\\lib\\site-packages\\scipy\\optimize\\lbfgsb.py:329: DeprecationWarning: tostring() is deprecated. Use tobytes() instead.\n",
      "  task_str = task.tostring()\n",
      "C:\\Users\\TruProjects\\Anaconda3\\lib\\site-packages\\scipy\\optimize\\lbfgsb.py:329: DeprecationWarning: tostring() is deprecated. Use tobytes() instead.\n",
      "  task_str = task.tostring()\n",
      "C:\\Users\\TruProjects\\Anaconda3\\lib\\site-packages\\scipy\\optimize\\lbfgsb.py:329: DeprecationWarning: tostring() is deprecated. Use tobytes() instead.\n",
      "  task_str = task.tostring()\n",
      "C:\\Users\\TruProjects\\Anaconda3\\lib\\site-packages\\scipy\\optimize\\lbfgsb.py:329: DeprecationWarning: tostring() is deprecated. Use tobytes() instead.\n",
      "  task_str = task.tostring()\n",
      "C:\\Users\\TruProjects\\Anaconda3\\lib\\site-packages\\scipy\\optimize\\lbfgsb.py:329: DeprecationWarning: tostring() is deprecated. Use tobytes() instead.\n",
      "  task_str = task.tostring()\n",
      "C:\\Users\\TruProjects\\Anaconda3\\lib\\site-packages\\scipy\\optimize\\lbfgsb.py:329: DeprecationWarning: tostring() is deprecated. Use tobytes() instead.\n",
      "  task_str = task.tostring()\n",
      "C:\\Users\\TruProjects\\Anaconda3\\lib\\site-packages\\scipy\\optimize\\lbfgsb.py:329: DeprecationWarning: tostring() is deprecated. Use tobytes() instead.\n",
      "  task_str = task.tostring()\n",
      "C:\\Users\\TruProjects\\Anaconda3\\lib\\site-packages\\scipy\\optimize\\lbfgsb.py:329: DeprecationWarning: tostring() is deprecated. Use tobytes() instead.\n",
      "  task_str = task.tostring()\n",
      "C:\\Users\\TruProjects\\Anaconda3\\lib\\site-packages\\scipy\\optimize\\lbfgsb.py:329: DeprecationWarning: tostring() is deprecated. Use tobytes() instead.\n",
      "  task_str = task.tostring()\n",
      "C:\\Users\\TruProjects\\Anaconda3\\lib\\site-packages\\scipy\\optimize\\lbfgsb.py:329: DeprecationWarning: tostring() is deprecated. Use tobytes() instead.\n",
      "  task_str = task.tostring()\n",
      "C:\\Users\\TruProjects\\Anaconda3\\lib\\site-packages\\scipy\\optimize\\lbfgsb.py:329: DeprecationWarning: tostring() is deprecated. Use tobytes() instead.\n",
      "  task_str = task.tostring()\n",
      "C:\\Users\\TruProjects\\Anaconda3\\lib\\site-packages\\scipy\\optimize\\lbfgsb.py:329: DeprecationWarning: tostring() is deprecated. Use tobytes() instead.\n",
      "  task_str = task.tostring()\n",
      "C:\\Users\\TruProjects\\Anaconda3\\lib\\site-packages\\scipy\\optimize\\lbfgsb.py:329: DeprecationWarning: tostring() is deprecated. Use tobytes() instead.\n",
      "  task_str = task.tostring()\n",
      "C:\\Users\\TruProjects\\Anaconda3\\lib\\site-packages\\scipy\\optimize\\lbfgsb.py:329: DeprecationWarning: tostring() is deprecated. Use tobytes() instead.\n",
      "  task_str = task.tostring()\n",
      "C:\\Users\\TruProjects\\Anaconda3\\lib\\site-packages\\scipy\\optimize\\lbfgsb.py:329: DeprecationWarning: tostring() is deprecated. Use tobytes() instead.\n",
      "  task_str = task.tostring()\n",
      "C:\\Users\\TruProjects\\Anaconda3\\lib\\site-packages\\scipy\\optimize\\lbfgsb.py:329: DeprecationWarning: tostring() is deprecated. Use tobytes() instead.\n",
      "  task_str = task.tostring()\n",
      "C:\\Users\\TruProjects\\Anaconda3\\lib\\site-packages\\scipy\\optimize\\lbfgsb.py:329: DeprecationWarning: tostring() is deprecated. Use tobytes() instead.\n",
      "  task_str = task.tostring()\n",
      "C:\\Users\\TruProjects\\Anaconda3\\lib\\site-packages\\scipy\\optimize\\lbfgsb.py:329: DeprecationWarning: tostring() is deprecated. Use tobytes() instead.\n",
      "  task_str = task.tostring()\n",
      "C:\\Users\\TruProjects\\Anaconda3\\lib\\site-packages\\scipy\\optimize\\lbfgsb.py:329: DeprecationWarning: tostring() is deprecated. Use tobytes() instead.\n",
      "  task_str = task.tostring()\n",
      "C:\\Users\\TruProjects\\Anaconda3\\lib\\site-packages\\scipy\\optimize\\lbfgsb.py:329: DeprecationWarning: tostring() is deprecated. Use tobytes() instead.\n",
      "  task_str = task.tostring()\n",
      "C:\\Users\\TruProjects\\Anaconda3\\lib\\site-packages\\scipy\\optimize\\lbfgsb.py:329: DeprecationWarning: tostring() is deprecated. Use tobytes() instead.\n",
      "  task_str = task.tostring()\n",
      "C:\\Users\\TruProjects\\Anaconda3\\lib\\site-packages\\scipy\\optimize\\lbfgsb.py:329: DeprecationWarning: tostring() is deprecated. Use tobytes() instead.\n",
      "  task_str = task.tostring()\n",
      "C:\\Users\\TruProjects\\Anaconda3\\lib\\site-packages\\scipy\\optimize\\lbfgsb.py:329: DeprecationWarning: tostring() is deprecated. Use tobytes() instead.\n",
      "  task_str = task.tostring()\n",
      "C:\\Users\\TruProjects\\Anaconda3\\lib\\site-packages\\scipy\\optimize\\lbfgsb.py:329: DeprecationWarning: tostring() is deprecated. Use tobytes() instead.\n",
      "  task_str = task.tostring()\n",
      "C:\\Users\\TruProjects\\Anaconda3\\lib\\site-packages\\scipy\\optimize\\lbfgsb.py:329: DeprecationWarning: tostring() is deprecated. Use tobytes() instead.\n",
      "  task_str = task.tostring()\n",
      "C:\\Users\\TruProjects\\Anaconda3\\lib\\site-packages\\scipy\\optimize\\lbfgsb.py:329: DeprecationWarning: tostring() is deprecated. Use tobytes() instead.\n",
      "  task_str = task.tostring()\n",
      "C:\\Users\\TruProjects\\Anaconda3\\lib\\site-packages\\scipy\\optimize\\lbfgsb.py:329: DeprecationWarning: tostring() is deprecated. Use tobytes() instead.\n",
      "  task_str = task.tostring()\n",
      "C:\\Users\\TruProjects\\Anaconda3\\lib\\site-packages\\scipy\\optimize\\lbfgsb.py:329: DeprecationWarning: tostring() is deprecated. Use tobytes() instead.\n",
      "  task_str = task.tostring()\n",
      "C:\\Users\\TruProjects\\Anaconda3\\lib\\site-packages\\scipy\\optimize\\lbfgsb.py:329: DeprecationWarning: tostring() is deprecated. Use tobytes() instead.\n",
      "  task_str = task.tostring()\n",
      "C:\\Users\\TruProjects\\Anaconda3\\lib\\site-packages\\scipy\\optimize\\lbfgsb.py:329: DeprecationWarning: tostring() is deprecated. Use tobytes() instead.\n",
      "  task_str = task.tostring()\n"
     ]
    },
    {
     "name": "stderr",
     "output_type": "stream",
     "text": [
      "C:\\Users\\TruProjects\\Anaconda3\\lib\\site-packages\\scipy\\optimize\\lbfgsb.py:329: DeprecationWarning: tostring() is deprecated. Use tobytes() instead.\n",
      "  task_str = task.tostring()\n",
      "C:\\Users\\TruProjects\\Anaconda3\\lib\\site-packages\\scipy\\optimize\\lbfgsb.py:329: DeprecationWarning: tostring() is deprecated. Use tobytes() instead.\n",
      "  task_str = task.tostring()\n",
      "C:\\Users\\TruProjects\\Anaconda3\\lib\\site-packages\\scipy\\optimize\\lbfgsb.py:329: DeprecationWarning: tostring() is deprecated. Use tobytes() instead.\n",
      "  task_str = task.tostring()\n",
      "C:\\Users\\TruProjects\\Anaconda3\\lib\\site-packages\\scipy\\optimize\\lbfgsb.py:329: DeprecationWarning: tostring() is deprecated. Use tobytes() instead.\n",
      "  task_str = task.tostring()\n",
      "C:\\Users\\TruProjects\\Anaconda3\\lib\\site-packages\\scipy\\optimize\\lbfgsb.py:329: DeprecationWarning: tostring() is deprecated. Use tobytes() instead.\n",
      "  task_str = task.tostring()\n",
      "C:\\Users\\TruProjects\\Anaconda3\\lib\\site-packages\\scipy\\optimize\\lbfgsb.py:329: DeprecationWarning: tostring() is deprecated. Use tobytes() instead.\n",
      "  task_str = task.tostring()\n",
      "C:\\Users\\TruProjects\\Anaconda3\\lib\\site-packages\\scipy\\optimize\\lbfgsb.py:329: DeprecationWarning: tostring() is deprecated. Use tobytes() instead.\n",
      "  task_str = task.tostring()\n",
      "C:\\Users\\TruProjects\\Anaconda3\\lib\\site-packages\\scipy\\optimize\\lbfgsb.py:329: DeprecationWarning: tostring() is deprecated. Use tobytes() instead.\n",
      "  task_str = task.tostring()\n",
      "C:\\Users\\TruProjects\\Anaconda3\\lib\\site-packages\\scipy\\optimize\\lbfgsb.py:329: DeprecationWarning: tostring() is deprecated. Use tobytes() instead.\n",
      "  task_str = task.tostring()\n",
      "C:\\Users\\TruProjects\\Anaconda3\\lib\\site-packages\\scipy\\optimize\\lbfgsb.py:329: DeprecationWarning: tostring() is deprecated. Use tobytes() instead.\n",
      "  task_str = task.tostring()\n",
      "C:\\Users\\TruProjects\\Anaconda3\\lib\\site-packages\\scipy\\optimize\\lbfgsb.py:329: DeprecationWarning: tostring() is deprecated. Use tobytes() instead.\n",
      "  task_str = task.tostring()\n",
      "C:\\Users\\TruProjects\\Anaconda3\\lib\\site-packages\\scipy\\optimize\\lbfgsb.py:350: DeprecationWarning: tostring() is deprecated. Use tobytes() instead.\n",
      "  task_str = task.tostring().strip(b'\\x00').strip()\n",
      "C:\\Users\\TruProjects\\Anaconda3\\lib\\site-packages\\sklearn\\linear_model\\_logistic.py:818: ConvergenceWarning: lbfgs failed to converge (status=1):\n",
      "STOP: TOTAL NO. of ITERATIONS REACHED LIMIT.\n",
      "\n",
      "Increase the number of iterations (max_iter) or scale the data as shown in:\n",
      "    https://scikit-learn.org/stable/modules/preprocessing.html\n",
      "Please also refer to the documentation for alternative solver options:\n",
      "    https://scikit-learn.org/stable/modules/linear_model.html#logistic-regression\n",
      "  extra_warning_msg=_LOGISTIC_SOLVER_CONVERGENCE_MSG,\n"
     ]
    }
   ],
   "source": [
    "from sklearn.linear_model import LogisticRegression\n",
    "lr = LogisticRegression()\n",
    "lr.fit(x_train,y_train)\n",
    "y_pred = lr.predict(x_test)"
   ]
  },
  {
   "cell_type": "code",
   "execution_count": 23,
   "metadata": {
    "executionInfo": {
     "elapsed": 305,
     "status": "ok",
     "timestamp": 1630507368374,
     "user": {
      "displayName": "Ramesh Ravindran",
      "photoUrl": "https://lh3.googleusercontent.com/a-/AOh14GhcjUie2zDWpQEXGBSui04ZAq0Nl9CR7dlOS1FcBg=s64",
      "userId": "08375370966839671912"
     },
     "user_tz": -330
    },
    "id": "QroR6soWzJCU"
   },
   "outputs": [],
   "source": [
    "LR = lr.score(x_test,y_test) * 100"
   ]
  },
  {
   "cell_type": "code",
   "execution_count": 24,
   "metadata": {
    "colab": {
     "base_uri": "https://localhost:8080/"
    },
    "executionInfo": {
     "elapsed": 10,
     "status": "ok",
     "timestamp": 1630507369866,
     "user": {
      "displayName": "Ramesh Ravindran",
      "photoUrl": "https://lh3.googleusercontent.com/a-/AOh14GhcjUie2zDWpQEXGBSui04ZAq0Nl9CR7dlOS1FcBg=s64",
      "userId": "08375370966839671912"
     },
     "user_tz": -330
    },
    "id": "xsPEgJeGzJCU",
    "outputId": "2261cd8f-a654-4fdc-96df-7429085fa124"
   },
   "outputs": [
    {
     "name": "stdout",
     "output_type": "stream",
     "text": [
      "              precision    recall  f1-score   support\n",
      "\n",
      "           0       0.90      0.86      0.88      1684\n",
      "           1       0.94      0.78      0.85      2120\n",
      "           2       0.51      0.79      0.62       263\n",
      "           3       0.74      0.86      0.80       590\n",
      "           4       0.72      0.82      0.77       540\n",
      "           5       0.36      0.88      0.51        83\n",
      "\n",
      "    accuracy                           0.82      5280\n",
      "   macro avg       0.70      0.83      0.74      5280\n",
      "weighted avg       0.85      0.82      0.83      5280\n",
      "\n"
     ]
    }
   ],
   "source": [
    "from sklearn.metrics import classification_report\n",
    "print(classification_report(y_pred,y_test))"
   ]
  },
  {
   "cell_type": "code",
   "execution_count": 25,
   "metadata": {
    "colab": {
     "base_uri": "https://localhost:8080/"
    },
    "executionInfo": {
     "elapsed": 323,
     "status": "ok",
     "timestamp": 1630507372197,
     "user": {
      "displayName": "Ramesh Ravindran",
      "photoUrl": "https://lh3.googleusercontent.com/a-/AOh14GhcjUie2zDWpQEXGBSui04ZAq0Nl9CR7dlOS1FcBg=s64",
      "userId": "08375370966839671912"
     },
     "user_tz": -330
    },
    "id": "OvMzK1GRzJCU",
    "outputId": "604737f7-0752-47d8-95cf-c468b826b5da"
   },
   "outputs": [
    {
     "data": {
      "text/plain": [
       "array([[1452,   52,   32,   66,   56,   26],\n",
       "       [  80, 1658,  156,   85,   77,   64],\n",
       "       [   8,   36,  207,    5,    6,    1],\n",
       "       [  38,    7,   10,  507,   26,    2],\n",
       "       [  28,   15,    0,   17,  445,   35],\n",
       "       [   2,    3,    0,    1,    4,   73]], dtype=int64)"
      ]
     },
     "execution_count": 25,
     "metadata": {},
     "output_type": "execute_result"
    }
   ],
   "source": [
    "from sklearn.metrics import confusion_matrix\n",
    "confusion_matrix(y_pred,y_test)"
   ]
  },
  {
   "cell_type": "markdown",
   "metadata": {
    "id": "TbdWD8fNzJCU"
   },
   "source": [
    "# Random Forest Classifier"
   ]
  },
  {
   "cell_type": "code",
   "execution_count": 26,
   "metadata": {
    "id": "nkniEyXWzJCV"
   },
   "outputs": [
    {
     "name": "stdout",
     "output_type": "stream",
     "text": [
      "*Confusion Matrix for RF: \n",
      "[[1392   86   19   56   48    7]\n",
      " [  62 1568   62   26   37   16]\n",
      " [   7  120  268    7    2    1]\n",
      " [  43   36   11  564   25    2]\n",
      " [  23   30    4   22  527    8]\n",
      " [   3   21    1    3   43  130]]\n"
     ]
    }
   ],
   "source": [
    "from sklearn.ensemble import RandomForestClassifier\n",
    "RF = RandomForestClassifier()\n",
    "RF.fit(x_train, y_train)\n",
    "predictions = RF.predict(x_test)\n",
    "print(\"*Confusion Matrix for RF: \")\n",
    "print(confusion_matrix(y_test, predictions))"
   ]
  },
  {
   "cell_type": "code",
   "execution_count": 27,
   "metadata": {
    "colab": {
     "base_uri": "https://localhost:8080/"
    },
    "executionInfo": {
     "elapsed": 3156,
     "status": "ok",
     "timestamp": 1630507576202,
     "user": {
      "displayName": "Ramesh Ravindran",
      "photoUrl": "https://lh3.googleusercontent.com/a-/AOh14GhcjUie2zDWpQEXGBSui04ZAq0Nl9CR7dlOS1FcBg=s64",
      "userId": "08375370966839671912"
     },
     "user_tz": -330
    },
    "id": "UZVCyArizJCV",
    "outputId": "b5703af5-1214-4c57-d3a6-45d1fa42e968"
   },
   "outputs": [
    {
     "name": "stdout",
     "output_type": "stream",
     "text": [
      "              precision    recall  f1-score   support\n",
      "\n",
      "           0       0.87      0.91      0.89      1530\n",
      "           1       0.89      0.84      0.86      1861\n",
      "           2       0.66      0.73      0.70       365\n",
      "           3       0.83      0.83      0.83       678\n",
      "           4       0.86      0.77      0.81       682\n",
      "           5       0.65      0.79      0.71       164\n",
      "\n",
      "    accuracy                           0.84      5280\n",
      "   macro avg       0.79      0.81      0.80      5280\n",
      "weighted avg       0.85      0.84      0.84      5280\n",
      "\n"
     ]
    }
   ],
   "source": [
    "from sklearn.metrics import classification_report\n",
    "print(classification_report(predictions,y_test))"
   ]
  },
  {
   "cell_type": "code",
   "execution_count": 28,
   "metadata": {
    "colab": {
     "base_uri": "https://localhost:8080/"
    },
    "executionInfo": {
     "elapsed": 323,
     "status": "ok",
     "timestamp": 1630507593186,
     "user": {
      "displayName": "Ramesh Ravindran",
      "photoUrl": "https://lh3.googleusercontent.com/a-/AOh14GhcjUie2zDWpQEXGBSui04ZAq0Nl9CR7dlOS1FcBg=s64",
      "userId": "08375370966839671912"
     },
     "user_tz": -330
    },
    "id": "p6IzhjW4zJCW",
    "outputId": "0887a4be-a618-414c-8905-5bdc33a1fa27"
   },
   "outputs": [
    {
     "name": "stdout",
     "output_type": "stream",
     "text": [
      "84.26136363636364\n"
     ]
    }
   ],
   "source": [
    "from sklearn.metrics import accuracy_score\n",
    "val1 = accuracy_score(y_test, predictions)*100\n",
    "print(val1)"
   ]
  },
  {
   "cell_type": "markdown",
   "metadata": {
    "id": "1uM1YFr3zJCW"
   },
   "source": [
    "# Decision Tree Classifier"
   ]
  },
  {
   "cell_type": "code",
   "execution_count": 29,
   "metadata": {
    "colab": {
     "base_uri": "https://localhost:8080/"
    },
    "executionInfo": {
     "elapsed": 96455,
     "status": "ok",
     "timestamp": 1630507693599,
     "user": {
      "displayName": "Ramesh Ravindran",
      "photoUrl": "https://lh3.googleusercontent.com/a-/AOh14GhcjUie2zDWpQEXGBSui04ZAq0Nl9CR7dlOS1FcBg=s64",
      "userId": "08375370966839671912"
     },
     "user_tz": -330
    },
    "id": "y9UAZ9SxzJCW",
    "outputId": "c9a6757e-4b52-47c3-a828-2a2e03acd18c"
   },
   "outputs": [
    {
     "name": "stdout",
     "output_type": "stream",
     "text": [
      "*Confusion Matrix for DT: \n",
      "[[1337   86   28   85   59   13]\n",
      " [ 105 1450  119   45   34   18]\n",
      " [  27  103  258    8    7    2]\n",
      " [  47   35    8  569   19    3]\n",
      " [  26   24    8   32  510   14]\n",
      " [   4   34    4    4   36  119]]\n"
     ]
    }
   ],
   "source": [
    "from sklearn import tree\n",
    "DT = tree.DecisionTreeClassifier()\n",
    "DT.fit(x_train, y_train)\n",
    "predictions = DT.predict(x_test)\n",
    "print(\"*Confusion Matrix for DT: \")\n",
    "print(confusion_matrix(y_test, predictions))"
   ]
  },
  {
   "cell_type": "code",
   "execution_count": 30,
   "metadata": {
    "colab": {
     "base_uri": "https://localhost:8080/"
    },
    "executionInfo": {
     "elapsed": 1151,
     "status": "ok",
     "timestamp": 1630507737778,
     "user": {
      "displayName": "Ramesh Ravindran",
      "photoUrl": "https://lh3.googleusercontent.com/a-/AOh14GhcjUie2zDWpQEXGBSui04ZAq0Nl9CR7dlOS1FcBg=s64",
      "userId": "08375370966839671912"
     },
     "user_tz": -330
    },
    "id": "YWLxMP8JzJCW",
    "outputId": "08625342-e13b-4bf8-cc5e-d0d723dbd934"
   },
   "outputs": [
    {
     "name": "stdout",
     "output_type": "stream",
     "text": [
      "              precision    recall  f1-score   support\n",
      "\n",
      "           0       0.83      0.86      0.85      1546\n",
      "           1       0.82      0.84      0.83      1732\n",
      "           2       0.64      0.61      0.62       425\n",
      "           3       0.84      0.77      0.80       743\n",
      "           4       0.83      0.77      0.80       665\n",
      "           5       0.59      0.70      0.64       169\n",
      "\n",
      "    accuracy                           0.80      5280\n",
      "   macro avg       0.76      0.76      0.76      5280\n",
      "weighted avg       0.80      0.80      0.80      5280\n",
      "\n"
     ]
    }
   ],
   "source": [
    "from sklearn.metrics import classification_report\n",
    "print(classification_report(predictions,y_test))"
   ]
  },
  {
   "cell_type": "code",
   "execution_count": 31,
   "metadata": {
    "colab": {
     "base_uri": "https://localhost:8080/"
    },
    "executionInfo": {
     "elapsed": 10,
     "status": "ok",
     "timestamp": 1630507740664,
     "user": {
      "displayName": "Ramesh Ravindran",
      "photoUrl": "https://lh3.googleusercontent.com/a-/AOh14GhcjUie2zDWpQEXGBSui04ZAq0Nl9CR7dlOS1FcBg=s64",
      "userId": "08375370966839671912"
     },
     "user_tz": -330
    },
    "id": "w6tWUHwyzJCX",
    "outputId": "b2944118-c499-4530-ac98-9508664cc99e"
   },
   "outputs": [
    {
     "name": "stdout",
     "output_type": "stream",
     "text": [
      "80.35984848484848\n"
     ]
    }
   ],
   "source": [
    "val2 = accuracy_score(y_test, predictions)* 100\n",
    "print(val2)"
   ]
  },
  {
   "cell_type": "markdown",
   "metadata": {
    "id": "ZZcIU6fEzJCX"
   },
   "source": [
    "# KNeighbors Classifier"
   ]
  },
  {
   "cell_type": "code",
   "execution_count": 32,
   "metadata": {
    "id": "sCO7qmd2zJCY"
   },
   "outputs": [
    {
     "name": "stdout",
     "output_type": "stream",
     "text": [
      "*Accuracy score for KNN:  74.52651515151516 \n",
      "\n",
      "*Confusion Matrix for KNN: \n",
      "[[1357  133   13   67   33    5]\n",
      " [ 171 1494   40   29   33    4]\n",
      " [  57  158  171   15    3    1]\n",
      " [  98   96   17  454   12    4]\n",
      " [  84   90   10   35  386    9]\n",
      " [  41   51    6    5   25   73]]\n",
      "*Classification Report for KNN: \n",
      "              precision    recall  f1-score   support\n",
      "\n",
      "           0       0.75      0.84      0.79      1608\n",
      "           1       0.74      0.84      0.79      1771\n",
      "           2       0.67      0.42      0.52       405\n",
      "           3       0.75      0.67      0.71       681\n",
      "           4       0.78      0.63      0.70       614\n",
      "           5       0.76      0.36      0.49       201\n",
      "\n",
      "    accuracy                           0.75      5280\n",
      "   macro avg       0.74      0.63      0.67      5280\n",
      "weighted avg       0.74      0.75      0.74      5280\n",
      "\n"
     ]
    }
   ],
   "source": [
    "from sklearn.neighbors import KNeighborsClassifier\n",
    "KNN = KNeighborsClassifier()\n",
    "KNN.fit(x_train, y_train)\n",
    "predictions = KNN.predict(x_test)\n",
    "val5 = (accuracy_score(y_test, predictions)*100)\n",
    "print(\"*Accuracy score for KNN: \", val5, \"\\n\")\n",
    "print(\"*Confusion Matrix for KNN: \")\n",
    "print(confusion_matrix(y_test, predictions))\n",
    "print(\"*Classification Report for KNN: \")\n",
    "print(classification_report(y_test, predictions))"
   ]
  },
  {
   "cell_type": "markdown",
   "metadata": {
    "id": "3D8PXsedzJCY"
   },
   "source": [
    "# XGB Classifier"
   ]
  },
  {
   "cell_type": "code",
   "execution_count": 33,
   "metadata": {
    "id": "w5-YbpNYzJCY"
   },
   "outputs": [
    {
     "name": "stdout",
     "output_type": "stream",
     "text": [
      "Accuracy: 84.77%\n",
      "*Confusion Matrix for XGB: \n",
      "[[1386  100   11   52   46   13]\n",
      " [  49 1554   90   34   25   19]\n",
      " [   8  100  287    7    2    1]\n",
      " [  43   33    8  578   18    1]\n",
      " [  12   24    2   32  526   18]\n",
      " [   2   19    1    1   33  145]]\n",
      "*Classification Report for XGB: \n",
      "              precision    recall  f1-score   support\n",
      "\n",
      "           0       0.92      0.86      0.89      1608\n",
      "           1       0.85      0.88      0.86      1771\n",
      "           2       0.72      0.71      0.71       405\n",
      "           3       0.82      0.85      0.83       681\n",
      "           4       0.81      0.86      0.83       614\n",
      "           5       0.74      0.72      0.73       201\n",
      "\n",
      "    accuracy                           0.85      5280\n",
      "   macro avg       0.81      0.81      0.81      5280\n",
      "weighted avg       0.85      0.85      0.85      5280\n",
      "\n"
     ]
    }
   ],
   "source": [
    "from xgboost import XGBClassifier\n",
    "model = XGBClassifier()\n",
    "model.fit(x_train, y_train)\n",
    "# make predictions for test data\n",
    "y_pred = model.predict(x_test)\n",
    "predictions = [round(value) for value in y_pred]\n",
    "# evaluate predictions\n",
    "val6 = accuracy_score(y_test, predictions) * 100\n",
    "print(\"Accuracy: %.2f%%\" % (val6))\n",
    "print(\"*Confusion Matrix for XGB: \")\n",
    "print(confusion_matrix(y_test, predictions))\n",
    "print(\"*Classification Report for XGB: \")\n",
    "print(classification_report(y_test, predictions))"
   ]
  },
  {
   "cell_type": "markdown",
   "metadata": {
    "id": "P_6KFixkzJCa"
   },
   "source": [
    "# Voting Classifier"
   ]
  },
  {
   "cell_type": "code",
   "execution_count": 34,
   "metadata": {
    "id": "vAvInpm7zJCa",
    "outputId": "4b88ddef-162b-4c5f-c829-fa89c64aa83d"
   },
   "outputs": [
    {
     "name": "stderr",
     "output_type": "stream",
     "text": [
      "C:\\Users\\TruProjects\\Anaconda3\\lib\\site-packages\\scipy\\optimize\\lbfgsb.py:329: DeprecationWarning: tostring() is deprecated. Use tobytes() instead.\n",
      "  task_str = task.tostring()\n",
      "C:\\Users\\TruProjects\\Anaconda3\\lib\\site-packages\\scipy\\optimize\\lbfgsb.py:329: DeprecationWarning: tostring() is deprecated. Use tobytes() instead.\n",
      "  task_str = task.tostring()\n",
      "C:\\Users\\TruProjects\\Anaconda3\\lib\\site-packages\\scipy\\optimize\\lbfgsb.py:329: DeprecationWarning: tostring() is deprecated. Use tobytes() instead.\n",
      "  task_str = task.tostring()\n",
      "C:\\Users\\TruProjects\\Anaconda3\\lib\\site-packages\\scipy\\optimize\\lbfgsb.py:329: DeprecationWarning: tostring() is deprecated. Use tobytes() instead.\n",
      "  task_str = task.tostring()\n",
      "C:\\Users\\TruProjects\\Anaconda3\\lib\\site-packages\\scipy\\optimize\\lbfgsb.py:329: DeprecationWarning: tostring() is deprecated. Use tobytes() instead.\n",
      "  task_str = task.tostring()\n",
      "C:\\Users\\TruProjects\\Anaconda3\\lib\\site-packages\\scipy\\optimize\\lbfgsb.py:329: DeprecationWarning: tostring() is deprecated. Use tobytes() instead.\n",
      "  task_str = task.tostring()\n",
      "C:\\Users\\TruProjects\\Anaconda3\\lib\\site-packages\\scipy\\optimize\\lbfgsb.py:329: DeprecationWarning: tostring() is deprecated. Use tobytes() instead.\n",
      "  task_str = task.tostring()\n",
      "C:\\Users\\TruProjects\\Anaconda3\\lib\\site-packages\\scipy\\optimize\\lbfgsb.py:329: DeprecationWarning: tostring() is deprecated. Use tobytes() instead.\n",
      "  task_str = task.tostring()\n",
      "C:\\Users\\TruProjects\\Anaconda3\\lib\\site-packages\\scipy\\optimize\\lbfgsb.py:329: DeprecationWarning: tostring() is deprecated. Use tobytes() instead.\n",
      "  task_str = task.tostring()\n",
      "C:\\Users\\TruProjects\\Anaconda3\\lib\\site-packages\\scipy\\optimize\\lbfgsb.py:329: DeprecationWarning: tostring() is deprecated. Use tobytes() instead.\n",
      "  task_str = task.tostring()\n",
      "C:\\Users\\TruProjects\\Anaconda3\\lib\\site-packages\\scipy\\optimize\\lbfgsb.py:329: DeprecationWarning: tostring() is deprecated. Use tobytes() instead.\n",
      "  task_str = task.tostring()\n",
      "C:\\Users\\TruProjects\\Anaconda3\\lib\\site-packages\\scipy\\optimize\\lbfgsb.py:329: DeprecationWarning: tostring() is deprecated. Use tobytes() instead.\n",
      "  task_str = task.tostring()\n",
      "C:\\Users\\TruProjects\\Anaconda3\\lib\\site-packages\\scipy\\optimize\\lbfgsb.py:329: DeprecationWarning: tostring() is deprecated. Use tobytes() instead.\n",
      "  task_str = task.tostring()\n",
      "C:\\Users\\TruProjects\\Anaconda3\\lib\\site-packages\\scipy\\optimize\\lbfgsb.py:329: DeprecationWarning: tostring() is deprecated. Use tobytes() instead.\n",
      "  task_str = task.tostring()\n",
      "C:\\Users\\TruProjects\\Anaconda3\\lib\\site-packages\\scipy\\optimize\\lbfgsb.py:329: DeprecationWarning: tostring() is deprecated. Use tobytes() instead.\n",
      "  task_str = task.tostring()\n",
      "C:\\Users\\TruProjects\\Anaconda3\\lib\\site-packages\\scipy\\optimize\\lbfgsb.py:329: DeprecationWarning: tostring() is deprecated. Use tobytes() instead.\n",
      "  task_str = task.tostring()\n",
      "C:\\Users\\TruProjects\\Anaconda3\\lib\\site-packages\\scipy\\optimize\\lbfgsb.py:329: DeprecationWarning: tostring() is deprecated. Use tobytes() instead.\n",
      "  task_str = task.tostring()\n",
      "C:\\Users\\TruProjects\\Anaconda3\\lib\\site-packages\\scipy\\optimize\\lbfgsb.py:329: DeprecationWarning: tostring() is deprecated. Use tobytes() instead.\n",
      "  task_str = task.tostring()\n",
      "C:\\Users\\TruProjects\\Anaconda3\\lib\\site-packages\\scipy\\optimize\\lbfgsb.py:329: DeprecationWarning: tostring() is deprecated. Use tobytes() instead.\n",
      "  task_str = task.tostring()\n",
      "C:\\Users\\TruProjects\\Anaconda3\\lib\\site-packages\\scipy\\optimize\\lbfgsb.py:329: DeprecationWarning: tostring() is deprecated. Use tobytes() instead.\n",
      "  task_str = task.tostring()\n",
      "C:\\Users\\TruProjects\\Anaconda3\\lib\\site-packages\\scipy\\optimize\\lbfgsb.py:329: DeprecationWarning: tostring() is deprecated. Use tobytes() instead.\n",
      "  task_str = task.tostring()\n",
      "C:\\Users\\TruProjects\\Anaconda3\\lib\\site-packages\\scipy\\optimize\\lbfgsb.py:329: DeprecationWarning: tostring() is deprecated. Use tobytes() instead.\n",
      "  task_str = task.tostring()\n",
      "C:\\Users\\TruProjects\\Anaconda3\\lib\\site-packages\\scipy\\optimize\\lbfgsb.py:329: DeprecationWarning: tostring() is deprecated. Use tobytes() instead.\n",
      "  task_str = task.tostring()\n",
      "C:\\Users\\TruProjects\\Anaconda3\\lib\\site-packages\\scipy\\optimize\\lbfgsb.py:329: DeprecationWarning: tostring() is deprecated. Use tobytes() instead.\n",
      "  task_str = task.tostring()\n",
      "C:\\Users\\TruProjects\\Anaconda3\\lib\\site-packages\\scipy\\optimize\\lbfgsb.py:329: DeprecationWarning: tostring() is deprecated. Use tobytes() instead.\n",
      "  task_str = task.tostring()\n",
      "C:\\Users\\TruProjects\\Anaconda3\\lib\\site-packages\\scipy\\optimize\\lbfgsb.py:329: DeprecationWarning: tostring() is deprecated. Use tobytes() instead.\n",
      "  task_str = task.tostring()\n",
      "C:\\Users\\TruProjects\\Anaconda3\\lib\\site-packages\\scipy\\optimize\\lbfgsb.py:329: DeprecationWarning: tostring() is deprecated. Use tobytes() instead.\n",
      "  task_str = task.tostring()\n",
      "C:\\Users\\TruProjects\\Anaconda3\\lib\\site-packages\\scipy\\optimize\\lbfgsb.py:329: DeprecationWarning: tostring() is deprecated. Use tobytes() instead.\n",
      "  task_str = task.tostring()\n",
      "C:\\Users\\TruProjects\\Anaconda3\\lib\\site-packages\\scipy\\optimize\\lbfgsb.py:329: DeprecationWarning: tostring() is deprecated. Use tobytes() instead.\n",
      "  task_str = task.tostring()\n",
      "C:\\Users\\TruProjects\\Anaconda3\\lib\\site-packages\\scipy\\optimize\\lbfgsb.py:329: DeprecationWarning: tostring() is deprecated. Use tobytes() instead.\n",
      "  task_str = task.tostring()\n",
      "C:\\Users\\TruProjects\\Anaconda3\\lib\\site-packages\\scipy\\optimize\\lbfgsb.py:329: DeprecationWarning: tostring() is deprecated. Use tobytes() instead.\n",
      "  task_str = task.tostring()\n",
      "C:\\Users\\TruProjects\\Anaconda3\\lib\\site-packages\\scipy\\optimize\\lbfgsb.py:329: DeprecationWarning: tostring() is deprecated. Use tobytes() instead.\n",
      "  task_str = task.tostring()\n",
      "C:\\Users\\TruProjects\\Anaconda3\\lib\\site-packages\\scipy\\optimize\\lbfgsb.py:329: DeprecationWarning: tostring() is deprecated. Use tobytes() instead.\n",
      "  task_str = task.tostring()\n",
      "C:\\Users\\TruProjects\\Anaconda3\\lib\\site-packages\\scipy\\optimize\\lbfgsb.py:329: DeprecationWarning: tostring() is deprecated. Use tobytes() instead.\n",
      "  task_str = task.tostring()\n",
      "C:\\Users\\TruProjects\\Anaconda3\\lib\\site-packages\\scipy\\optimize\\lbfgsb.py:329: DeprecationWarning: tostring() is deprecated. Use tobytes() instead.\n",
      "  task_str = task.tostring()\n",
      "C:\\Users\\TruProjects\\Anaconda3\\lib\\site-packages\\scipy\\optimize\\lbfgsb.py:329: DeprecationWarning: tostring() is deprecated. Use tobytes() instead.\n",
      "  task_str = task.tostring()\n",
      "C:\\Users\\TruProjects\\Anaconda3\\lib\\site-packages\\scipy\\optimize\\lbfgsb.py:329: DeprecationWarning: tostring() is deprecated. Use tobytes() instead.\n",
      "  task_str = task.tostring()\n",
      "C:\\Users\\TruProjects\\Anaconda3\\lib\\site-packages\\scipy\\optimize\\lbfgsb.py:329: DeprecationWarning: tostring() is deprecated. Use tobytes() instead.\n",
      "  task_str = task.tostring()\n",
      "C:\\Users\\TruProjects\\Anaconda3\\lib\\site-packages\\scipy\\optimize\\lbfgsb.py:329: DeprecationWarning: tostring() is deprecated. Use tobytes() instead.\n",
      "  task_str = task.tostring()\n",
      "C:\\Users\\TruProjects\\Anaconda3\\lib\\site-packages\\scipy\\optimize\\lbfgsb.py:329: DeprecationWarning: tostring() is deprecated. Use tobytes() instead.\n",
      "  task_str = task.tostring()\n",
      "C:\\Users\\TruProjects\\Anaconda3\\lib\\site-packages\\scipy\\optimize\\lbfgsb.py:329: DeprecationWarning: tostring() is deprecated. Use tobytes() instead.\n",
      "  task_str = task.tostring()\n",
      "C:\\Users\\TruProjects\\Anaconda3\\lib\\site-packages\\scipy\\optimize\\lbfgsb.py:329: DeprecationWarning: tostring() is deprecated. Use tobytes() instead.\n",
      "  task_str = task.tostring()\n",
      "C:\\Users\\TruProjects\\Anaconda3\\lib\\site-packages\\scipy\\optimize\\lbfgsb.py:329: DeprecationWarning: tostring() is deprecated. Use tobytes() instead.\n",
      "  task_str = task.tostring()\n",
      "C:\\Users\\TruProjects\\Anaconda3\\lib\\site-packages\\scipy\\optimize\\lbfgsb.py:329: DeprecationWarning: tostring() is deprecated. Use tobytes() instead.\n",
      "  task_str = task.tostring()\n",
      "C:\\Users\\TruProjects\\Anaconda3\\lib\\site-packages\\scipy\\optimize\\lbfgsb.py:329: DeprecationWarning: tostring() is deprecated. Use tobytes() instead.\n",
      "  task_str = task.tostring()\n",
      "C:\\Users\\TruProjects\\Anaconda3\\lib\\site-packages\\scipy\\optimize\\lbfgsb.py:329: DeprecationWarning: tostring() is deprecated. Use tobytes() instead.\n",
      "  task_str = task.tostring()\n",
      "C:\\Users\\TruProjects\\Anaconda3\\lib\\site-packages\\scipy\\optimize\\lbfgsb.py:329: DeprecationWarning: tostring() is deprecated. Use tobytes() instead.\n",
      "  task_str = task.tostring()\n",
      "C:\\Users\\TruProjects\\Anaconda3\\lib\\site-packages\\scipy\\optimize\\lbfgsb.py:329: DeprecationWarning: tostring() is deprecated. Use tobytes() instead.\n",
      "  task_str = task.tostring()\n",
      "C:\\Users\\TruProjects\\Anaconda3\\lib\\site-packages\\scipy\\optimize\\lbfgsb.py:329: DeprecationWarning: tostring() is deprecated. Use tobytes() instead.\n",
      "  task_str = task.tostring()\n",
      "C:\\Users\\TruProjects\\Anaconda3\\lib\\site-packages\\scipy\\optimize\\lbfgsb.py:329: DeprecationWarning: tostring() is deprecated. Use tobytes() instead.\n",
      "  task_str = task.tostring()\n",
      "C:\\Users\\TruProjects\\Anaconda3\\lib\\site-packages\\scipy\\optimize\\lbfgsb.py:329: DeprecationWarning: tostring() is deprecated. Use tobytes() instead.\n",
      "  task_str = task.tostring()\n"
     ]
    },
    {
     "name": "stderr",
     "output_type": "stream",
     "text": [
      "C:\\Users\\TruProjects\\Anaconda3\\lib\\site-packages\\scipy\\optimize\\lbfgsb.py:329: DeprecationWarning: tostring() is deprecated. Use tobytes() instead.\n",
      "  task_str = task.tostring()\n",
      "C:\\Users\\TruProjects\\Anaconda3\\lib\\site-packages\\scipy\\optimize\\lbfgsb.py:329: DeprecationWarning: tostring() is deprecated. Use tobytes() instead.\n",
      "  task_str = task.tostring()\n",
      "C:\\Users\\TruProjects\\Anaconda3\\lib\\site-packages\\scipy\\optimize\\lbfgsb.py:329: DeprecationWarning: tostring() is deprecated. Use tobytes() instead.\n",
      "  task_str = task.tostring()\n",
      "C:\\Users\\TruProjects\\Anaconda3\\lib\\site-packages\\scipy\\optimize\\lbfgsb.py:329: DeprecationWarning: tostring() is deprecated. Use tobytes() instead.\n",
      "  task_str = task.tostring()\n",
      "C:\\Users\\TruProjects\\Anaconda3\\lib\\site-packages\\scipy\\optimize\\lbfgsb.py:329: DeprecationWarning: tostring() is deprecated. Use tobytes() instead.\n",
      "  task_str = task.tostring()\n",
      "C:\\Users\\TruProjects\\Anaconda3\\lib\\site-packages\\scipy\\optimize\\lbfgsb.py:329: DeprecationWarning: tostring() is deprecated. Use tobytes() instead.\n",
      "  task_str = task.tostring()\n",
      "C:\\Users\\TruProjects\\Anaconda3\\lib\\site-packages\\scipy\\optimize\\lbfgsb.py:329: DeprecationWarning: tostring() is deprecated. Use tobytes() instead.\n",
      "  task_str = task.tostring()\n",
      "C:\\Users\\TruProjects\\Anaconda3\\lib\\site-packages\\scipy\\optimize\\lbfgsb.py:329: DeprecationWarning: tostring() is deprecated. Use tobytes() instead.\n",
      "  task_str = task.tostring()\n",
      "C:\\Users\\TruProjects\\Anaconda3\\lib\\site-packages\\scipy\\optimize\\lbfgsb.py:329: DeprecationWarning: tostring() is deprecated. Use tobytes() instead.\n",
      "  task_str = task.tostring()\n",
      "C:\\Users\\TruProjects\\Anaconda3\\lib\\site-packages\\scipy\\optimize\\lbfgsb.py:329: DeprecationWarning: tostring() is deprecated. Use tobytes() instead.\n",
      "  task_str = task.tostring()\n",
      "C:\\Users\\TruProjects\\Anaconda3\\lib\\site-packages\\scipy\\optimize\\lbfgsb.py:329: DeprecationWarning: tostring() is deprecated. Use tobytes() instead.\n",
      "  task_str = task.tostring()\n",
      "C:\\Users\\TruProjects\\Anaconda3\\lib\\site-packages\\scipy\\optimize\\lbfgsb.py:329: DeprecationWarning: tostring() is deprecated. Use tobytes() instead.\n",
      "  task_str = task.tostring()\n",
      "C:\\Users\\TruProjects\\Anaconda3\\lib\\site-packages\\scipy\\optimize\\lbfgsb.py:329: DeprecationWarning: tostring() is deprecated. Use tobytes() instead.\n",
      "  task_str = task.tostring()\n",
      "C:\\Users\\TruProjects\\Anaconda3\\lib\\site-packages\\scipy\\optimize\\lbfgsb.py:329: DeprecationWarning: tostring() is deprecated. Use tobytes() instead.\n",
      "  task_str = task.tostring()\n",
      "C:\\Users\\TruProjects\\Anaconda3\\lib\\site-packages\\scipy\\optimize\\lbfgsb.py:329: DeprecationWarning: tostring() is deprecated. Use tobytes() instead.\n",
      "  task_str = task.tostring()\n",
      "C:\\Users\\TruProjects\\Anaconda3\\lib\\site-packages\\scipy\\optimize\\lbfgsb.py:329: DeprecationWarning: tostring() is deprecated. Use tobytes() instead.\n",
      "  task_str = task.tostring()\n",
      "C:\\Users\\TruProjects\\Anaconda3\\lib\\site-packages\\scipy\\optimize\\lbfgsb.py:329: DeprecationWarning: tostring() is deprecated. Use tobytes() instead.\n",
      "  task_str = task.tostring()\n",
      "C:\\Users\\TruProjects\\Anaconda3\\lib\\site-packages\\scipy\\optimize\\lbfgsb.py:329: DeprecationWarning: tostring() is deprecated. Use tobytes() instead.\n",
      "  task_str = task.tostring()\n",
      "C:\\Users\\TruProjects\\Anaconda3\\lib\\site-packages\\scipy\\optimize\\lbfgsb.py:329: DeprecationWarning: tostring() is deprecated. Use tobytes() instead.\n",
      "  task_str = task.tostring()\n",
      "C:\\Users\\TruProjects\\Anaconda3\\lib\\site-packages\\scipy\\optimize\\lbfgsb.py:329: DeprecationWarning: tostring() is deprecated. Use tobytes() instead.\n",
      "  task_str = task.tostring()\n",
      "C:\\Users\\TruProjects\\Anaconda3\\lib\\site-packages\\scipy\\optimize\\lbfgsb.py:329: DeprecationWarning: tostring() is deprecated. Use tobytes() instead.\n",
      "  task_str = task.tostring()\n",
      "C:\\Users\\TruProjects\\Anaconda3\\lib\\site-packages\\scipy\\optimize\\lbfgsb.py:329: DeprecationWarning: tostring() is deprecated. Use tobytes() instead.\n",
      "  task_str = task.tostring()\n",
      "C:\\Users\\TruProjects\\Anaconda3\\lib\\site-packages\\scipy\\optimize\\lbfgsb.py:329: DeprecationWarning: tostring() is deprecated. Use tobytes() instead.\n",
      "  task_str = task.tostring()\n",
      "C:\\Users\\TruProjects\\Anaconda3\\lib\\site-packages\\scipy\\optimize\\lbfgsb.py:329: DeprecationWarning: tostring() is deprecated. Use tobytes() instead.\n",
      "  task_str = task.tostring()\n",
      "C:\\Users\\TruProjects\\Anaconda3\\lib\\site-packages\\scipy\\optimize\\lbfgsb.py:329: DeprecationWarning: tostring() is deprecated. Use tobytes() instead.\n",
      "  task_str = task.tostring()\n",
      "C:\\Users\\TruProjects\\Anaconda3\\lib\\site-packages\\scipy\\optimize\\lbfgsb.py:329: DeprecationWarning: tostring() is deprecated. Use tobytes() instead.\n",
      "  task_str = task.tostring()\n",
      "C:\\Users\\TruProjects\\Anaconda3\\lib\\site-packages\\scipy\\optimize\\lbfgsb.py:329: DeprecationWarning: tostring() is deprecated. Use tobytes() instead.\n",
      "  task_str = task.tostring()\n",
      "C:\\Users\\TruProjects\\Anaconda3\\lib\\site-packages\\scipy\\optimize\\lbfgsb.py:329: DeprecationWarning: tostring() is deprecated. Use tobytes() instead.\n",
      "  task_str = task.tostring()\n",
      "C:\\Users\\TruProjects\\Anaconda3\\lib\\site-packages\\scipy\\optimize\\lbfgsb.py:329: DeprecationWarning: tostring() is deprecated. Use tobytes() instead.\n",
      "  task_str = task.tostring()\n",
      "C:\\Users\\TruProjects\\Anaconda3\\lib\\site-packages\\scipy\\optimize\\lbfgsb.py:329: DeprecationWarning: tostring() is deprecated. Use tobytes() instead.\n",
      "  task_str = task.tostring()\n",
      "C:\\Users\\TruProjects\\Anaconda3\\lib\\site-packages\\scipy\\optimize\\lbfgsb.py:329: DeprecationWarning: tostring() is deprecated. Use tobytes() instead.\n",
      "  task_str = task.tostring()\n",
      "C:\\Users\\TruProjects\\Anaconda3\\lib\\site-packages\\scipy\\optimize\\lbfgsb.py:329: DeprecationWarning: tostring() is deprecated. Use tobytes() instead.\n",
      "  task_str = task.tostring()\n",
      "C:\\Users\\TruProjects\\Anaconda3\\lib\\site-packages\\scipy\\optimize\\lbfgsb.py:329: DeprecationWarning: tostring() is deprecated. Use tobytes() instead.\n",
      "  task_str = task.tostring()\n",
      "C:\\Users\\TruProjects\\Anaconda3\\lib\\site-packages\\scipy\\optimize\\lbfgsb.py:329: DeprecationWarning: tostring() is deprecated. Use tobytes() instead.\n",
      "  task_str = task.tostring()\n",
      "C:\\Users\\TruProjects\\Anaconda3\\lib\\site-packages\\scipy\\optimize\\lbfgsb.py:329: DeprecationWarning: tostring() is deprecated. Use tobytes() instead.\n",
      "  task_str = task.tostring()\n",
      "C:\\Users\\TruProjects\\Anaconda3\\lib\\site-packages\\scipy\\optimize\\lbfgsb.py:329: DeprecationWarning: tostring() is deprecated. Use tobytes() instead.\n",
      "  task_str = task.tostring()\n",
      "C:\\Users\\TruProjects\\Anaconda3\\lib\\site-packages\\scipy\\optimize\\lbfgsb.py:329: DeprecationWarning: tostring() is deprecated. Use tobytes() instead.\n",
      "  task_str = task.tostring()\n",
      "C:\\Users\\TruProjects\\Anaconda3\\lib\\site-packages\\scipy\\optimize\\lbfgsb.py:329: DeprecationWarning: tostring() is deprecated. Use tobytes() instead.\n",
      "  task_str = task.tostring()\n",
      "C:\\Users\\TruProjects\\Anaconda3\\lib\\site-packages\\scipy\\optimize\\lbfgsb.py:329: DeprecationWarning: tostring() is deprecated. Use tobytes() instead.\n",
      "  task_str = task.tostring()\n",
      "C:\\Users\\TruProjects\\Anaconda3\\lib\\site-packages\\scipy\\optimize\\lbfgsb.py:329: DeprecationWarning: tostring() is deprecated. Use tobytes() instead.\n",
      "  task_str = task.tostring()\n",
      "C:\\Users\\TruProjects\\Anaconda3\\lib\\site-packages\\scipy\\optimize\\lbfgsb.py:329: DeprecationWarning: tostring() is deprecated. Use tobytes() instead.\n",
      "  task_str = task.tostring()\n",
      "C:\\Users\\TruProjects\\Anaconda3\\lib\\site-packages\\scipy\\optimize\\lbfgsb.py:329: DeprecationWarning: tostring() is deprecated. Use tobytes() instead.\n",
      "  task_str = task.tostring()\n",
      "C:\\Users\\TruProjects\\Anaconda3\\lib\\site-packages\\scipy\\optimize\\lbfgsb.py:329: DeprecationWarning: tostring() is deprecated. Use tobytes() instead.\n",
      "  task_str = task.tostring()\n",
      "C:\\Users\\TruProjects\\Anaconda3\\lib\\site-packages\\scipy\\optimize\\lbfgsb.py:329: DeprecationWarning: tostring() is deprecated. Use tobytes() instead.\n",
      "  task_str = task.tostring()\n",
      "C:\\Users\\TruProjects\\Anaconda3\\lib\\site-packages\\scipy\\optimize\\lbfgsb.py:329: DeprecationWarning: tostring() is deprecated. Use tobytes() instead.\n",
      "  task_str = task.tostring()\n",
      "C:\\Users\\TruProjects\\Anaconda3\\lib\\site-packages\\scipy\\optimize\\lbfgsb.py:329: DeprecationWarning: tostring() is deprecated. Use tobytes() instead.\n",
      "  task_str = task.tostring()\n",
      "C:\\Users\\TruProjects\\Anaconda3\\lib\\site-packages\\scipy\\optimize\\lbfgsb.py:329: DeprecationWarning: tostring() is deprecated. Use tobytes() instead.\n",
      "  task_str = task.tostring()\n",
      "C:\\Users\\TruProjects\\Anaconda3\\lib\\site-packages\\scipy\\optimize\\lbfgsb.py:329: DeprecationWarning: tostring() is deprecated. Use tobytes() instead.\n",
      "  task_str = task.tostring()\n",
      "C:\\Users\\TruProjects\\Anaconda3\\lib\\site-packages\\scipy\\optimize\\lbfgsb.py:329: DeprecationWarning: tostring() is deprecated. Use tobytes() instead.\n",
      "  task_str = task.tostring()\n",
      "C:\\Users\\TruProjects\\Anaconda3\\lib\\site-packages\\scipy\\optimize\\lbfgsb.py:329: DeprecationWarning: tostring() is deprecated. Use tobytes() instead.\n",
      "  task_str = task.tostring()\n",
      "C:\\Users\\TruProjects\\Anaconda3\\lib\\site-packages\\scipy\\optimize\\lbfgsb.py:329: DeprecationWarning: tostring() is deprecated. Use tobytes() instead.\n",
      "  task_str = task.tostring()\n",
      "C:\\Users\\TruProjects\\Anaconda3\\lib\\site-packages\\scipy\\optimize\\lbfgsb.py:329: DeprecationWarning: tostring() is deprecated. Use tobytes() instead.\n",
      "  task_str = task.tostring()\n",
      "C:\\Users\\TruProjects\\Anaconda3\\lib\\site-packages\\scipy\\optimize\\lbfgsb.py:329: DeprecationWarning: tostring() is deprecated. Use tobytes() instead.\n",
      "  task_str = task.tostring()\n",
      "C:\\Users\\TruProjects\\Anaconda3\\lib\\site-packages\\scipy\\optimize\\lbfgsb.py:329: DeprecationWarning: tostring() is deprecated. Use tobytes() instead.\n",
      "  task_str = task.tostring()\n",
      "C:\\Users\\TruProjects\\Anaconda3\\lib\\site-packages\\scipy\\optimize\\lbfgsb.py:329: DeprecationWarning: tostring() is deprecated. Use tobytes() instead.\n",
      "  task_str = task.tostring()\n"
     ]
    },
    {
     "name": "stderr",
     "output_type": "stream",
     "text": [
      "C:\\Users\\TruProjects\\Anaconda3\\lib\\site-packages\\scipy\\optimize\\lbfgsb.py:329: DeprecationWarning: tostring() is deprecated. Use tobytes() instead.\n",
      "  task_str = task.tostring()\n",
      "C:\\Users\\TruProjects\\Anaconda3\\lib\\site-packages\\scipy\\optimize\\lbfgsb.py:329: DeprecationWarning: tostring() is deprecated. Use tobytes() instead.\n",
      "  task_str = task.tostring()\n",
      "C:\\Users\\TruProjects\\Anaconda3\\lib\\site-packages\\scipy\\optimize\\lbfgsb.py:329: DeprecationWarning: tostring() is deprecated. Use tobytes() instead.\n",
      "  task_str = task.tostring()\n",
      "C:\\Users\\TruProjects\\Anaconda3\\lib\\site-packages\\scipy\\optimize\\lbfgsb.py:329: DeprecationWarning: tostring() is deprecated. Use tobytes() instead.\n",
      "  task_str = task.tostring()\n",
      "C:\\Users\\TruProjects\\Anaconda3\\lib\\site-packages\\scipy\\optimize\\lbfgsb.py:329: DeprecationWarning: tostring() is deprecated. Use tobytes() instead.\n",
      "  task_str = task.tostring()\n",
      "C:\\Users\\TruProjects\\Anaconda3\\lib\\site-packages\\scipy\\optimize\\lbfgsb.py:329: DeprecationWarning: tostring() is deprecated. Use tobytes() instead.\n",
      "  task_str = task.tostring()\n",
      "C:\\Users\\TruProjects\\Anaconda3\\lib\\site-packages\\scipy\\optimize\\lbfgsb.py:329: DeprecationWarning: tostring() is deprecated. Use tobytes() instead.\n",
      "  task_str = task.tostring()\n",
      "C:\\Users\\TruProjects\\Anaconda3\\lib\\site-packages\\scipy\\optimize\\lbfgsb.py:329: DeprecationWarning: tostring() is deprecated. Use tobytes() instead.\n",
      "  task_str = task.tostring()\n",
      "C:\\Users\\TruProjects\\Anaconda3\\lib\\site-packages\\scipy\\optimize\\lbfgsb.py:329: DeprecationWarning: tostring() is deprecated. Use tobytes() instead.\n",
      "  task_str = task.tostring()\n",
      "C:\\Users\\TruProjects\\Anaconda3\\lib\\site-packages\\scipy\\optimize\\lbfgsb.py:329: DeprecationWarning: tostring() is deprecated. Use tobytes() instead.\n",
      "  task_str = task.tostring()\n",
      "C:\\Users\\TruProjects\\Anaconda3\\lib\\site-packages\\scipy\\optimize\\lbfgsb.py:329: DeprecationWarning: tostring() is deprecated. Use tobytes() instead.\n",
      "  task_str = task.tostring()\n",
      "C:\\Users\\TruProjects\\Anaconda3\\lib\\site-packages\\scipy\\optimize\\lbfgsb.py:329: DeprecationWarning: tostring() is deprecated. Use tobytes() instead.\n",
      "  task_str = task.tostring()\n",
      "C:\\Users\\TruProjects\\Anaconda3\\lib\\site-packages\\scipy\\optimize\\lbfgsb.py:329: DeprecationWarning: tostring() is deprecated. Use tobytes() instead.\n",
      "  task_str = task.tostring()\n",
      "C:\\Users\\TruProjects\\Anaconda3\\lib\\site-packages\\scipy\\optimize\\lbfgsb.py:329: DeprecationWarning: tostring() is deprecated. Use tobytes() instead.\n",
      "  task_str = task.tostring()\n",
      "C:\\Users\\TruProjects\\Anaconda3\\lib\\site-packages\\scipy\\optimize\\lbfgsb.py:329: DeprecationWarning: tostring() is deprecated. Use tobytes() instead.\n",
      "  task_str = task.tostring()\n",
      "C:\\Users\\TruProjects\\Anaconda3\\lib\\site-packages\\scipy\\optimize\\lbfgsb.py:329: DeprecationWarning: tostring() is deprecated. Use tobytes() instead.\n",
      "  task_str = task.tostring()\n",
      "C:\\Users\\TruProjects\\Anaconda3\\lib\\site-packages\\scipy\\optimize\\lbfgsb.py:329: DeprecationWarning: tostring() is deprecated. Use tobytes() instead.\n",
      "  task_str = task.tostring()\n",
      "C:\\Users\\TruProjects\\Anaconda3\\lib\\site-packages\\scipy\\optimize\\lbfgsb.py:329: DeprecationWarning: tostring() is deprecated. Use tobytes() instead.\n",
      "  task_str = task.tostring()\n",
      "C:\\Users\\TruProjects\\Anaconda3\\lib\\site-packages\\scipy\\optimize\\lbfgsb.py:329: DeprecationWarning: tostring() is deprecated. Use tobytes() instead.\n",
      "  task_str = task.tostring()\n",
      "C:\\Users\\TruProjects\\Anaconda3\\lib\\site-packages\\scipy\\optimize\\lbfgsb.py:329: DeprecationWarning: tostring() is deprecated. Use tobytes() instead.\n",
      "  task_str = task.tostring()\n",
      "C:\\Users\\TruProjects\\Anaconda3\\lib\\site-packages\\scipy\\optimize\\lbfgsb.py:329: DeprecationWarning: tostring() is deprecated. Use tobytes() instead.\n",
      "  task_str = task.tostring()\n",
      "C:\\Users\\TruProjects\\Anaconda3\\lib\\site-packages\\scipy\\optimize\\lbfgsb.py:329: DeprecationWarning: tostring() is deprecated. Use tobytes() instead.\n",
      "  task_str = task.tostring()\n",
      "C:\\Users\\TruProjects\\Anaconda3\\lib\\site-packages\\scipy\\optimize\\lbfgsb.py:329: DeprecationWarning: tostring() is deprecated. Use tobytes() instead.\n",
      "  task_str = task.tostring()\n",
      "C:\\Users\\TruProjects\\Anaconda3\\lib\\site-packages\\scipy\\optimize\\lbfgsb.py:329: DeprecationWarning: tostring() is deprecated. Use tobytes() instead.\n",
      "  task_str = task.tostring()\n",
      "C:\\Users\\TruProjects\\Anaconda3\\lib\\site-packages\\scipy\\optimize\\lbfgsb.py:329: DeprecationWarning: tostring() is deprecated. Use tobytes() instead.\n",
      "  task_str = task.tostring()\n",
      "C:\\Users\\TruProjects\\Anaconda3\\lib\\site-packages\\scipy\\optimize\\lbfgsb.py:329: DeprecationWarning: tostring() is deprecated. Use tobytes() instead.\n",
      "  task_str = task.tostring()\n",
      "C:\\Users\\TruProjects\\Anaconda3\\lib\\site-packages\\scipy\\optimize\\lbfgsb.py:329: DeprecationWarning: tostring() is deprecated. Use tobytes() instead.\n",
      "  task_str = task.tostring()\n",
      "C:\\Users\\TruProjects\\Anaconda3\\lib\\site-packages\\scipy\\optimize\\lbfgsb.py:329: DeprecationWarning: tostring() is deprecated. Use tobytes() instead.\n",
      "  task_str = task.tostring()\n",
      "C:\\Users\\TruProjects\\Anaconda3\\lib\\site-packages\\scipy\\optimize\\lbfgsb.py:329: DeprecationWarning: tostring() is deprecated. Use tobytes() instead.\n",
      "  task_str = task.tostring()\n",
      "C:\\Users\\TruProjects\\Anaconda3\\lib\\site-packages\\scipy\\optimize\\lbfgsb.py:329: DeprecationWarning: tostring() is deprecated. Use tobytes() instead.\n",
      "  task_str = task.tostring()\n",
      "C:\\Users\\TruProjects\\Anaconda3\\lib\\site-packages\\scipy\\optimize\\lbfgsb.py:329: DeprecationWarning: tostring() is deprecated. Use tobytes() instead.\n",
      "  task_str = task.tostring()\n",
      "C:\\Users\\TruProjects\\Anaconda3\\lib\\site-packages\\scipy\\optimize\\lbfgsb.py:329: DeprecationWarning: tostring() is deprecated. Use tobytes() instead.\n",
      "  task_str = task.tostring()\n",
      "C:\\Users\\TruProjects\\Anaconda3\\lib\\site-packages\\scipy\\optimize\\lbfgsb.py:329: DeprecationWarning: tostring() is deprecated. Use tobytes() instead.\n",
      "  task_str = task.tostring()\n",
      "C:\\Users\\TruProjects\\Anaconda3\\lib\\site-packages\\scipy\\optimize\\lbfgsb.py:329: DeprecationWarning: tostring() is deprecated. Use tobytes() instead.\n",
      "  task_str = task.tostring()\n",
      "C:\\Users\\TruProjects\\Anaconda3\\lib\\site-packages\\scipy\\optimize\\lbfgsb.py:329: DeprecationWarning: tostring() is deprecated. Use tobytes() instead.\n",
      "  task_str = task.tostring()\n",
      "C:\\Users\\TruProjects\\Anaconda3\\lib\\site-packages\\scipy\\optimize\\lbfgsb.py:329: DeprecationWarning: tostring() is deprecated. Use tobytes() instead.\n",
      "  task_str = task.tostring()\n",
      "C:\\Users\\TruProjects\\Anaconda3\\lib\\site-packages\\scipy\\optimize\\lbfgsb.py:329: DeprecationWarning: tostring() is deprecated. Use tobytes() instead.\n",
      "  task_str = task.tostring()\n",
      "C:\\Users\\TruProjects\\Anaconda3\\lib\\site-packages\\scipy\\optimize\\lbfgsb.py:329: DeprecationWarning: tostring() is deprecated. Use tobytes() instead.\n",
      "  task_str = task.tostring()\n",
      "C:\\Users\\TruProjects\\Anaconda3\\lib\\site-packages\\scipy\\optimize\\lbfgsb.py:329: DeprecationWarning: tostring() is deprecated. Use tobytes() instead.\n",
      "  task_str = task.tostring()\n",
      "C:\\Users\\TruProjects\\Anaconda3\\lib\\site-packages\\scipy\\optimize\\lbfgsb.py:329: DeprecationWarning: tostring() is deprecated. Use tobytes() instead.\n",
      "  task_str = task.tostring()\n",
      "C:\\Users\\TruProjects\\Anaconda3\\lib\\site-packages\\scipy\\optimize\\lbfgsb.py:329: DeprecationWarning: tostring() is deprecated. Use tobytes() instead.\n",
      "  task_str = task.tostring()\n",
      "C:\\Users\\TruProjects\\Anaconda3\\lib\\site-packages\\scipy\\optimize\\lbfgsb.py:329: DeprecationWarning: tostring() is deprecated. Use tobytes() instead.\n",
      "  task_str = task.tostring()\n",
      "C:\\Users\\TruProjects\\Anaconda3\\lib\\site-packages\\scipy\\optimize\\lbfgsb.py:329: DeprecationWarning: tostring() is deprecated. Use tobytes() instead.\n",
      "  task_str = task.tostring()\n",
      "C:\\Users\\TruProjects\\Anaconda3\\lib\\site-packages\\scipy\\optimize\\lbfgsb.py:329: DeprecationWarning: tostring() is deprecated. Use tobytes() instead.\n",
      "  task_str = task.tostring()\n",
      "C:\\Users\\TruProjects\\Anaconda3\\lib\\site-packages\\scipy\\optimize\\lbfgsb.py:329: DeprecationWarning: tostring() is deprecated. Use tobytes() instead.\n",
      "  task_str = task.tostring()\n",
      "C:\\Users\\TruProjects\\Anaconda3\\lib\\site-packages\\scipy\\optimize\\lbfgsb.py:329: DeprecationWarning: tostring() is deprecated. Use tobytes() instead.\n",
      "  task_str = task.tostring()\n",
      "C:\\Users\\TruProjects\\Anaconda3\\lib\\site-packages\\scipy\\optimize\\lbfgsb.py:329: DeprecationWarning: tostring() is deprecated. Use tobytes() instead.\n",
      "  task_str = task.tostring()\n",
      "C:\\Users\\TruProjects\\Anaconda3\\lib\\site-packages\\scipy\\optimize\\lbfgsb.py:329: DeprecationWarning: tostring() is deprecated. Use tobytes() instead.\n",
      "  task_str = task.tostring()\n",
      "C:\\Users\\TruProjects\\Anaconda3\\lib\\site-packages\\scipy\\optimize\\lbfgsb.py:329: DeprecationWarning: tostring() is deprecated. Use tobytes() instead.\n",
      "  task_str = task.tostring()\n",
      "C:\\Users\\TruProjects\\Anaconda3\\lib\\site-packages\\scipy\\optimize\\lbfgsb.py:329: DeprecationWarning: tostring() is deprecated. Use tobytes() instead.\n",
      "  task_str = task.tostring()\n",
      "C:\\Users\\TruProjects\\Anaconda3\\lib\\site-packages\\scipy\\optimize\\lbfgsb.py:329: DeprecationWarning: tostring() is deprecated. Use tobytes() instead.\n",
      "  task_str = task.tostring()\n",
      "C:\\Users\\TruProjects\\Anaconda3\\lib\\site-packages\\scipy\\optimize\\lbfgsb.py:329: DeprecationWarning: tostring() is deprecated. Use tobytes() instead.\n",
      "  task_str = task.tostring()\n",
      "C:\\Users\\TruProjects\\Anaconda3\\lib\\site-packages\\scipy\\optimize\\lbfgsb.py:329: DeprecationWarning: tostring() is deprecated. Use tobytes() instead.\n",
      "  task_str = task.tostring()\n",
      "C:\\Users\\TruProjects\\Anaconda3\\lib\\site-packages\\scipy\\optimize\\lbfgsb.py:329: DeprecationWarning: tostring() is deprecated. Use tobytes() instead.\n",
      "  task_str = task.tostring()\n"
     ]
    },
    {
     "name": "stderr",
     "output_type": "stream",
     "text": [
      "C:\\Users\\TruProjects\\Anaconda3\\lib\\site-packages\\scipy\\optimize\\lbfgsb.py:329: DeprecationWarning: tostring() is deprecated. Use tobytes() instead.\n",
      "  task_str = task.tostring()\n",
      "C:\\Users\\TruProjects\\Anaconda3\\lib\\site-packages\\scipy\\optimize\\lbfgsb.py:329: DeprecationWarning: tostring() is deprecated. Use tobytes() instead.\n",
      "  task_str = task.tostring()\n",
      "C:\\Users\\TruProjects\\Anaconda3\\lib\\site-packages\\scipy\\optimize\\lbfgsb.py:329: DeprecationWarning: tostring() is deprecated. Use tobytes() instead.\n",
      "  task_str = task.tostring()\n",
      "C:\\Users\\TruProjects\\Anaconda3\\lib\\site-packages\\scipy\\optimize\\lbfgsb.py:329: DeprecationWarning: tostring() is deprecated. Use tobytes() instead.\n",
      "  task_str = task.tostring()\n",
      "C:\\Users\\TruProjects\\Anaconda3\\lib\\site-packages\\scipy\\optimize\\lbfgsb.py:329: DeprecationWarning: tostring() is deprecated. Use tobytes() instead.\n",
      "  task_str = task.tostring()\n",
      "C:\\Users\\TruProjects\\Anaconda3\\lib\\site-packages\\scipy\\optimize\\lbfgsb.py:329: DeprecationWarning: tostring() is deprecated. Use tobytes() instead.\n",
      "  task_str = task.tostring()\n",
      "C:\\Users\\TruProjects\\Anaconda3\\lib\\site-packages\\scipy\\optimize\\lbfgsb.py:329: DeprecationWarning: tostring() is deprecated. Use tobytes() instead.\n",
      "  task_str = task.tostring()\n",
      "C:\\Users\\TruProjects\\Anaconda3\\lib\\site-packages\\scipy\\optimize\\lbfgsb.py:329: DeprecationWarning: tostring() is deprecated. Use tobytes() instead.\n",
      "  task_str = task.tostring()\n",
      "C:\\Users\\TruProjects\\Anaconda3\\lib\\site-packages\\scipy\\optimize\\lbfgsb.py:329: DeprecationWarning: tostring() is deprecated. Use tobytes() instead.\n",
      "  task_str = task.tostring()\n",
      "C:\\Users\\TruProjects\\Anaconda3\\lib\\site-packages\\scipy\\optimize\\lbfgsb.py:329: DeprecationWarning: tostring() is deprecated. Use tobytes() instead.\n",
      "  task_str = task.tostring()\n",
      "C:\\Users\\TruProjects\\Anaconda3\\lib\\site-packages\\scipy\\optimize\\lbfgsb.py:329: DeprecationWarning: tostring() is deprecated. Use tobytes() instead.\n",
      "  task_str = task.tostring()\n",
      "C:\\Users\\TruProjects\\Anaconda3\\lib\\site-packages\\scipy\\optimize\\lbfgsb.py:329: DeprecationWarning: tostring() is deprecated. Use tobytes() instead.\n",
      "  task_str = task.tostring()\n",
      "C:\\Users\\TruProjects\\Anaconda3\\lib\\site-packages\\scipy\\optimize\\lbfgsb.py:329: DeprecationWarning: tostring() is deprecated. Use tobytes() instead.\n",
      "  task_str = task.tostring()\n",
      "C:\\Users\\TruProjects\\Anaconda3\\lib\\site-packages\\scipy\\optimize\\lbfgsb.py:329: DeprecationWarning: tostring() is deprecated. Use tobytes() instead.\n",
      "  task_str = task.tostring()\n",
      "C:\\Users\\TruProjects\\Anaconda3\\lib\\site-packages\\scipy\\optimize\\lbfgsb.py:329: DeprecationWarning: tostring() is deprecated. Use tobytes() instead.\n",
      "  task_str = task.tostring()\n",
      "C:\\Users\\TruProjects\\Anaconda3\\lib\\site-packages\\scipy\\optimize\\lbfgsb.py:329: DeprecationWarning: tostring() is deprecated. Use tobytes() instead.\n",
      "  task_str = task.tostring()\n",
      "C:\\Users\\TruProjects\\Anaconda3\\lib\\site-packages\\scipy\\optimize\\lbfgsb.py:329: DeprecationWarning: tostring() is deprecated. Use tobytes() instead.\n",
      "  task_str = task.tostring()\n",
      "C:\\Users\\TruProjects\\Anaconda3\\lib\\site-packages\\scipy\\optimize\\lbfgsb.py:329: DeprecationWarning: tostring() is deprecated. Use tobytes() instead.\n",
      "  task_str = task.tostring()\n",
      "C:\\Users\\TruProjects\\Anaconda3\\lib\\site-packages\\scipy\\optimize\\lbfgsb.py:329: DeprecationWarning: tostring() is deprecated. Use tobytes() instead.\n",
      "  task_str = task.tostring()\n",
      "C:\\Users\\TruProjects\\Anaconda3\\lib\\site-packages\\scipy\\optimize\\lbfgsb.py:329: DeprecationWarning: tostring() is deprecated. Use tobytes() instead.\n",
      "  task_str = task.tostring()\n",
      "C:\\Users\\TruProjects\\Anaconda3\\lib\\site-packages\\scipy\\optimize\\lbfgsb.py:329: DeprecationWarning: tostring() is deprecated. Use tobytes() instead.\n",
      "  task_str = task.tostring()\n",
      "C:\\Users\\TruProjects\\Anaconda3\\lib\\site-packages\\scipy\\optimize\\lbfgsb.py:329: DeprecationWarning: tostring() is deprecated. Use tobytes() instead.\n",
      "  task_str = task.tostring()\n",
      "C:\\Users\\TruProjects\\Anaconda3\\lib\\site-packages\\scipy\\optimize\\lbfgsb.py:329: DeprecationWarning: tostring() is deprecated. Use tobytes() instead.\n",
      "  task_str = task.tostring()\n",
      "C:\\Users\\TruProjects\\Anaconda3\\lib\\site-packages\\scipy\\optimize\\lbfgsb.py:329: DeprecationWarning: tostring() is deprecated. Use tobytes() instead.\n",
      "  task_str = task.tostring()\n",
      "C:\\Users\\TruProjects\\Anaconda3\\lib\\site-packages\\scipy\\optimize\\lbfgsb.py:329: DeprecationWarning: tostring() is deprecated. Use tobytes() instead.\n",
      "  task_str = task.tostring()\n",
      "C:\\Users\\TruProjects\\Anaconda3\\lib\\site-packages\\scipy\\optimize\\lbfgsb.py:329: DeprecationWarning: tostring() is deprecated. Use tobytes() instead.\n",
      "  task_str = task.tostring()\n",
      "C:\\Users\\TruProjects\\Anaconda3\\lib\\site-packages\\scipy\\optimize\\lbfgsb.py:329: DeprecationWarning: tostring() is deprecated. Use tobytes() instead.\n",
      "  task_str = task.tostring()\n",
      "C:\\Users\\TruProjects\\Anaconda3\\lib\\site-packages\\scipy\\optimize\\lbfgsb.py:329: DeprecationWarning: tostring() is deprecated. Use tobytes() instead.\n",
      "  task_str = task.tostring()\n",
      "C:\\Users\\TruProjects\\Anaconda3\\lib\\site-packages\\scipy\\optimize\\lbfgsb.py:329: DeprecationWarning: tostring() is deprecated. Use tobytes() instead.\n",
      "  task_str = task.tostring()\n",
      "C:\\Users\\TruProjects\\Anaconda3\\lib\\site-packages\\scipy\\optimize\\lbfgsb.py:329: DeprecationWarning: tostring() is deprecated. Use tobytes() instead.\n",
      "  task_str = task.tostring()\n",
      "C:\\Users\\TruProjects\\Anaconda3\\lib\\site-packages\\scipy\\optimize\\lbfgsb.py:329: DeprecationWarning: tostring() is deprecated. Use tobytes() instead.\n",
      "  task_str = task.tostring()\n",
      "C:\\Users\\TruProjects\\Anaconda3\\lib\\site-packages\\scipy\\optimize\\lbfgsb.py:329: DeprecationWarning: tostring() is deprecated. Use tobytes() instead.\n",
      "  task_str = task.tostring()\n",
      "C:\\Users\\TruProjects\\Anaconda3\\lib\\site-packages\\scipy\\optimize\\lbfgsb.py:329: DeprecationWarning: tostring() is deprecated. Use tobytes() instead.\n",
      "  task_str = task.tostring()\n",
      "C:\\Users\\TruProjects\\Anaconda3\\lib\\site-packages\\scipy\\optimize\\lbfgsb.py:329: DeprecationWarning: tostring() is deprecated. Use tobytes() instead.\n",
      "  task_str = task.tostring()\n",
      "C:\\Users\\TruProjects\\Anaconda3\\lib\\site-packages\\scipy\\optimize\\lbfgsb.py:329: DeprecationWarning: tostring() is deprecated. Use tobytes() instead.\n",
      "  task_str = task.tostring()\n",
      "C:\\Users\\TruProjects\\Anaconda3\\lib\\site-packages\\scipy\\optimize\\lbfgsb.py:329: DeprecationWarning: tostring() is deprecated. Use tobytes() instead.\n",
      "  task_str = task.tostring()\n",
      "C:\\Users\\TruProjects\\Anaconda3\\lib\\site-packages\\scipy\\optimize\\lbfgsb.py:329: DeprecationWarning: tostring() is deprecated. Use tobytes() instead.\n",
      "  task_str = task.tostring()\n",
      "C:\\Users\\TruProjects\\Anaconda3\\lib\\site-packages\\scipy\\optimize\\lbfgsb.py:329: DeprecationWarning: tostring() is deprecated. Use tobytes() instead.\n",
      "  task_str = task.tostring()\n",
      "C:\\Users\\TruProjects\\Anaconda3\\lib\\site-packages\\scipy\\optimize\\lbfgsb.py:329: DeprecationWarning: tostring() is deprecated. Use tobytes() instead.\n",
      "  task_str = task.tostring()\n",
      "C:\\Users\\TruProjects\\Anaconda3\\lib\\site-packages\\scipy\\optimize\\lbfgsb.py:329: DeprecationWarning: tostring() is deprecated. Use tobytes() instead.\n",
      "  task_str = task.tostring()\n",
      "C:\\Users\\TruProjects\\Anaconda3\\lib\\site-packages\\scipy\\optimize\\lbfgsb.py:329: DeprecationWarning: tostring() is deprecated. Use tobytes() instead.\n",
      "  task_str = task.tostring()\n",
      "C:\\Users\\TruProjects\\Anaconda3\\lib\\site-packages\\scipy\\optimize\\lbfgsb.py:329: DeprecationWarning: tostring() is deprecated. Use tobytes() instead.\n",
      "  task_str = task.tostring()\n",
      "C:\\Users\\TruProjects\\Anaconda3\\lib\\site-packages\\scipy\\optimize\\lbfgsb.py:329: DeprecationWarning: tostring() is deprecated. Use tobytes() instead.\n",
      "  task_str = task.tostring()\n",
      "C:\\Users\\TruProjects\\Anaconda3\\lib\\site-packages\\scipy\\optimize\\lbfgsb.py:329: DeprecationWarning: tostring() is deprecated. Use tobytes() instead.\n",
      "  task_str = task.tostring()\n",
      "C:\\Users\\TruProjects\\Anaconda3\\lib\\site-packages\\scipy\\optimize\\lbfgsb.py:329: DeprecationWarning: tostring() is deprecated. Use tobytes() instead.\n",
      "  task_str = task.tostring()\n",
      "C:\\Users\\TruProjects\\Anaconda3\\lib\\site-packages\\scipy\\optimize\\lbfgsb.py:329: DeprecationWarning: tostring() is deprecated. Use tobytes() instead.\n",
      "  task_str = task.tostring()\n",
      "C:\\Users\\TruProjects\\Anaconda3\\lib\\site-packages\\scipy\\optimize\\lbfgsb.py:329: DeprecationWarning: tostring() is deprecated. Use tobytes() instead.\n",
      "  task_str = task.tostring()\n",
      "C:\\Users\\TruProjects\\Anaconda3\\lib\\site-packages\\scipy\\optimize\\lbfgsb.py:329: DeprecationWarning: tostring() is deprecated. Use tobytes() instead.\n",
      "  task_str = task.tostring()\n",
      "C:\\Users\\TruProjects\\Anaconda3\\lib\\site-packages\\scipy\\optimize\\lbfgsb.py:329: DeprecationWarning: tostring() is deprecated. Use tobytes() instead.\n",
      "  task_str = task.tostring()\n",
      "C:\\Users\\TruProjects\\Anaconda3\\lib\\site-packages\\scipy\\optimize\\lbfgsb.py:329: DeprecationWarning: tostring() is deprecated. Use tobytes() instead.\n",
      "  task_str = task.tostring()\n",
      "C:\\Users\\TruProjects\\Anaconda3\\lib\\site-packages\\scipy\\optimize\\lbfgsb.py:329: DeprecationWarning: tostring() is deprecated. Use tobytes() instead.\n",
      "  task_str = task.tostring()\n",
      "C:\\Users\\TruProjects\\Anaconda3\\lib\\site-packages\\scipy\\optimize\\lbfgsb.py:329: DeprecationWarning: tostring() is deprecated. Use tobytes() instead.\n",
      "  task_str = task.tostring()\n"
     ]
    },
    {
     "name": "stderr",
     "output_type": "stream",
     "text": [
      "C:\\Users\\TruProjects\\Anaconda3\\lib\\site-packages\\scipy\\optimize\\lbfgsb.py:329: DeprecationWarning: tostring() is deprecated. Use tobytes() instead.\n",
      "  task_str = task.tostring()\n",
      "C:\\Users\\TruProjects\\Anaconda3\\lib\\site-packages\\scipy\\optimize\\lbfgsb.py:329: DeprecationWarning: tostring() is deprecated. Use tobytes() instead.\n",
      "  task_str = task.tostring()\n",
      "C:\\Users\\TruProjects\\Anaconda3\\lib\\site-packages\\scipy\\optimize\\lbfgsb.py:329: DeprecationWarning: tostring() is deprecated. Use tobytes() instead.\n",
      "  task_str = task.tostring()\n",
      "C:\\Users\\TruProjects\\Anaconda3\\lib\\site-packages\\scipy\\optimize\\lbfgsb.py:329: DeprecationWarning: tostring() is deprecated. Use tobytes() instead.\n",
      "  task_str = task.tostring()\n",
      "C:\\Users\\TruProjects\\Anaconda3\\lib\\site-packages\\scipy\\optimize\\lbfgsb.py:329: DeprecationWarning: tostring() is deprecated. Use tobytes() instead.\n",
      "  task_str = task.tostring()\n",
      "C:\\Users\\TruProjects\\Anaconda3\\lib\\site-packages\\scipy\\optimize\\lbfgsb.py:329: DeprecationWarning: tostring() is deprecated. Use tobytes() instead.\n",
      "  task_str = task.tostring()\n",
      "C:\\Users\\TruProjects\\Anaconda3\\lib\\site-packages\\scipy\\optimize\\lbfgsb.py:329: DeprecationWarning: tostring() is deprecated. Use tobytes() instead.\n",
      "  task_str = task.tostring()\n",
      "C:\\Users\\TruProjects\\Anaconda3\\lib\\site-packages\\scipy\\optimize\\lbfgsb.py:329: DeprecationWarning: tostring() is deprecated. Use tobytes() instead.\n",
      "  task_str = task.tostring()\n",
      "C:\\Users\\TruProjects\\Anaconda3\\lib\\site-packages\\scipy\\optimize\\lbfgsb.py:329: DeprecationWarning: tostring() is deprecated. Use tobytes() instead.\n",
      "  task_str = task.tostring()\n",
      "C:\\Users\\TruProjects\\Anaconda3\\lib\\site-packages\\scipy\\optimize\\lbfgsb.py:329: DeprecationWarning: tostring() is deprecated. Use tobytes() instead.\n",
      "  task_str = task.tostring()\n",
      "C:\\Users\\TruProjects\\Anaconda3\\lib\\site-packages\\scipy\\optimize\\lbfgsb.py:329: DeprecationWarning: tostring() is deprecated. Use tobytes() instead.\n",
      "  task_str = task.tostring()\n",
      "C:\\Users\\TruProjects\\Anaconda3\\lib\\site-packages\\scipy\\optimize\\lbfgsb.py:329: DeprecationWarning: tostring() is deprecated. Use tobytes() instead.\n",
      "  task_str = task.tostring()\n",
      "C:\\Users\\TruProjects\\Anaconda3\\lib\\site-packages\\scipy\\optimize\\lbfgsb.py:329: DeprecationWarning: tostring() is deprecated. Use tobytes() instead.\n",
      "  task_str = task.tostring()\n",
      "C:\\Users\\TruProjects\\Anaconda3\\lib\\site-packages\\scipy\\optimize\\lbfgsb.py:329: DeprecationWarning: tostring() is deprecated. Use tobytes() instead.\n",
      "  task_str = task.tostring()\n",
      "C:\\Users\\TruProjects\\Anaconda3\\lib\\site-packages\\scipy\\optimize\\lbfgsb.py:329: DeprecationWarning: tostring() is deprecated. Use tobytes() instead.\n",
      "  task_str = task.tostring()\n",
      "C:\\Users\\TruProjects\\Anaconda3\\lib\\site-packages\\scipy\\optimize\\lbfgsb.py:329: DeprecationWarning: tostring() is deprecated. Use tobytes() instead.\n",
      "  task_str = task.tostring()\n",
      "C:\\Users\\TruProjects\\Anaconda3\\lib\\site-packages\\scipy\\optimize\\lbfgsb.py:329: DeprecationWarning: tostring() is deprecated. Use tobytes() instead.\n",
      "  task_str = task.tostring()\n",
      "C:\\Users\\TruProjects\\Anaconda3\\lib\\site-packages\\scipy\\optimize\\lbfgsb.py:329: DeprecationWarning: tostring() is deprecated. Use tobytes() instead.\n",
      "  task_str = task.tostring()\n",
      "C:\\Users\\TruProjects\\Anaconda3\\lib\\site-packages\\scipy\\optimize\\lbfgsb.py:329: DeprecationWarning: tostring() is deprecated. Use tobytes() instead.\n",
      "  task_str = task.tostring()\n",
      "C:\\Users\\TruProjects\\Anaconda3\\lib\\site-packages\\scipy\\optimize\\lbfgsb.py:329: DeprecationWarning: tostring() is deprecated. Use tobytes() instead.\n",
      "  task_str = task.tostring()\n",
      "C:\\Users\\TruProjects\\Anaconda3\\lib\\site-packages\\scipy\\optimize\\lbfgsb.py:329: DeprecationWarning: tostring() is deprecated. Use tobytes() instead.\n",
      "  task_str = task.tostring()\n",
      "C:\\Users\\TruProjects\\Anaconda3\\lib\\site-packages\\scipy\\optimize\\lbfgsb.py:329: DeprecationWarning: tostring() is deprecated. Use tobytes() instead.\n",
      "  task_str = task.tostring()\n",
      "C:\\Users\\TruProjects\\Anaconda3\\lib\\site-packages\\scipy\\optimize\\lbfgsb.py:329: DeprecationWarning: tostring() is deprecated. Use tobytes() instead.\n",
      "  task_str = task.tostring()\n",
      "C:\\Users\\TruProjects\\Anaconda3\\lib\\site-packages\\scipy\\optimize\\lbfgsb.py:329: DeprecationWarning: tostring() is deprecated. Use tobytes() instead.\n",
      "  task_str = task.tostring()\n",
      "C:\\Users\\TruProjects\\Anaconda3\\lib\\site-packages\\scipy\\optimize\\lbfgsb.py:329: DeprecationWarning: tostring() is deprecated. Use tobytes() instead.\n",
      "  task_str = task.tostring()\n",
      "C:\\Users\\TruProjects\\Anaconda3\\lib\\site-packages\\scipy\\optimize\\lbfgsb.py:329: DeprecationWarning: tostring() is deprecated. Use tobytes() instead.\n",
      "  task_str = task.tostring()\n",
      "C:\\Users\\TruProjects\\Anaconda3\\lib\\site-packages\\scipy\\optimize\\lbfgsb.py:329: DeprecationWarning: tostring() is deprecated. Use tobytes() instead.\n",
      "  task_str = task.tostring()\n",
      "C:\\Users\\TruProjects\\Anaconda3\\lib\\site-packages\\scipy\\optimize\\lbfgsb.py:329: DeprecationWarning: tostring() is deprecated. Use tobytes() instead.\n",
      "  task_str = task.tostring()\n",
      "C:\\Users\\TruProjects\\Anaconda3\\lib\\site-packages\\scipy\\optimize\\lbfgsb.py:329: DeprecationWarning: tostring() is deprecated. Use tobytes() instead.\n",
      "  task_str = task.tostring()\n",
      "C:\\Users\\TruProjects\\Anaconda3\\lib\\site-packages\\scipy\\optimize\\lbfgsb.py:329: DeprecationWarning: tostring() is deprecated. Use tobytes() instead.\n",
      "  task_str = task.tostring()\n",
      "C:\\Users\\TruProjects\\Anaconda3\\lib\\site-packages\\scipy\\optimize\\lbfgsb.py:329: DeprecationWarning: tostring() is deprecated. Use tobytes() instead.\n",
      "  task_str = task.tostring()\n",
      "C:\\Users\\TruProjects\\Anaconda3\\lib\\site-packages\\scipy\\optimize\\lbfgsb.py:329: DeprecationWarning: tostring() is deprecated. Use tobytes() instead.\n",
      "  task_str = task.tostring()\n",
      "C:\\Users\\TruProjects\\Anaconda3\\lib\\site-packages\\scipy\\optimize\\lbfgsb.py:329: DeprecationWarning: tostring() is deprecated. Use tobytes() instead.\n",
      "  task_str = task.tostring()\n",
      "C:\\Users\\TruProjects\\Anaconda3\\lib\\site-packages\\scipy\\optimize\\lbfgsb.py:329: DeprecationWarning: tostring() is deprecated. Use tobytes() instead.\n",
      "  task_str = task.tostring()\n",
      "C:\\Users\\TruProjects\\Anaconda3\\lib\\site-packages\\scipy\\optimize\\lbfgsb.py:329: DeprecationWarning: tostring() is deprecated. Use tobytes() instead.\n",
      "  task_str = task.tostring()\n",
      "C:\\Users\\TruProjects\\Anaconda3\\lib\\site-packages\\scipy\\optimize\\lbfgsb.py:329: DeprecationWarning: tostring() is deprecated. Use tobytes() instead.\n",
      "  task_str = task.tostring()\n",
      "C:\\Users\\TruProjects\\Anaconda3\\lib\\site-packages\\scipy\\optimize\\lbfgsb.py:329: DeprecationWarning: tostring() is deprecated. Use tobytes() instead.\n",
      "  task_str = task.tostring()\n",
      "C:\\Users\\TruProjects\\Anaconda3\\lib\\site-packages\\scipy\\optimize\\lbfgsb.py:329: DeprecationWarning: tostring() is deprecated. Use tobytes() instead.\n",
      "  task_str = task.tostring()\n",
      "C:\\Users\\TruProjects\\Anaconda3\\lib\\site-packages\\scipy\\optimize\\lbfgsb.py:329: DeprecationWarning: tostring() is deprecated. Use tobytes() instead.\n",
      "  task_str = task.tostring()\n",
      "C:\\Users\\TruProjects\\Anaconda3\\lib\\site-packages\\scipy\\optimize\\lbfgsb.py:329: DeprecationWarning: tostring() is deprecated. Use tobytes() instead.\n",
      "  task_str = task.tostring()\n",
      "C:\\Users\\TruProjects\\Anaconda3\\lib\\site-packages\\scipy\\optimize\\lbfgsb.py:329: DeprecationWarning: tostring() is deprecated. Use tobytes() instead.\n",
      "  task_str = task.tostring()\n",
      "C:\\Users\\TruProjects\\Anaconda3\\lib\\site-packages\\scipy\\optimize\\lbfgsb.py:329: DeprecationWarning: tostring() is deprecated. Use tobytes() instead.\n",
      "  task_str = task.tostring()\n",
      "C:\\Users\\TruProjects\\Anaconda3\\lib\\site-packages\\scipy\\optimize\\lbfgsb.py:329: DeprecationWarning: tostring() is deprecated. Use tobytes() instead.\n",
      "  task_str = task.tostring()\n",
      "C:\\Users\\TruProjects\\Anaconda3\\lib\\site-packages\\scipy\\optimize\\lbfgsb.py:329: DeprecationWarning: tostring() is deprecated. Use tobytes() instead.\n",
      "  task_str = task.tostring()\n",
      "C:\\Users\\TruProjects\\Anaconda3\\lib\\site-packages\\scipy\\optimize\\lbfgsb.py:329: DeprecationWarning: tostring() is deprecated. Use tobytes() instead.\n",
      "  task_str = task.tostring()\n",
      "C:\\Users\\TruProjects\\Anaconda3\\lib\\site-packages\\scipy\\optimize\\lbfgsb.py:329: DeprecationWarning: tostring() is deprecated. Use tobytes() instead.\n",
      "  task_str = task.tostring()\n",
      "C:\\Users\\TruProjects\\Anaconda3\\lib\\site-packages\\scipy\\optimize\\lbfgsb.py:329: DeprecationWarning: tostring() is deprecated. Use tobytes() instead.\n",
      "  task_str = task.tostring()\n",
      "C:\\Users\\TruProjects\\Anaconda3\\lib\\site-packages\\scipy\\optimize\\lbfgsb.py:329: DeprecationWarning: tostring() is deprecated. Use tobytes() instead.\n",
      "  task_str = task.tostring()\n",
      "C:\\Users\\TruProjects\\Anaconda3\\lib\\site-packages\\scipy\\optimize\\lbfgsb.py:350: DeprecationWarning: tostring() is deprecated. Use tobytes() instead.\n",
      "  task_str = task.tostring().strip(b'\\x00').strip()\n"
     ]
    },
    {
     "name": "stdout",
     "output_type": "stream",
     "text": [
      "*Accuracy score for Voting Classifier:  84.43181818181819 \n",
      "\n",
      "*Confusion Matrix for Voting CLassifier: \n",
      "[[1419   65   13   53   50    8]\n",
      " [  68 1594   45   20   33   11]\n",
      " [  16  126  253    7    2    1]\n",
      " [  51   41    5  556   27    1]\n",
      " [  31   27    5   25  518    8]\n",
      " [  10   31    1    3   38  118]]\n",
      "*Classification Report for Voting Classifier: \n",
      "              precision    recall  f1-score   support\n",
      "\n",
      "           0       0.89      0.88      0.89      1608\n",
      "           1       0.85      0.90      0.87      1771\n",
      "           2       0.79      0.62      0.70       405\n",
      "           3       0.84      0.82      0.83       681\n",
      "           4       0.78      0.84      0.81       614\n",
      "           5       0.80      0.59      0.68       201\n",
      "\n",
      "    accuracy                           0.84      5280\n",
      "   macro avg       0.82      0.78      0.79      5280\n",
      "weighted avg       0.84      0.84      0.84      5280\n",
      "\n"
     ]
    }
   ],
   "source": [
    "from sklearn.ensemble import VotingClassifier\n",
    "from sklearn.linear_model import LogisticRegression\n",
    "from sklearn.ensemble import RandomForestClassifier\n",
    "from sklearn.tree import DecisionTreeClassifier\n",
    "estimator = []\n",
    "estimator.append(('LR', \n",
    "                  LogisticRegression(solver ='lbfgs', \n",
    "                                     multi_class ='multinomial', \n",
    "                                     max_iter = 200)))\n",
    "estimator.append(('RFC', RandomForestClassifier()))\n",
    "estimator.append(('DTC', DecisionTreeClassifier()))\n",
    "vot_hard = VotingClassifier(estimators = estimator, voting ='hard')\n",
    "vot_hard.fit(x_train, y_train)\n",
    "predictions = vot_hard.predict(x_test)\n",
    "val7 = (accuracy_score(y_test, predictions)*100)\n",
    "print(\"*Accuracy score for Voting Classifier: \", val7, \"\\n\")\n",
    "print(\"*Confusion Matrix for Voting CLassifier: \")\n",
    "print(confusion_matrix(y_test, predictions))\n",
    "print(\"*Classification Report for Voting Classifier: \")\n",
    "print(classification_report(y_test, predictions))"
   ]
  },
  {
   "cell_type": "markdown",
   "metadata": {},
   "source": [
    "# DL"
   ]
  },
  {
   "cell_type": "code",
   "execution_count": 35,
   "metadata": {},
   "outputs": [
    {
     "name": "stderr",
     "output_type": "stream",
     "text": [
      "Using TensorFlow backend.\n",
      "C:\\Users\\TruProjects\\Anaconda3\\lib\\site-packages\\ipykernel_launcher.py:38: DeprecationWarning: `import kerastuner` is deprecated, please use `import keras_tuner`.\n"
     ]
    }
   ],
   "source": [
    "#importing libraries for model evaluation and algorithms\n",
    "import pandas as pd\n",
    "import numpy as np\n",
    "import matplotlib.pyplot as plt\n",
    "import seaborn as sns\n",
    "import re\n",
    "import collections\n",
    "import nltk\n",
    "from sklearn import preprocessing\n",
    "from nltk.tokenize import sent_tokenize, word_tokenize\n",
    "# Packages for data preparation\n",
    "from sklearn.model_selection import train_test_split\n",
    "from nltk.corpus import stopwords\n",
    "from keras.preprocessing.text import Tokenizer\n",
    "from keras.utils.np_utils import to_categorical\n",
    "from sklearn.preprocessing import LabelEncoder\n",
    "#dl libraraies\n",
    "import keras\n",
    "from tensorflow import keras\n",
    "from tensorflow.keras.models import Sequential\n",
    "from tensorflow.keras.layers import Dense, Conv2D , MaxPool2D , Flatten , Dropout , BatchNormalization,Reshape,Dot,Concatenate,Add,Lambda\n",
    "from tensorflow.keras.preprocessing.image import ImageDataGenerator\n",
    "from tensorflow.keras.callbacks import ReduceLROnPlateau\n",
    "#import cv2\n",
    "from tensorflow.keras.optimizers import Adam,SGD,Adagrad,Adadelta,RMSprop\n",
    "import os\n",
    "from tensorflow.keras.models import Model\n",
    "from tensorflow.keras.regularizers import l2\n",
    "from keras.layers.recurrent import LSTM\n",
    "from keras.preprocessing.sequence import pad_sequences\n",
    "# specifically for deeplearning.\n",
    "from tensorflow.keras.layers import Dropout, Flatten,Activation,Input,Embedding\n",
    "from tensorflow.keras.layers import Conv2D, MaxPooling2D, BatchNormalization\n",
    "# Packages for modeling\n",
    "from keras import models\n",
    "from keras import layers\n",
    "from keras import regularizers\n",
    "from kerastuner import RandomSearch\n",
    "from kerastuner.engine.hyperparameters import HyperParameters"
   ]
  },
  {
   "cell_type": "code",
   "execution_count": 36,
   "metadata": {},
   "outputs": [
    {
     "data": {
      "text/html": [
       "<div>\n",
       "<style scoped>\n",
       "    .dataframe tbody tr th:only-of-type {\n",
       "        vertical-align: middle;\n",
       "    }\n",
       "\n",
       "    .dataframe tbody tr th {\n",
       "        vertical-align: top;\n",
       "    }\n",
       "\n",
       "    .dataframe thead th {\n",
       "        text-align: right;\n",
       "    }\n",
       "</style>\n",
       "<table border=\"1\" class=\"dataframe\">\n",
       "  <thead>\n",
       "    <tr style=\"text-align: right;\">\n",
       "      <th></th>\n",
       "      <th>text</th>\n",
       "      <th>label</th>\n",
       "    </tr>\n",
       "  </thead>\n",
       "  <tbody>\n",
       "    <tr>\n",
       "      <th>0</th>\n",
       "      <td>i didnt feel humiliated</td>\n",
       "      <td>0</td>\n",
       "    </tr>\n",
       "    <tr>\n",
       "      <th>1</th>\n",
       "      <td>i can go from feeling so hopeless to so damned...</td>\n",
       "      <td>0</td>\n",
       "    </tr>\n",
       "    <tr>\n",
       "      <th>2</th>\n",
       "      <td>im grabbing a minute to post i feel greedy wrong</td>\n",
       "      <td>3</td>\n",
       "    </tr>\n",
       "    <tr>\n",
       "      <th>3</th>\n",
       "      <td>i am ever feeling nostalgic about the fireplac...</td>\n",
       "      <td>2</td>\n",
       "    </tr>\n",
       "    <tr>\n",
       "      <th>4</th>\n",
       "      <td>i am feeling grouchy</td>\n",
       "      <td>3</td>\n",
       "    </tr>\n",
       "  </tbody>\n",
       "</table>\n",
       "</div>"
      ],
      "text/plain": [
       "                                                text  label\n",
       "0                            i didnt feel humiliated      0\n",
       "1  i can go from feeling so hopeless to so damned...      0\n",
       "2   im grabbing a minute to post i feel greedy wrong      3\n",
       "3  i am ever feeling nostalgic about the fireplac...      2\n",
       "4                               i am feeling grouchy      3"
      ]
     },
     "execution_count": 36,
     "metadata": {},
     "output_type": "execute_result"
    }
   ],
   "source": [
    "#reading the dataframe\n",
    "df = pd.read_csv('dataset/training.csv',encoding='ISO-8859-1')\n",
    "df.head()"
   ]
  },
  {
   "cell_type": "code",
   "execution_count": 37,
   "metadata": {},
   "outputs": [],
   "source": [
    "#Setting parameters which will be used throughout\n",
    "num_words = 15000  # Parameter indicating the number of words we'll put in the dictionary\n",
    "val_size = 1000  # Size of the validation set\n",
    "epochs = 20  # Number of epochs we usually start to train with\n",
    "batch_size = 512  # Size of the batches used in the mini-batch gradient descent\n",
    "#Taking only two columns since it's a sentiment analysis"
   ]
  },
  {
   "cell_type": "code",
   "execution_count": 38,
   "metadata": {},
   "outputs": [
    {
     "name": "stderr",
     "output_type": "stream",
     "text": [
      "[nltk_data] Downloading package punkt to\n",
      "[nltk_data]     C:\\Users\\TruProjects\\AppData\\Roaming\\nltk_data...\n",
      "[nltk_data]   Package punkt is already up-to-date!\n",
      "[nltk_data] Downloading package stopwords to\n",
      "[nltk_data]     C:\\Users\\TruProjects\\AppData\\Roaming\\nltk_data...\n",
      "[nltk_data]   Package stopwords is already up-to-date!\n",
      "[nltk_data] Downloading package wordnet to\n",
      "[nltk_data]     C:\\Users\\TruProjects\\AppData\\Roaming\\nltk_data...\n",
      "[nltk_data]   Package wordnet is already up-to-date!\n",
      "[nltk_data] Downloading package averaged_perceptron_tagger to\n",
      "[nltk_data]     C:\\Users\\TruProjects\\AppData\\Roaming\\nltk_data...\n",
      "[nltk_data]   Package averaged_perceptron_tagger is already up-to-\n",
      "[nltk_data]       date!\n"
     ]
    },
    {
     "data": {
      "text/plain": [
       "True"
      ]
     },
     "execution_count": 38,
     "metadata": {},
     "output_type": "execute_result"
    }
   ],
   "source": [
    "nltk.download('punkt')\n",
    "nltk.download('stopwords')\n",
    "nltk.download('wordnet')\n",
    "nltk.download('averaged_perceptron_tagger')"
   ]
  },
  {
   "cell_type": "code",
   "execution_count": 39,
   "metadata": {},
   "outputs": [],
   "source": [
    "#tweets conssits of every document as an array of tokenized words which are later appended to docs \n",
    "tweets=[word_tokenize(tweet) for tweet in df['text']]\n",
    "docs=[]\n",
    "for j in range(0,len(tweets)):\n",
    "    docs.append(tweets[j])"
   ]
  },
  {
   "cell_type": "code",
   "execution_count": 40,
   "metadata": {},
   "outputs": [],
   "source": [
    "#stops included both the stopwords and punctuations\n",
    "from nltk.corpus import stopwords\n",
    "import string\n",
    "stops = set(stopwords.words('english'))\n",
    "punctuations = list(string.punctuation)\n",
    "not_list = [\"n't\", \"not\", \"no\"]\n",
    "stops.update(punctuations)\n",
    "stops.update(not_list)"
   ]
  },
  {
   "cell_type": "code",
   "execution_count": 41,
   "metadata": {},
   "outputs": [],
   "source": [
    "#to get the simple pos(part of speech) tag\n",
    "from nltk.corpus import wordnet\n",
    "def get_simple_pos(tag):\n",
    "    if tag.startswith('J'):\n",
    "        return wordnet.ADJ\n",
    "    elif tag.startswith('V'):\n",
    "        return wordnet.VERB\n",
    "    elif tag.startswith('N'):\n",
    "        return wordnet.NOUN\n",
    "    elif tag.startswith('R'):\n",
    "        return wordnet.ADV\n",
    "    else:\n",
    "        return wordnet.NOUN"
   ]
  },
  {
   "cell_type": "code",
   "execution_count": 42,
   "metadata": {},
   "outputs": [],
   "source": [
    "#to get the pos tag for a word\n",
    "from nltk import pos_tag\n",
    "# now we are going to clean our data \n",
    "# we will remove stopwords and punctuations and lemmatize each document\n",
    "from nltk.stem import WordNetLemmatizer\n",
    "lemmatizer=WordNetLemmatizer()\n",
    "def clean(words):\n",
    "    output=[]\n",
    "    for word in words:\n",
    "        if word.lower() not in stops or word.lower() in not_list:\n",
    "            pos=pos_tag(word)\n",
    "            clean_word=lemmatizer.lemmatize(word,pos=get_simple_pos(pos[0][1]))\n",
    "            output.append(clean_word.lower())\n",
    "    str1=\" \".join(output).encode('utf-8')        \n",
    "    return str1\n",
    "#docs=[ clean(doc) for doc in docs]      "
   ]
  },
  {
   "cell_type": "code",
   "execution_count": 43,
   "metadata": {},
   "outputs": [
    {
     "data": {
      "text/html": [
       "<div>\n",
       "<style scoped>\n",
       "    .dataframe tbody tr th:only-of-type {\n",
       "        vertical-align: middle;\n",
       "    }\n",
       "\n",
       "    .dataframe tbody tr th {\n",
       "        vertical-align: top;\n",
       "    }\n",
       "\n",
       "    .dataframe thead th {\n",
       "        text-align: right;\n",
       "    }\n",
       "</style>\n",
       "<table border=\"1\" class=\"dataframe\">\n",
       "  <thead>\n",
       "    <tr style=\"text-align: right;\">\n",
       "      <th></th>\n",
       "      <th>text</th>\n",
       "      <th>label</th>\n",
       "    </tr>\n",
       "  </thead>\n",
       "  <tbody>\n",
       "    <tr>\n",
       "      <th>0</th>\n",
       "      <td>i didnt feel humiliated</td>\n",
       "      <td>0</td>\n",
       "    </tr>\n",
       "    <tr>\n",
       "      <th>1</th>\n",
       "      <td>i can go from feeling so hopeless to so damned...</td>\n",
       "      <td>0</td>\n",
       "    </tr>\n",
       "    <tr>\n",
       "      <th>2</th>\n",
       "      <td>im grabbing a minute to post i feel greedy wrong</td>\n",
       "      <td>3</td>\n",
       "    </tr>\n",
       "    <tr>\n",
       "      <th>3</th>\n",
       "      <td>i am ever feeling nostalgic about the fireplac...</td>\n",
       "      <td>2</td>\n",
       "    </tr>\n",
       "    <tr>\n",
       "      <th>4</th>\n",
       "      <td>i am feeling grouchy</td>\n",
       "      <td>3</td>\n",
       "    </tr>\n",
       "  </tbody>\n",
       "</table>\n",
       "</div>"
      ],
      "text/plain": [
       "                                                text  label\n",
       "0                            i didnt feel humiliated      0\n",
       "1  i can go from feeling so hopeless to so damned...      0\n",
       "2   im grabbing a minute to post i feel greedy wrong      3\n",
       "3  i am ever feeling nostalgic about the fireplac...      2\n",
       "4                               i am feeling grouchy      3"
      ]
     },
     "execution_count": 43,
     "metadata": {},
     "output_type": "execute_result"
    }
   ],
   "source": [
    "#taking only two columns in the dataframe\n",
    "df=df[['text','label']]\n",
    "df.head()"
   ]
  },
  {
   "cell_type": "code",
   "execution_count": 44,
   "metadata": {},
   "outputs": [],
   "source": [
    "#taking variables to be used for train test split as X,y\n",
    "X,Y=df['text'].values,pd.get_dummies(df.label.values)"
   ]
  },
  {
   "cell_type": "code",
   "execution_count": 45,
   "metadata": {},
   "outputs": [
    {
     "name": "stdout",
     "output_type": "stream",
     "text": [
      "Fitted tokenizer on 16000 documents\n",
      "15000 words in dictionary\n",
      "Top 5 most common words are: [('i', 25859), ('feel', 11183), ('and', 9589), ('to', 8972), ('the', 8370)]\n"
     ]
    }
   ],
   "source": [
    "#using tokenizers to create the tokens having no of words=15000(num_words)\n",
    "tk = Tokenizer(num_words=num_words,\n",
    "               filters='!\"#$%&()*+,-./:;<=>?@[\\\\]^_`{|}~\\t\\n',\n",
    "               lower=True,\n",
    "               split=\" \")\n",
    "#Complete data is tokenized to vectors and padding is done using zeros to match its length to the largest text in the dataset.\n",
    "tk.fit_on_texts(X)\n",
    "X = tk.texts_to_sequences(X)\n",
    "X = pad_sequences(X)\n",
    "#print(X[:2])\n",
    "print('Fitted tokenizer on {} documents'.format(tk.document_count))\n",
    "print('{} words in dictionary'.format(tk.num_words))\n",
    "print('Top 5 most common words are:', collections.Counter(tk.word_counts).most_common(5))"
   ]
  },
  {
   "cell_type": "code",
   "execution_count": 46,
   "metadata": {},
   "outputs": [],
   "source": [
    "import pickle\n",
    "pickle.dump(tk,open('transform2.pkl','wb'))\n",
    "#files.download('transform2.pkl')"
   ]
  },
  {
   "cell_type": "code",
   "execution_count": 47,
   "metadata": {},
   "outputs": [
    {
     "name": "stdout",
     "output_type": "stream",
     "text": [
      "# Train data samples: (12800, 66)\n",
      "# Test data samples: (3200, 66)\n"
     ]
    }
   ],
   "source": [
    "#train test split\n",
    "X_train, X_test, Y_train, Y_test = train_test_split(X,Y, test_size=0.2, random_state=42)\n",
    "print('# Train data samples:', X_train.shape)\n",
    "print('# Test data samples:', X_test.shape)"
   ]
  },
  {
   "cell_type": "code",
   "execution_count": 48,
   "metadata": {},
   "outputs": [
    {
     "name": "stdout",
     "output_type": "stream",
     "text": [
      "Shape of validation set: (1280, 66)\n"
     ]
    }
   ],
   "source": [
    "#getting validation data as a part of training data\n",
    "X_train_rest, X_valid, Y_train_rest, Y_valid = train_test_split(X_train,Y_train, test_size=0.1, random_state=37)\n",
    "print('Shape of validation set:',X_valid.shape)"
   ]
  },
  {
   "cell_type": "code",
   "execution_count": 49,
   "metadata": {},
   "outputs": [],
   "source": [
    "#Function defined to test the models in the test set\n",
    "def test_model(model, epoch_stop):\n",
    "    model.fit(X_test\n",
    "              , Y_test\n",
    "              , epochs=epoch_stop\n",
    "              , batch_size=batch_size\n",
    "              , verbose=0)\n",
    "    results = model.evaluate(X_test, Y_test)\n",
    "    \n",
    "    return results"
   ]
  },
  {
   "cell_type": "code",
   "execution_count": 50,
   "metadata": {},
   "outputs": [
    {
     "name": "stdout",
     "output_type": "stream",
     "text": [
      "WARNING:tensorflow:Layer lstm will not use cuDNN kernel since it doesn't meet the cuDNN kernel criteria. It will use generic GPU kernel as fallback when running on GPU\n",
      "Model: \"sequential\"\n",
      "_________________________________________________________________\n",
      "Layer (type)                 Output Shape              Param #   \n",
      "=================================================================\n",
      "embedding (Embedding)        (None, 66, 128)           1920000   \n",
      "_________________________________________________________________\n",
      "lstm (LSTM)                  (None, 196)               254800    \n",
      "_________________________________________________________________\n",
      "dense (Dense)                (None, 32)                6304      \n",
      "_________________________________________________________________\n",
      "dropout (Dropout)            (None, 32)                0         \n",
      "_________________________________________________________________\n",
      "dense_1 (Dense)              (None, 6)                 198       \n",
      "=================================================================\n",
      "Total params: 2,181,302\n",
      "Trainable params: 2,181,302\n",
      "Non-trainable params: 0\n",
      "_________________________________________________________________\n",
      "None\n"
     ]
    }
   ],
   "source": [
    "embed_dim = 128 #dimension of the word embedding vector for each word in a sequence \n",
    "lstm_out = 196  #no of lstm layers\n",
    "lstm_model = Sequential()\n",
    "lstm_model.add(Embedding(num_words, embed_dim,input_length = X_train.shape[1]))\n",
    "#Adding dropout\n",
    "lstm_model.add(LSTM(lstm_out, dropout=0.2, recurrent_dropout=0.2))\n",
    "#Adding a regularized dense layer\n",
    "lstm_model.add(layers.Dense(32,kernel_regularizer=regularizers.l2(0.001),activation='relu'))\n",
    "lstm_model.add(layers.Dropout(0.5))\n",
    "lstm_model.add(Dense(6,activation='softmax'))\n",
    "lstm_model.compile(loss = 'categorical_crossentropy', optimizer='adam',metrics = ['accuracy'])\n",
    "print(lstm_model.summary())"
   ]
  },
  {
   "cell_type": "code",
   "execution_count": 51,
   "metadata": {},
   "outputs": [
    {
     "name": "stdout",
     "output_type": "stream",
     "text": [
      "Epoch 1/50\n",
      "23/23 [==============================] - 3s 118ms/step - loss: 1.7077 - accuracy: 0.3086 - val_loss: 1.6263 - val_accuracy: 0.3266\n",
      "Epoch 2/50\n",
      "23/23 [==============================] - 3s 110ms/step - loss: 1.6234 - accuracy: 0.3497 - val_loss: 1.5677 - val_accuracy: 0.3852\n",
      "Epoch 3/50\n",
      "23/23 [==============================] - 3s 110ms/step - loss: 1.5006 - accuracy: 0.4190 - val_loss: 1.5227 - val_accuracy: 0.4219\n",
      "Epoch 4/50\n",
      "23/23 [==============================] - 3s 111ms/step - loss: 1.3016 - accuracy: 0.5349 - val_loss: 1.2192 - val_accuracy: 0.5625\n",
      "Epoch 5/50\n",
      "23/23 [==============================] - 2s 108ms/step - loss: 0.9718 - accuracy: 0.6477 - val_loss: 0.9956 - val_accuracy: 0.6406\n",
      "Epoch 6/50\n",
      "23/23 [==============================] - 2s 107ms/step - loss: 0.7487 - accuracy: 0.7249 - val_loss: 0.9229 - val_accuracy: 0.6609\n",
      "Epoch 7/50\n",
      "23/23 [==============================] - 2s 109ms/step - loss: 0.6575 - accuracy: 0.7538 - val_loss: 0.9201 - val_accuracy: 0.6805\n",
      "Epoch 8/50\n",
      "23/23 [==============================] - 2s 107ms/step - loss: 0.5919 - accuracy: 0.7794 - val_loss: 0.8781 - val_accuracy: 0.6984\n",
      "Epoch 9/50\n",
      "23/23 [==============================] - 3s 109ms/step - loss: 0.5237 - accuracy: 0.8138 - val_loss: 0.8211 - val_accuracy: 0.7508\n",
      "Epoch 10/50\n",
      "23/23 [==============================] - 3s 110ms/step - loss: 0.4299 - accuracy: 0.8529 - val_loss: 0.7993 - val_accuracy: 0.7750\n",
      "Epoch 11/50\n",
      "23/23 [==============================] - 3s 109ms/step - loss: 0.3583 - accuracy: 0.8865 - val_loss: 0.8143 - val_accuracy: 0.7891\n",
      "Epoch 12/50\n",
      "23/23 [==============================] - 2s 109ms/step - loss: 0.3123 - accuracy: 0.9083 - val_loss: 0.7404 - val_accuracy: 0.8133\n",
      "Epoch 13/50\n",
      "23/23 [==============================] - 3s 109ms/step - loss: 0.2835 - accuracy: 0.9202 - val_loss: 0.7396 - val_accuracy: 0.8016\n",
      "Epoch 14/50\n",
      "23/23 [==============================] - 3s 109ms/step - loss: 0.2551 - accuracy: 0.9287 - val_loss: 0.7236 - val_accuracy: 0.8172\n",
      "Epoch 15/50\n",
      "23/23 [==============================] - 3s 110ms/step - loss: 0.2210 - accuracy: 0.9348 - val_loss: 0.6995 - val_accuracy: 0.8148\n",
      "Epoch 16/50\n",
      "23/23 [==============================] - 3s 109ms/step - loss: 0.2019 - accuracy: 0.9391 - val_loss: 0.8204 - val_accuracy: 0.8188\n",
      "Epoch 17/50\n",
      "23/23 [==============================] - 3s 111ms/step - loss: 0.1950 - accuracy: 0.9398 - val_loss: 0.7851 - val_accuracy: 0.8227\n",
      "Epoch 18/50\n",
      "23/23 [==============================] - 3s 110ms/step - loss: 0.1837 - accuracy: 0.9444 - val_loss: 0.8444 - val_accuracy: 0.8305\n",
      "Epoch 19/50\n",
      "23/23 [==============================] - 2s 108ms/step - loss: 0.1659 - accuracy: 0.9490 - val_loss: 0.8129 - val_accuracy: 0.8211\n",
      "Epoch 20/50\n",
      "23/23 [==============================] - 2s 106ms/step - loss: 0.1656 - accuracy: 0.9503 - val_loss: 0.8004 - val_accuracy: 0.8297\n",
      "Epoch 21/50\n",
      "23/23 [==============================] - 2s 106ms/step - loss: 0.1537 - accuracy: 0.9575 - val_loss: 0.7323 - val_accuracy: 0.8438\n",
      "Epoch 22/50\n",
      "23/23 [==============================] - 2s 107ms/step - loss: 0.1433 - accuracy: 0.9612 - val_loss: 0.7881 - val_accuracy: 0.8359\n",
      "Epoch 23/50\n",
      "23/23 [==============================] - 2s 107ms/step - loss: 0.1403 - accuracy: 0.9617 - val_loss: 0.7869 - val_accuracy: 0.8422\n",
      "Epoch 24/50\n",
      "23/23 [==============================] - 2s 108ms/step - loss: 0.1311 - accuracy: 0.9668 - val_loss: 0.7758 - val_accuracy: 0.8336\n",
      "Epoch 25/50\n",
      "23/23 [==============================] - 2s 107ms/step - loss: 0.1216 - accuracy: 0.9711 - val_loss: 0.7715 - val_accuracy: 0.8453\n",
      "Epoch 26/50\n",
      "23/23 [==============================] - 2s 107ms/step - loss: 0.1096 - accuracy: 0.9711 - val_loss: 0.8294 - val_accuracy: 0.8461\n",
      "Epoch 27/50\n",
      "23/23 [==============================] - 2s 107ms/step - loss: 0.1034 - accuracy: 0.9711 - val_loss: 0.8553 - val_accuracy: 0.8445\n",
      "Epoch 28/50\n",
      "23/23 [==============================] - 2s 107ms/step - loss: 0.1019 - accuracy: 0.9748 - val_loss: 0.8062 - val_accuracy: 0.8484\n",
      "Epoch 29/50\n",
      "23/23 [==============================] - 2s 106ms/step - loss: 0.1045 - accuracy: 0.9690 - val_loss: 0.8451 - val_accuracy: 0.8477\n",
      "Epoch 30/50\n",
      "23/23 [==============================] - 2s 107ms/step - loss: 0.1060 - accuracy: 0.9720 - val_loss: 0.7938 - val_accuracy: 0.8539\n",
      "Epoch 31/50\n",
      "23/23 [==============================] - 2s 107ms/step - loss: 0.0997 - accuracy: 0.9745 - val_loss: 0.8503 - val_accuracy: 0.8477\n",
      "Epoch 32/50\n",
      "23/23 [==============================] - 2s 108ms/step - loss: 0.0881 - accuracy: 0.9788 - val_loss: 0.8231 - val_accuracy: 0.8438\n",
      "Epoch 33/50\n",
      "23/23 [==============================] - 2s 107ms/step - loss: 0.0866 - accuracy: 0.9798 - val_loss: 0.8412 - val_accuracy: 0.8531\n",
      "Epoch 34/50\n",
      "23/23 [==============================] - 2s 107ms/step - loss: 0.0890 - accuracy: 0.9792 - val_loss: 0.9202 - val_accuracy: 0.8461\n",
      "Epoch 35/50\n",
      "23/23 [==============================] - 2s 107ms/step - loss: 0.0783 - accuracy: 0.9808 - val_loss: 0.9189 - val_accuracy: 0.8484\n",
      "Epoch 36/50\n",
      "23/23 [==============================] - 2s 108ms/step - loss: 0.0719 - accuracy: 0.9829 - val_loss: 0.8017 - val_accuracy: 0.8445\n",
      "Epoch 37/50\n",
      "23/23 [==============================] - 2s 107ms/step - loss: 0.0725 - accuracy: 0.9836 - val_loss: 0.9089 - val_accuracy: 0.8523\n",
      "Epoch 38/50\n",
      "23/23 [==============================] - 2s 107ms/step - loss: 0.0715 - accuracy: 0.9839 - val_loss: 0.8190 - val_accuracy: 0.8570\n",
      "Epoch 39/50\n",
      "23/23 [==============================] - 2s 107ms/step - loss: 0.0722 - accuracy: 0.9824 - val_loss: 0.9525 - val_accuracy: 0.8445\n",
      "Epoch 40/50\n",
      "23/23 [==============================] - 2s 107ms/step - loss: 0.0676 - accuracy: 0.9836 - val_loss: 0.8967 - val_accuracy: 0.8461\n",
      "Epoch 41/50\n",
      "23/23 [==============================] - 2s 107ms/step - loss: 0.0626 - accuracy: 0.9847 - val_loss: 0.9063 - val_accuracy: 0.8555\n",
      "Epoch 42/50\n",
      "23/23 [==============================] - 2s 107ms/step - loss: 0.0633 - accuracy: 0.9853 - val_loss: 0.8461 - val_accuracy: 0.8547\n",
      "Epoch 43/50\n",
      "23/23 [==============================] - 2s 107ms/step - loss: 0.0656 - accuracy: 0.9863 - val_loss: 0.8923 - val_accuracy: 0.8492\n",
      "Epoch 44/50\n",
      "23/23 [==============================] - 2s 107ms/step - loss: 0.0815 - accuracy: 0.9786 - val_loss: 0.8233 - val_accuracy: 0.8430\n",
      "Epoch 45/50\n",
      "23/23 [==============================] - 2s 107ms/step - loss: 0.0678 - accuracy: 0.9835 - val_loss: 0.8584 - val_accuracy: 0.8570\n",
      "Epoch 46/50\n",
      "23/23 [==============================] - 2s 107ms/step - loss: 0.0595 - accuracy: 0.9859 - val_loss: 0.9200 - val_accuracy: 0.8539\n",
      "Epoch 47/50\n",
      "23/23 [==============================] - 2s 106ms/step - loss: 0.0643 - accuracy: 0.9840 - val_loss: 0.9064 - val_accuracy: 0.8508\n",
      "Epoch 48/50\n",
      "23/23 [==============================] - 2s 108ms/step - loss: 0.0736 - accuracy: 0.9826 - val_loss: 0.8407 - val_accuracy: 0.8570\n",
      "Epoch 49/50\n",
      "23/23 [==============================] - 2s 108ms/step - loss: 0.0592 - accuracy: 0.9852 - val_loss: 0.7919 - val_accuracy: 0.8594\n",
      "Epoch 50/50\n",
      "23/23 [==============================] - 2s 107ms/step - loss: 0.0618 - accuracy: 0.9847 - val_loss: 0.7355 - val_accuracy: 0.8523\n"
     ]
    }
   ],
   "source": [
    "#model trained on the training data and taking validation data into account to avoid overfitting for 4 epochs \n",
    "history_LSTM=lstm_model.fit(X_train_rest, Y_train_rest, epochs = 50, batch_size=batch_size,validation_data=(X_valid, Y_valid),verbose = 1)"
   ]
  },
  {
   "cell_type": "code",
   "execution_count": 52,
   "metadata": {},
   "outputs": [
    {
     "name": "stdout",
     "output_type": "stream",
     "text": [
      "  1/100 [..............................] - ETA: 0s - loss: 0.0763 - accuracy: 0.9688WARNING:tensorflow:Callbacks method `on_test_batch_end` is slow compared to the batch time (batch time: 0.0000s vs `on_test_batch_end` time: 0.0100s). Check your callbacks.\n",
      "100/100 [==============================] - 1s 7ms/step - loss: 0.1622 - accuracy: 0.9534\n",
      "/n\n",
      "Test accuracy of lstm model: 95.34%\n"
     ]
    }
   ],
   "source": [
    "#prediction by our lstm model on the test dataset\n",
    "lstm_results = test_model(lstm_model, 3)\n",
    "print('/n')\n",
    "print('Test accuracy of lstm model: {0:.2f}%'.format(lstm_results[1]*100))"
   ]
  },
  {
   "cell_type": "code",
   "execution_count": 53,
   "metadata": {},
   "outputs": [],
   "source": [
    "lstm_model.save('lstm_model.h5')"
   ]
  },
  {
   "cell_type": "code",
   "execution_count": 54,
   "metadata": {},
   "outputs": [],
   "source": [
    "lstm = lstm_results[1]*100"
   ]
  },
  {
   "cell_type": "markdown",
   "metadata": {
    "id": "X9bP7dGDzJCb"
   },
   "source": [
    "# Accuracy Comparsion"
   ]
  },
  {
   "cell_type": "code",
   "execution_count": 55,
   "metadata": {
    "id": "AQ5VQOSAzJCb",
    "outputId": "a7a41272-a12c-46a2-9e2a-281b007946a9"
   },
   "outputs": [
    {
     "data": {
      "image/png": "[encoded data removed]",
      "text/plain": [
       "<Figure size 864x576 with 1 Axes>"
      ]
     },
     "metadata": {
      "needs_background": "light"
     },
     "output_type": "display_data"
    }
   ],
   "source": [
    "import numpy as np\n",
    "import pandas as pd\n",
    "import matplotlib.pyplot as plt\n",
    "\n",
    "# Bring some raw data.\n",
    "frequencies = [LR,val1,val2,val5,val6,val7,lstm]\n",
    "\n",
    "# In my original code I create a series and run on that,\n",
    "# so for consistency I create a series from the list.\n",
    "freq_series = pd.Series(frequencies)\n",
    "\n",
    "x_labels = ['LR','RF','DT','KNN','XGBClassifier','Voting Classifier','LSTM']\n",
    "\n",
    "# Plot the figure.\n",
    "plt.figure(figsize=(12, 8))\n",
    "ax = freq_series.plot(kind='bar')\n",
    "ax.set_title('Evaluation of ML & DL')\n",
    "ax.set_xlabel('Classifier!')\n",
    "ax.set_ylabel('Accuracy Range')\n",
    "ax.set_xticklabels(x_labels)\n",
    "\n",
    "\n",
    "def add_value_labels(ax, spacing=5):\n",
    "    \"\"\"Add labels to the end of each bar in a bar chart.\n",
    "\n",
    "    Arguments:\n",
    "        ax (matplotlib.axes.Axes): The matplotlib object containing the axes\n",
    "            of the plot to annotate.\n",
    "        spacing (int): The distance between the labels and the bars.\n",
    "    \"\"\"\n",
    "\n",
    "    # For each bar: Place a label\n",
    "    for rect in ax.patches:\n",
    "        # Get X and Y placement of label from rect.\n",
    "        y_value = rect.get_height()\n",
    "        x_value = rect.get_x() + rect.get_width() / 2\n",
    "\n",
    "        # Number of points between bar and label. Change to your liking.\n",
    "        space = spacing\n",
    "        # Vertical alignment for positive values\n",
    "        va = 'bottom'\n",
    "\n",
    "        # If value of bar is negative: Place label below bar\n",
    "        if y_value < 0:\n",
    "            # Invert space to place label below\n",
    "            space *= -1\n",
    "            # Vertically align label at top\n",
    "            va = 'top'\n",
    "\n",
    "        # Use Y value as label and format number with one decimal place\n",
    "        label = \"{:.1f}\".format(y_value)\n",
    "\n",
    "        # Create annotation\n",
    "        ax.annotate(\n",
    "            label,                      # Use `label` as label\n",
    "            (x_value, y_value),         # Place label at end of the bar\n",
    "            xytext=(0, space),          # Vertically shift label by `space`\n",
    "            textcoords=\"offset points\", # Interpret `xytext` as offset in points\n",
    "            ha='center',                # Horizontally center label\n",
    "            va=va)                      # Vertically align label differently for\n",
    "                                        # positive and negative values.\n",
    "\n",
    "\n",
    "# Call the function above. All the magic happens there.\n",
    "add_value_labels(ax)\n",
    "plt.show()"
   ]
  },
  {
   "cell_type": "code",
   "execution_count": null,
   "metadata": {
    "id": "PWe-pxSQzJCc"
   },
   "outputs": [],
   "source": []
  },
  {
   "cell_type": "code",
   "execution_count": null,
   "metadata": {},
   "outputs": [],
   "source": []
  },
  {
   "cell_type": "code",
   "execution_count": null,
   "metadata": {},
   "outputs": [],
   "source": []
  }
 ],
 "metadata": {
  "accelerator": "GPU",
  "colab": {
   "collapsed_sections": [
    "8SUbHt-wzJCY",
    "P_6KFixkzJCa",
    "X9bP7dGDzJCb"
   ],
   "name": "Notebook.ipynb",
   "provenance": []
  },
  "kernelspec": {
   "display_name": "Python 3",
   "language": "python",
   "name": "python3"
  },
  "language_info": {
   "codemirror_mode": {
    "name": "ipython",
    "version": 3
   },
   "file_extension": ".py",
   "mimetype": "text/x-python",
   "name": "python",
   "nbconvert_exporter": "python",
   "pygments_lexer": "ipython3",
   "version": "3.7.4"
  },
  "vscode": {
   "interpreter": {
    "hash": "31f2aee4e71d21fbe5cf8b01ff0e069b9275f58929596ceb00d14d90e3e16cd6"
   }
  }
 },
 "nbformat": 4,
 "nbformat_minor": 1
}
