{
 "cells": [
  {
   "cell_type": "markdown",
   "metadata": {
    "id": "7Gotfl_bzJB5"
   },
   "source": [
    "# Importing Packages"
   ]
  },
  {
   "cell_type": "code",
   "execution_count": 1,
   "metadata": {
    "executionInfo": {
     "elapsed": 1599,
     "status": "ok",
     "timestamp": 1630510477999,
     "user": {
      "displayName": "Ramesh Ravindran",
      "photoUrl": "https://lh3.googleusercontent.com/a-/AOh14GhcjUie2zDWpQEXGBSui04ZAq0Nl9CR7dlOS1FcBg=s64",
      "userId": "08375370966839671912"
     },
     "user_tz": -330
    },
    "id": "W-arck3yzJCB"
   },
   "outputs": [
    {
     "name": "stderr",
     "output_type": "stream",
     "text": [
      "C:\\ProgramData\\Anaconda3\\lib\\site-packages\\numpy\\_distributor_init.py:32: UserWarning: loaded more than 1 DLL from .libs:\n",
      "C:\\ProgramData\\Anaconda3\\lib\\site-packages\\numpy\\.libs\\libopenblas.PYQHXLVVQ7VESDPUVUADXEVJOBGHJPAY.gfortran-win_amd64.dll\n",
      "C:\\ProgramData\\Anaconda3\\lib\\site-packages\\numpy\\.libs\\libopenblas.WCDJNK7YVMPZQ2ME2ZZHJJRJ3JIKNDB7.gfortran-win_amd64.dll\n",
      "  stacklevel=1)\n"
     ]
    }
   ],
   "source": [
    "import pandas as pd\n",
    "from nltk.corpus import stopwords\n",
    "from nltk.stem import PorterStemmer\n",
    "import re\n",
    "from sklearn.feature_extraction.text import TfidfVectorizer"
   ]
  },
  {
   "cell_type": "markdown",
   "metadata": {
    "id": "4otF5ydAzJCE"
   },
   "source": [
    "# Data Exploration"
   ]
  },
  {
   "cell_type": "code",
   "execution_count": 2,
   "metadata": {
    "colab": {
     "base_uri": "https://localhost:8080/"
    },
    "executionInfo": {
     "elapsed": 855,
     "status": "ok",
     "timestamp": 1630510481105,
     "user": {
      "displayName": "Ramesh Ravindran",
      "photoUrl": "https://lh3.googleusercontent.com/a-/AOh14GhcjUie2zDWpQEXGBSui04ZAq0Nl9CR7dlOS1FcBg=s64",
      "userId": "08375370966839671912"
     },
     "user_tz": -330
    },
    "id": "p4i-4l5ozJCF",
    "outputId": "56f04704-3cf7-437d-9e68-83edf4444e8c"
   },
   "outputs": [],
   "source": [
    "df= pd.read_csv(\"tweet_emotions.csv\")\n",
    "df = df[0:5000]"
   ]
  },
  {
   "cell_type": "code",
   "execution_count": 3,
   "metadata": {
    "colab": {
     "base_uri": "https://localhost:8080/",
     "height": 204
    },
    "executionInfo": {
     "elapsed": 13,
     "status": "ok",
     "timestamp": 1630510484715,
     "user": {
      "displayName": "Ramesh Ravindran",
      "photoUrl": "https://lh3.googleusercontent.com/a-/AOh14GhcjUie2zDWpQEXGBSui04ZAq0Nl9CR7dlOS1FcBg=s64",
      "userId": "08375370966839671912"
     },
     "user_tz": -330
    },
    "id": "THSqkUSszJCI",
    "outputId": "09f11972-347a-4abf-da02-287b57aff1f1"
   },
   "outputs": [
    {
     "data": {
      "text/html": [
       "<div>\n",
       "<style scoped>\n",
       "    .dataframe tbody tr th:only-of-type {\n",
       "        vertical-align: middle;\n",
       "    }\n",
       "\n",
       "    .dataframe tbody tr th {\n",
       "        vertical-align: top;\n",
       "    }\n",
       "\n",
       "    .dataframe thead th {\n",
       "        text-align: right;\n",
       "    }\n",
       "</style>\n",
       "<table border=\"1\" class=\"dataframe\">\n",
       "  <thead>\n",
       "    <tr style=\"text-align: right;\">\n",
       "      <th></th>\n",
       "      <th>tweet_id</th>\n",
       "      <th>sentiment</th>\n",
       "      <th>content</th>\n",
       "    </tr>\n",
       "  </thead>\n",
       "  <tbody>\n",
       "    <tr>\n",
       "      <td>0</td>\n",
       "      <td>1956967341</td>\n",
       "      <td>empty</td>\n",
       "      <td>@tiffanylue i know  i was listenin to bad habi...</td>\n",
       "    </tr>\n",
       "    <tr>\n",
       "      <td>1</td>\n",
       "      <td>1956967666</td>\n",
       "      <td>sadness</td>\n",
       "      <td>Layin n bed with a headache  ughhhh...waitin o...</td>\n",
       "    </tr>\n",
       "    <tr>\n",
       "      <td>2</td>\n",
       "      <td>1956967696</td>\n",
       "      <td>sadness</td>\n",
       "      <td>Funeral ceremony...gloomy friday...</td>\n",
       "    </tr>\n",
       "    <tr>\n",
       "      <td>3</td>\n",
       "      <td>1956967789</td>\n",
       "      <td>enthusiasm</td>\n",
       "      <td>wants to hang out with friends SOON!</td>\n",
       "    </tr>\n",
       "    <tr>\n",
       "      <td>4</td>\n",
       "      <td>1956968416</td>\n",
       "      <td>neutral</td>\n",
       "      <td>@dannycastillo We want to trade with someone w...</td>\n",
       "    </tr>\n",
       "  </tbody>\n",
       "</table>\n",
       "</div>"
      ],
      "text/plain": [
       "     tweet_id   sentiment                                            content\n",
       "0  1956967341       empty  @tiffanylue i know  i was listenin to bad habi...\n",
       "1  1956967666     sadness  Layin n bed with a headache  ughhhh...waitin o...\n",
       "2  1956967696     sadness                Funeral ceremony...gloomy friday...\n",
       "3  1956967789  enthusiasm               wants to hang out with friends SOON!\n",
       "4  1956968416     neutral  @dannycastillo We want to trade with someone w..."
      ]
     },
     "execution_count": 3,
     "metadata": {},
     "output_type": "execute_result"
    }
   ],
   "source": [
    "df.head()"
   ]
  },
  {
   "cell_type": "code",
   "execution_count": 4,
   "metadata": {},
   "outputs": [
    {
     "data": {
      "text/plain": [
       "<AxesSubplot:xlabel='sentiment', ylabel='count'>"
      ]
     },
     "execution_count": 4,
     "metadata": {},
     "output_type": "execute_result"
    },
    {
     "data": {
      "image/png": "[encoded data removed]",
      "text/plain": [
       "<Figure size 432x288 with 1 Axes>"
      ]
     },
     "metadata": {
      "needs_background": "light"
     },
     "output_type": "display_data"
    }
   ],
   "source": [
    "import seaborn as sns\n",
    "sns.countplot(x=\"sentiment\", data = df)"
   ]
  },
  {
   "cell_type": "code",
   "execution_count": 5,
   "metadata": {
    "executionInfo": {
     "elapsed": 5,
     "status": "ok",
     "timestamp": 1630510486051,
     "user": {
      "displayName": "Ramesh Ravindran",
      "photoUrl": "https://lh3.googleusercontent.com/a-/AOh14GhcjUie2zDWpQEXGBSui04ZAq0Nl9CR7dlOS1FcBg=s64",
      "userId": "08375370966839671912"
     },
     "user_tz": -330
    },
    "id": "JACjE1qDzJCJ"
   },
   "outputs": [],
   "source": [
    "df = df.dropna()"
   ]
  },
  {
   "cell_type": "code",
   "execution_count": 6,
   "metadata": {
    "colab": {
     "base_uri": "https://localhost:8080/"
    },
    "executionInfo": {
     "elapsed": 6,
     "status": "ok",
     "timestamp": 1630510487692,
     "user": {
      "displayName": "Ramesh Ravindran",
      "photoUrl": "https://lh3.googleusercontent.com/a-/AOh14GhcjUie2zDWpQEXGBSui04ZAq0Nl9CR7dlOS1FcBg=s64",
      "userId": "08375370966839671912"
     },
     "user_tz": -330
    },
    "id": "m-qEjYA4zJCK",
    "outputId": "b1b5acf1-251a-4d88-aa01-1ea426467773"
   },
   "outputs": [
    {
     "name": "stdout",
     "output_type": "stream",
     "text": [
      "<class 'pandas.core.frame.DataFrame'>\n",
      "Int64Index: 5000 entries, 0 to 4999\n",
      "Data columns (total 3 columns):\n",
      "tweet_id     5000 non-null int64\n",
      "sentiment    5000 non-null object\n",
      "content      5000 non-null object\n",
      "dtypes: int64(1), object(2)\n",
      "memory usage: 156.2+ KB\n"
     ]
    }
   ],
   "source": [
    "df.info()"
   ]
  },
  {
   "cell_type": "markdown",
   "metadata": {
    "id": "olZng8uTzJCM"
   },
   "source": [
    "# Data Cleaning & Processing"
   ]
  },
  {
   "cell_type": "code",
   "execution_count": 7,
   "metadata": {
    "executionInfo": {
     "elapsed": 7,
     "status": "ok",
     "timestamp": 1630510489286,
     "user": {
      "displayName": "Ramesh Ravindran",
      "photoUrl": "https://lh3.googleusercontent.com/a-/AOh14GhcjUie2zDWpQEXGBSui04ZAq0Nl9CR7dlOS1FcBg=s64",
      "userId": "08375370966839671912"
     },
     "user_tz": -330
    },
    "id": "zuCX8x9PzJCM"
   },
   "outputs": [],
   "source": [
    "def cleaner(text):\n",
    "    text = text.lower()\n",
    "    text = re.sub(\"@[^\\s]+\",\"\",text)\n",
    "    text = text.replace(\":)\",\"\")  \n",
    "    text = text.replace(\"@\",\"\") \n",
    "    text = text.replace(\"#\",\"\") \n",
    "    text = text.replace(\":(\",\"\")\n",
    "    return text"
   ]
  },
  {
   "cell_type": "code",
   "execution_count": 8,
   "metadata": {
    "executionInfo": {
     "elapsed": 5,
     "status": "ok",
     "timestamp": 1630510491003,
     "user": {
      "displayName": "Ramesh Ravindran",
      "photoUrl": "https://lh3.googleusercontent.com/a-/AOh14GhcjUie2zDWpQEXGBSui04ZAq0Nl9CR7dlOS1FcBg=s64",
      "userId": "08375370966839671912"
     },
     "user_tz": -330
    },
    "id": "IhkIGgqBzJCN"
   },
   "outputs": [],
   "source": [
    "def remove_stop_words(text):\n",
    "    sw = stopwords.words(\"english\")\n",
    "    clean_words = []\n",
    "    text = text.split()\n",
    "    for word in text:\n",
    "        if word not in sw:\n",
    "            clean_words.append(word)\n",
    "    return \" \".join(clean_words)"
   ]
  },
  {
   "cell_type": "code",
   "execution_count": 9,
   "metadata": {
    "executionInfo": {
     "elapsed": 381,
     "status": "ok",
     "timestamp": 1630510493126,
     "user": {
      "displayName": "Ramesh Ravindran",
      "photoUrl": "https://lh3.googleusercontent.com/a-/AOh14GhcjUie2zDWpQEXGBSui04ZAq0Nl9CR7dlOS1FcBg=s64",
      "userId": "08375370966839671912"
     },
     "user_tz": -330
    },
    "id": "gQhvbYy4zJCO"
   },
   "outputs": [],
   "source": [
    "def stemming(text):\n",
    "    ps = PorterStemmer()\n",
    "    text = text.split()\n",
    "    stemmed_words = []\n",
    "    for word in text :\n",
    "        stemmed_words.append(ps.stem(word))\n",
    "    return \" \".join(stemmed_words)"
   ]
  },
  {
   "cell_type": "code",
   "execution_count": 10,
   "metadata": {
    "executionInfo": {
     "elapsed": 7,
     "status": "ok",
     "timestamp": 1630510494384,
     "user": {
      "displayName": "Ramesh Ravindran",
      "photoUrl": "https://lh3.googleusercontent.com/a-/AOh14GhcjUie2zDWpQEXGBSui04ZAq0Nl9CR7dlOS1FcBg=s64",
      "userId": "08375370966839671912"
     },
     "user_tz": -330
    },
    "id": "7The4_NkzJCO"
   },
   "outputs": [],
   "source": [
    "def run(text):\n",
    "    text = cleaner(text)\n",
    "    text = remove_stop_words(text)\n",
    "    text = stemming(text)\n",
    "    return text"
   ]
  },
  {
   "cell_type": "code",
   "execution_count": 11,
   "metadata": {
    "colab": {
     "base_uri": "https://localhost:8080/"
    },
    "executionInfo": {
     "elapsed": 329,
     "status": "ok",
     "timestamp": 1630510496204,
     "user": {
      "displayName": "Ramesh Ravindran",
      "photoUrl": "https://lh3.googleusercontent.com/a-/AOh14GhcjUie2zDWpQEXGBSui04ZAq0Nl9CR7dlOS1FcBg=s64",
      "userId": "08375370966839671912"
     },
     "user_tz": -330
    },
    "id": "yIqbrwZozjCr",
    "outputId": "fb8db1c5-0bb5-4896-b62e-74b8d73322ab"
   },
   "outputs": [
    {
     "name": "stderr",
     "output_type": "stream",
     "text": [
      "[nltk_data] Downloading package stopwords to C:\\Users\\Tru\n",
      "[nltk_data]     Projects\\AppData\\Roaming\\nltk_data...\n",
      "[nltk_data]   Package stopwords is already up-to-date!\n"
     ]
    },
    {
     "data": {
      "text/plain": [
       "True"
      ]
     },
     "execution_count": 11,
     "metadata": {},
     "output_type": "execute_result"
    }
   ],
   "source": [
    "import nltk\n",
    "nltk.download('stopwords')"
   ]
  },
  {
   "cell_type": "code",
   "execution_count": 12,
   "metadata": {
    "executionInfo": {
     "elapsed": 15098,
     "status": "ok",
     "timestamp": 1630510512490,
     "user": {
      "displayName": "Ramesh Ravindran",
      "photoUrl": "https://lh3.googleusercontent.com/a-/AOh14GhcjUie2zDWpQEXGBSui04ZAq0Nl9CR7dlOS1FcBg=s64",
      "userId": "08375370966839671912"
     },
     "user_tz": -330
    },
    "id": "XEGsHnECzJCP"
   },
   "outputs": [],
   "source": [
    "df['Message'] = df['content'].apply(run)"
   ]
  },
  {
   "cell_type": "code",
   "execution_count": 13,
   "metadata": {
    "executionInfo": {
     "elapsed": 832,
     "status": "ok",
     "timestamp": 1630510536372,
     "user": {
      "displayName": "Ramesh Ravindran",
      "photoUrl": "https://lh3.googleusercontent.com/a-/AOh14GhcjUie2zDWpQEXGBSui04ZAq0Nl9CR7dlOS1FcBg=s64",
      "userId": "08375370966839671912"
     },
     "user_tz": -330
    },
    "id": "UJ6VEtstzJCQ"
   },
   "outputs": [],
   "source": [
    "tfidf = TfidfVectorizer()\n",
    "x = tfidf.fit_transform(df[\"Message\"])"
   ]
  },
  {
   "cell_type": "code",
   "execution_count": 14,
   "metadata": {
    "executionInfo": {
     "elapsed": 294,
     "status": "ok",
     "timestamp": 1630510537918,
     "user": {
      "displayName": "Ramesh Ravindran",
      "photoUrl": "https://lh3.googleusercontent.com/a-/AOh14GhcjUie2zDWpQEXGBSui04ZAq0Nl9CR7dlOS1FcBg=s64",
      "userId": "08375370966839671912"
     },
     "user_tz": -330
    },
    "id": "XAj3VkQezJCQ"
   },
   "outputs": [],
   "source": [
    "from sklearn import preprocessing\n",
    "  \n",
    "# label_encoder object knows how to understand word labels.\n",
    "label_encoder = preprocessing.LabelEncoder()\n",
    "  \n",
    "# Encode labels in column 'species'.\n",
    "df['sentiment']= label_encoder.fit_transform(df['sentiment'])"
   ]
  },
  {
   "cell_type": "markdown",
   "metadata": {
    "id": "xYmI8sa6zJCR"
   },
   "source": [
    "# Feature Selection"
   ]
  },
  {
   "cell_type": "code",
   "execution_count": 15,
   "metadata": {
    "colab": {
     "base_uri": "https://localhost:8080/"
    },
    "executionInfo": {
     "elapsed": 1159,
     "status": "ok",
     "timestamp": 1630510540912,
     "user": {
      "displayName": "Ramesh Ravindran",
      "photoUrl": "https://lh3.googleusercontent.com/a-/AOh14GhcjUie2zDWpQEXGBSui04ZAq0Nl9CR7dlOS1FcBg=s64",
      "userId": "08375370966839671912"
     },
     "user_tz": -330
    },
    "id": "1wgai5OazJCR",
    "outputId": "ea30b3f5-cfe8-4892-a839-f57db129bc27"
   },
   "outputs": [
    {
     "data": {
      "text/plain": [
       "array([[0., 0., 0., ..., 0., 0., 0.],\n",
       "       [0., 0., 0., ..., 0., 0., 0.],\n",
       "       [0., 0., 0., ..., 0., 0., 0.],\n",
       "       ...,\n",
       "       [0., 0., 0., ..., 0., 0., 0.],\n",
       "       [0., 0., 0., ..., 0., 0., 0.],\n",
       "       [0., 0., 0., ..., 0., 0., 0.]])"
      ]
     },
     "execution_count": 15,
     "metadata": {},
     "output_type": "execute_result"
    }
   ],
   "source": [
    "X = x.toarray()\n",
    "X"
   ]
  },
  {
   "cell_type": "code",
   "execution_count": 16,
   "metadata": {
    "colab": {
     "base_uri": "https://localhost:8080/"
    },
    "executionInfo": {
     "elapsed": 310,
     "status": "ok",
     "timestamp": 1630510542540,
     "user": {
      "displayName": "Ramesh Ravindran",
      "photoUrl": "https://lh3.googleusercontent.com/a-/AOh14GhcjUie2zDWpQEXGBSui04ZAq0Nl9CR7dlOS1FcBg=s64",
      "userId": "08375370966839671912"
     },
     "user_tz": -330
    },
    "id": "gpTCnAGozJCS",
    "outputId": "cfe1b582-2b29-4fdf-b55a-730e8e08cbf8"
   },
   "outputs": [
    {
     "data": {
      "text/plain": [
       "array([ 2, 10, 10, ..., 10,  9, 12])"
      ]
     },
     "execution_count": 16,
     "metadata": {},
     "output_type": "execute_result"
    }
   ],
   "source": [
    "y = df['sentiment'].values\n",
    "y"
   ]
  },
  {
   "cell_type": "code",
   "execution_count": 17,
   "metadata": {},
   "outputs": [],
   "source": [
    "import pandas as pd\n",
    "from mlxtend.preprocessing import TransactionEncoder \n",
    "from mlxtend.frequent_patterns import association_rules\n",
    "from mlxtend.frequent_patterns import fpgrowth"
   ]
  },
  {
   "cell_type": "code",
   "execution_count": 18,
   "metadata": {},
   "outputs": [],
   "source": [
    "te = TransactionEncoder()\n",
    "te_array = te.fit(df['Message']).transform(df['Message'])\n",
    "data = pd.DataFrame(te_array, columns=te.columns_)"
   ]
  },
  {
   "cell_type": "code",
   "execution_count": 19,
   "metadata": {},
   "outputs": [
    {
     "data": {
      "text/html": [
       "<div>\n",
       "<style scoped>\n",
       "    .dataframe tbody tr th:only-of-type {\n",
       "        vertical-align: middle;\n",
       "    }\n",
       "\n",
       "    .dataframe tbody tr th {\n",
       "        vertical-align: top;\n",
       "    }\n",
       "\n",
       "    .dataframe thead th {\n",
       "        text-align: right;\n",
       "    }\n",
       "</style>\n",
       "<table border=\"1\" class=\"dataframe\">\n",
       "  <thead>\n",
       "    <tr style=\"text-align: right;\">\n",
       "      <th></th>\n",
       "      <th></th>\n",
       "      <th>!</th>\n",
       "      <th>$</th>\n",
       "      <th>%</th>\n",
       "      <th>&amp;</th>\n",
       "      <th>'</th>\n",
       "      <th>(</th>\n",
       "      <th>)</th>\n",
       "      <th>*</th>\n",
       "      <th>+</th>\n",
       "      <th>...</th>\n",
       "      <th>x</th>\n",
       "      <th>y</th>\n",
       "      <th>z</th>\n",
       "      <th>{</th>\n",
       "      <th>|</th>\n",
       "      <th>}</th>\n",
       "      <th>~</th>\n",
       "      <th>½</th>\n",
       "      <th>¿</th>\n",
       "      <th>ï</th>\n",
       "    </tr>\n",
       "  </thead>\n",
       "  <tbody>\n",
       "    <tr>\n",
       "      <td>0</td>\n",
       "      <td>True</td>\n",
       "      <td>False</td>\n",
       "      <td>False</td>\n",
       "      <td>False</td>\n",
       "      <td>False</td>\n",
       "      <td>False</td>\n",
       "      <td>False</td>\n",
       "      <td>False</td>\n",
       "      <td>False</td>\n",
       "      <td>False</td>\n",
       "      <td>...</td>\n",
       "      <td>False</td>\n",
       "      <td>False</td>\n",
       "      <td>False</td>\n",
       "      <td>False</td>\n",
       "      <td>False</td>\n",
       "      <td>False</td>\n",
       "      <td>False</td>\n",
       "      <td>False</td>\n",
       "      <td>False</td>\n",
       "      <td>False</td>\n",
       "    </tr>\n",
       "    <tr>\n",
       "      <td>1</td>\n",
       "      <td>True</td>\n",
       "      <td>False</td>\n",
       "      <td>False</td>\n",
       "      <td>False</td>\n",
       "      <td>False</td>\n",
       "      <td>False</td>\n",
       "      <td>False</td>\n",
       "      <td>False</td>\n",
       "      <td>False</td>\n",
       "      <td>False</td>\n",
       "      <td>...</td>\n",
       "      <td>False</td>\n",
       "      <td>True</td>\n",
       "      <td>False</td>\n",
       "      <td>False</td>\n",
       "      <td>False</td>\n",
       "      <td>False</td>\n",
       "      <td>False</td>\n",
       "      <td>False</td>\n",
       "      <td>False</td>\n",
       "      <td>False</td>\n",
       "    </tr>\n",
       "    <tr>\n",
       "      <td>2</td>\n",
       "      <td>True</td>\n",
       "      <td>False</td>\n",
       "      <td>False</td>\n",
       "      <td>False</td>\n",
       "      <td>False</td>\n",
       "      <td>False</td>\n",
       "      <td>False</td>\n",
       "      <td>False</td>\n",
       "      <td>False</td>\n",
       "      <td>False</td>\n",
       "      <td>...</td>\n",
       "      <td>False</td>\n",
       "      <td>True</td>\n",
       "      <td>False</td>\n",
       "      <td>False</td>\n",
       "      <td>False</td>\n",
       "      <td>False</td>\n",
       "      <td>False</td>\n",
       "      <td>False</td>\n",
       "      <td>False</td>\n",
       "      <td>False</td>\n",
       "    </tr>\n",
       "    <tr>\n",
       "      <td>3</td>\n",
       "      <td>True</td>\n",
       "      <td>True</td>\n",
       "      <td>False</td>\n",
       "      <td>False</td>\n",
       "      <td>False</td>\n",
       "      <td>False</td>\n",
       "      <td>False</td>\n",
       "      <td>False</td>\n",
       "      <td>False</td>\n",
       "      <td>False</td>\n",
       "      <td>...</td>\n",
       "      <td>False</td>\n",
       "      <td>False</td>\n",
       "      <td>False</td>\n",
       "      <td>False</td>\n",
       "      <td>False</td>\n",
       "      <td>False</td>\n",
       "      <td>False</td>\n",
       "      <td>False</td>\n",
       "      <td>False</td>\n",
       "      <td>False</td>\n",
       "    </tr>\n",
       "    <tr>\n",
       "      <td>4</td>\n",
       "      <td>True</td>\n",
       "      <td>False</td>\n",
       "      <td>False</td>\n",
       "      <td>False</td>\n",
       "      <td>False</td>\n",
       "      <td>False</td>\n",
       "      <td>False</td>\n",
       "      <td>False</td>\n",
       "      <td>False</td>\n",
       "      <td>False</td>\n",
       "      <td>...</td>\n",
       "      <td>False</td>\n",
       "      <td>False</td>\n",
       "      <td>False</td>\n",
       "      <td>False</td>\n",
       "      <td>False</td>\n",
       "      <td>False</td>\n",
       "      <td>False</td>\n",
       "      <td>False</td>\n",
       "      <td>False</td>\n",
       "      <td>False</td>\n",
       "    </tr>\n",
       "    <tr>\n",
       "      <td>...</td>\n",
       "      <td>...</td>\n",
       "      <td>...</td>\n",
       "      <td>...</td>\n",
       "      <td>...</td>\n",
       "      <td>...</td>\n",
       "      <td>...</td>\n",
       "      <td>...</td>\n",
       "      <td>...</td>\n",
       "      <td>...</td>\n",
       "      <td>...</td>\n",
       "      <td>...</td>\n",
       "      <td>...</td>\n",
       "      <td>...</td>\n",
       "      <td>...</td>\n",
       "      <td>...</td>\n",
       "      <td>...</td>\n",
       "      <td>...</td>\n",
       "      <td>...</td>\n",
       "      <td>...</td>\n",
       "      <td>...</td>\n",
       "      <td>...</td>\n",
       "    </tr>\n",
       "    <tr>\n",
       "      <td>4995</td>\n",
       "      <td>True</td>\n",
       "      <td>False</td>\n",
       "      <td>False</td>\n",
       "      <td>False</td>\n",
       "      <td>False</td>\n",
       "      <td>False</td>\n",
       "      <td>False</td>\n",
       "      <td>False</td>\n",
       "      <td>False</td>\n",
       "      <td>False</td>\n",
       "      <td>...</td>\n",
       "      <td>False</td>\n",
       "      <td>True</td>\n",
       "      <td>False</td>\n",
       "      <td>False</td>\n",
       "      <td>False</td>\n",
       "      <td>False</td>\n",
       "      <td>False</td>\n",
       "      <td>False</td>\n",
       "      <td>False</td>\n",
       "      <td>False</td>\n",
       "    </tr>\n",
       "    <tr>\n",
       "      <td>4996</td>\n",
       "      <td>True</td>\n",
       "      <td>False</td>\n",
       "      <td>False</td>\n",
       "      <td>False</td>\n",
       "      <td>False</td>\n",
       "      <td>False</td>\n",
       "      <td>False</td>\n",
       "      <td>False</td>\n",
       "      <td>False</td>\n",
       "      <td>False</td>\n",
       "      <td>...</td>\n",
       "      <td>False</td>\n",
       "      <td>False</td>\n",
       "      <td>False</td>\n",
       "      <td>False</td>\n",
       "      <td>False</td>\n",
       "      <td>False</td>\n",
       "      <td>False</td>\n",
       "      <td>False</td>\n",
       "      <td>False</td>\n",
       "      <td>False</td>\n",
       "    </tr>\n",
       "    <tr>\n",
       "      <td>4997</td>\n",
       "      <td>True</td>\n",
       "      <td>False</td>\n",
       "      <td>False</td>\n",
       "      <td>False</td>\n",
       "      <td>False</td>\n",
       "      <td>True</td>\n",
       "      <td>False</td>\n",
       "      <td>False</td>\n",
       "      <td>False</td>\n",
       "      <td>False</td>\n",
       "      <td>...</td>\n",
       "      <td>False</td>\n",
       "      <td>True</td>\n",
       "      <td>False</td>\n",
       "      <td>False</td>\n",
       "      <td>False</td>\n",
       "      <td>False</td>\n",
       "      <td>False</td>\n",
       "      <td>False</td>\n",
       "      <td>False</td>\n",
       "      <td>False</td>\n",
       "    </tr>\n",
       "    <tr>\n",
       "      <td>4998</td>\n",
       "      <td>True</td>\n",
       "      <td>False</td>\n",
       "      <td>False</td>\n",
       "      <td>False</td>\n",
       "      <td>False</td>\n",
       "      <td>False</td>\n",
       "      <td>False</td>\n",
       "      <td>False</td>\n",
       "      <td>False</td>\n",
       "      <td>False</td>\n",
       "      <td>...</td>\n",
       "      <td>False</td>\n",
       "      <td>False</td>\n",
       "      <td>False</td>\n",
       "      <td>False</td>\n",
       "      <td>False</td>\n",
       "      <td>False</td>\n",
       "      <td>False</td>\n",
       "      <td>False</td>\n",
       "      <td>False</td>\n",
       "      <td>False</td>\n",
       "    </tr>\n",
       "    <tr>\n",
       "      <td>4999</td>\n",
       "      <td>True</td>\n",
       "      <td>False</td>\n",
       "      <td>False</td>\n",
       "      <td>False</td>\n",
       "      <td>False</td>\n",
       "      <td>True</td>\n",
       "      <td>False</td>\n",
       "      <td>False</td>\n",
       "      <td>False</td>\n",
       "      <td>False</td>\n",
       "      <td>...</td>\n",
       "      <td>False</td>\n",
       "      <td>True</td>\n",
       "      <td>False</td>\n",
       "      <td>False</td>\n",
       "      <td>False</td>\n",
       "      <td>False</td>\n",
       "      <td>False</td>\n",
       "      <td>False</td>\n",
       "      <td>False</td>\n",
       "      <td>False</td>\n",
       "    </tr>\n",
       "  </tbody>\n",
       "</table>\n",
       "<p>5000 rows × 67 columns</p>\n",
       "</div>"
      ],
      "text/plain": [
       "                !      $      %      &      '      (      )      *      +  \\\n",
       "0     True  False  False  False  False  False  False  False  False  False   \n",
       "1     True  False  False  False  False  False  False  False  False  False   \n",
       "2     True  False  False  False  False  False  False  False  False  False   \n",
       "3     True   True  False  False  False  False  False  False  False  False   \n",
       "4     True  False  False  False  False  False  False  False  False  False   \n",
       "...    ...    ...    ...    ...    ...    ...    ...    ...    ...    ...   \n",
       "4995  True  False  False  False  False  False  False  False  False  False   \n",
       "4996  True  False  False  False  False  False  False  False  False  False   \n",
       "4997  True  False  False  False  False   True  False  False  False  False   \n",
       "4998  True  False  False  False  False  False  False  False  False  False   \n",
       "4999  True  False  False  False  False   True  False  False  False  False   \n",
       "\n",
       "      ...      x      y      z      {      |      }      ~      ½      ¿  \\\n",
       "0     ...  False  False  False  False  False  False  False  False  False   \n",
       "1     ...  False   True  False  False  False  False  False  False  False   \n",
       "2     ...  False   True  False  False  False  False  False  False  False   \n",
       "3     ...  False  False  False  False  False  False  False  False  False   \n",
       "4     ...  False  False  False  False  False  False  False  False  False   \n",
       "...   ...    ...    ...    ...    ...    ...    ...    ...    ...    ...   \n",
       "4995  ...  False   True  False  False  False  False  False  False  False   \n",
       "4996  ...  False  False  False  False  False  False  False  False  False   \n",
       "4997  ...  False   True  False  False  False  False  False  False  False   \n",
       "4998  ...  False  False  False  False  False  False  False  False  False   \n",
       "4999  ...  False   True  False  False  False  False  False  False  False   \n",
       "\n",
       "          ï  \n",
       "0     False  \n",
       "1     False  \n",
       "2     False  \n",
       "3     False  \n",
       "4     False  \n",
       "...     ...  \n",
       "4995  False  \n",
       "4996  False  \n",
       "4997  False  \n",
       "4998  False  \n",
       "4999  False  \n",
       "\n",
       "[5000 rows x 67 columns]"
      ]
     },
     "execution_count": 19,
     "metadata": {},
     "output_type": "execute_result"
    }
   ],
   "source": [
    "data"
   ]
  },
  {
   "cell_type": "code",
   "execution_count": 20,
   "metadata": {},
   "outputs": [
    {
     "data": {
      "text/html": [
       "<div>\n",
       "<style scoped>\n",
       "    .dataframe tbody tr th:only-of-type {\n",
       "        vertical-align: middle;\n",
       "    }\n",
       "\n",
       "    .dataframe tbody tr th {\n",
       "        vertical-align: top;\n",
       "    }\n",
       "\n",
       "    .dataframe thead th {\n",
       "        text-align: right;\n",
       "    }\n",
       "</style>\n",
       "<table border=\"1\" class=\"dataframe\">\n",
       "  <thead>\n",
       "    <tr style=\"text-align: right;\">\n",
       "      <th></th>\n",
       "      <th>tweet_id</th>\n",
       "      <th>sentiment</th>\n",
       "      <th>content</th>\n",
       "      <th>Message</th>\n",
       "    </tr>\n",
       "  </thead>\n",
       "  <tbody>\n",
       "    <tr>\n",
       "      <td>0</td>\n",
       "      <td>1956967341</td>\n",
       "      <td>2</td>\n",
       "      <td>@tiffanylue i know  i was listenin to bad habi...</td>\n",
       "      <td>know listenin bad habit earlier start freakin ...</td>\n",
       "    </tr>\n",
       "    <tr>\n",
       "      <td>1</td>\n",
       "      <td>1956967666</td>\n",
       "      <td>10</td>\n",
       "      <td>Layin n bed with a headache  ughhhh...waitin o...</td>\n",
       "      <td>layin n bed headach ughhhh...waitin call...</td>\n",
       "    </tr>\n",
       "    <tr>\n",
       "      <td>2</td>\n",
       "      <td>1956967696</td>\n",
       "      <td>10</td>\n",
       "      <td>Funeral ceremony...gloomy friday...</td>\n",
       "      <td>funer ceremony...gloomi friday...</td>\n",
       "    </tr>\n",
       "    <tr>\n",
       "      <td>3</td>\n",
       "      <td>1956967789</td>\n",
       "      <td>3</td>\n",
       "      <td>wants to hang out with friends SOON!</td>\n",
       "      <td>want hang friend soon!</td>\n",
       "    </tr>\n",
       "    <tr>\n",
       "      <td>4</td>\n",
       "      <td>1956968416</td>\n",
       "      <td>8</td>\n",
       "      <td>@dannycastillo We want to trade with someone w...</td>\n",
       "      <td>want trade someon houston tickets, one will.</td>\n",
       "    </tr>\n",
       "    <tr>\n",
       "      <td>...</td>\n",
       "      <td>...</td>\n",
       "      <td>...</td>\n",
       "      <td>...</td>\n",
       "      <td>...</td>\n",
       "    </tr>\n",
       "    <tr>\n",
       "      <td>4995</td>\n",
       "      <td>1960583096</td>\n",
       "      <td>10</td>\n",
       "      <td>@1Shan no sir...i woulda put honey...but i don...</td>\n",
       "      <td>sir...i woulda put honey...but</td>\n",
       "    </tr>\n",
       "    <tr>\n",
       "      <td>4996</td>\n",
       "      <td>1960583151</td>\n",
       "      <td>8</td>\n",
       "      <td>@JonathanRKnight so, how long have you been at...</td>\n",
       "      <td>so, long airport? smoke insid bar somehting? w...</td>\n",
       "    </tr>\n",
       "    <tr>\n",
       "      <td>4997</td>\n",
       "      <td>1960583193</td>\n",
       "      <td>10</td>\n",
       "      <td>@YankeeGirl20 besides I haven't had strep for ...</td>\n",
       "      <td>besid strep like 10 year reason. i'm tire anyt...</td>\n",
       "    </tr>\n",
       "    <tr>\n",
       "      <td>4998</td>\n",
       "      <td>1960583429</td>\n",
       "      <td>9</td>\n",
       "      <td>Glad to see the sun out in Dublin after a grea...</td>\n",
       "      <td>glad see sun dublin great week london. back work</td>\n",
       "    </tr>\n",
       "    <tr>\n",
       "      <td>4999</td>\n",
       "      <td>1960583576</td>\n",
       "      <td>12</td>\n",
       "      <td>@the_magician Yes, apnea, but it's not the pro...</td>\n",
       "      <td>yes, apnea, prob. i'm med might caus this. hel...</td>\n",
       "    </tr>\n",
       "  </tbody>\n",
       "</table>\n",
       "<p>5000 rows × 4 columns</p>\n",
       "</div>"
      ],
      "text/plain": [
       "        tweet_id  sentiment  \\\n",
       "0     1956967341          2   \n",
       "1     1956967666         10   \n",
       "2     1956967696         10   \n",
       "3     1956967789          3   \n",
       "4     1956968416          8   \n",
       "...          ...        ...   \n",
       "4995  1960583096         10   \n",
       "4996  1960583151          8   \n",
       "4997  1960583193         10   \n",
       "4998  1960583429          9   \n",
       "4999  1960583576         12   \n",
       "\n",
       "                                                content  \\\n",
       "0     @tiffanylue i know  i was listenin to bad habi...   \n",
       "1     Layin n bed with a headache  ughhhh...waitin o...   \n",
       "2                   Funeral ceremony...gloomy friday...   \n",
       "3                  wants to hang out with friends SOON!   \n",
       "4     @dannycastillo We want to trade with someone w...   \n",
       "...                                                 ...   \n",
       "4995  @1Shan no sir...i woulda put honey...but i don...   \n",
       "4996  @JonathanRKnight so, how long have you been at...   \n",
       "4997  @YankeeGirl20 besides I haven't had strep for ...   \n",
       "4998  Glad to see the sun out in Dublin after a grea...   \n",
       "4999  @the_magician Yes, apnea, but it's not the pro...   \n",
       "\n",
       "                                                Message  \n",
       "0     know listenin bad habit earlier start freakin ...  \n",
       "1           layin n bed headach ughhhh...waitin call...  \n",
       "2                     funer ceremony...gloomi friday...  \n",
       "3                                want hang friend soon!  \n",
       "4          want trade someon houston tickets, one will.  \n",
       "...                                                 ...  \n",
       "4995                     sir...i woulda put honey...but  \n",
       "4996  so, long airport? smoke insid bar somehting? w...  \n",
       "4997  besid strep like 10 year reason. i'm tire anyt...  \n",
       "4998   glad see sun dublin great week london. back work  \n",
       "4999  yes, apnea, prob. i'm med might caus this. hel...  \n",
       "\n",
       "[5000 rows x 4 columns]"
      ]
     },
     "execution_count": 20,
     "metadata": {},
     "output_type": "execute_result"
    }
   ],
   "source": [
    "df"
   ]
  },
  {
   "cell_type": "code",
   "execution_count": 23,
   "metadata": {},
   "outputs": [],
   "source": [
    "#=fpgrowth(data, min_support=0.02, use_colnames=True)\n",
    "\n",
    "#frequent_itemsets_fp=fpgrowth(data, min_support=0.02, use_colnames=True)"
   ]
  },
  {
   "cell_type": "code",
   "execution_count": null,
   "metadata": {},
   "outputs": [],
   "source": [
    "#rules_fp = association_rules(frequent_itemsets_fp, metric=\"confidence\", min_threshold=0.8)"
   ]
  },
  {
   "cell_type": "code",
   "execution_count": null,
   "metadata": {},
   "outputs": [],
   "source": [
    "#rules_fp"
   ]
  },
  {
   "cell_type": "code",
   "execution_count": null,
   "metadata": {},
   "outputs": [],
   "source": [
    "#frequent_itemsets_fp"
   ]
  },
  {
   "cell_type": "markdown",
   "metadata": {
    "id": "_qhPVswpzJCS"
   },
   "source": [
    "# Data Splitting"
   ]
  },
  {
   "cell_type": "code",
   "execution_count": 24,
   "metadata": {
    "executionInfo": {
     "elapsed": 1039,
     "status": "ok",
     "timestamp": 1630510545542,
     "user": {
      "displayName": "Ramesh Ravindran",
      "photoUrl": "https://lh3.googleusercontent.com/a-/AOh14GhcjUie2zDWpQEXGBSui04ZAq0Nl9CR7dlOS1FcBg=s64",
      "userId": "08375370966839671912"
     },
     "user_tz": -330
    },
    "id": "5fQRhX6wzJCS"
   },
   "outputs": [],
   "source": [
    "from sklearn.model_selection import train_test_split\n",
    "x_train,x_test,y_train,y_test = train_test_split(X,y,test_size=0.33)"
   ]
  },
  {
   "cell_type": "markdown",
   "metadata": {
    "id": "eJdhYhgjzJCT"
   },
   "source": [
    "# Logistic Regression"
   ]
  },
  {
   "cell_type": "code",
   "execution_count": 25,
   "metadata": {
    "executionInfo": {
     "elapsed": 14213,
     "status": "ok",
     "timestamp": 1630507353885,
     "user": {
      "displayName": "Ramesh Ravindran",
      "photoUrl": "https://lh3.googleusercontent.com/a-/AOh14GhcjUie2zDWpQEXGBSui04ZAq0Nl9CR7dlOS1FcBg=s64",
      "userId": "08375370966839671912"
     },
     "user_tz": -330
    },
    "id": "wqotNSr7zJCT"
   },
   "outputs": [
    {
     "name": "stderr",
     "output_type": "stream",
     "text": [
      "C:\\ProgramData\\Anaconda3\\lib\\site-packages\\scipy\\optimize\\lbfgsb.py:339: DeprecationWarning: tostring() is deprecated. Use tobytes() instead.\n",
      "  task_str = task.tostring()\n",
      "C:\\ProgramData\\Anaconda3\\lib\\site-packages\\scipy\\optimize\\lbfgsb.py:339: DeprecationWarning: tostring() is deprecated. Use tobytes() instead.\n",
      "  task_str = task.tostring()\n",
      "C:\\ProgramData\\Anaconda3\\lib\\site-packages\\scipy\\optimize\\lbfgsb.py:339: DeprecationWarning: tostring() is deprecated. Use tobytes() instead.\n",
      "  task_str = task.tostring()\n",
      "C:\\ProgramData\\Anaconda3\\lib\\site-packages\\scipy\\optimize\\lbfgsb.py:339: DeprecationWarning: tostring() is deprecated. Use tobytes() instead.\n",
      "  task_str = task.tostring()\n",
      "C:\\ProgramData\\Anaconda3\\lib\\site-packages\\scipy\\optimize\\lbfgsb.py:339: DeprecationWarning: tostring() is deprecated. Use tobytes() instead.\n",
      "  task_str = task.tostring()\n",
      "C:\\ProgramData\\Anaconda3\\lib\\site-packages\\scipy\\optimize\\lbfgsb.py:339: DeprecationWarning: tostring() is deprecated. Use tobytes() instead.\n",
      "  task_str = task.tostring()\n",
      "C:\\ProgramData\\Anaconda3\\lib\\site-packages\\scipy\\optimize\\lbfgsb.py:339: DeprecationWarning: tostring() is deprecated. Use tobytes() instead.\n",
      "  task_str = task.tostring()\n",
      "C:\\ProgramData\\Anaconda3\\lib\\site-packages\\scipy\\optimize\\lbfgsb.py:339: DeprecationWarning: tostring() is deprecated. Use tobytes() instead.\n",
      "  task_str = task.tostring()\n",
      "C:\\ProgramData\\Anaconda3\\lib\\site-packages\\scipy\\optimize\\lbfgsb.py:339: DeprecationWarning: tostring() is deprecated. Use tobytes() instead.\n",
      "  task_str = task.tostring()\n",
      "C:\\ProgramData\\Anaconda3\\lib\\site-packages\\scipy\\optimize\\lbfgsb.py:339: DeprecationWarning: tostring() is deprecated. Use tobytes() instead.\n",
      "  task_str = task.tostring()\n",
      "C:\\ProgramData\\Anaconda3\\lib\\site-packages\\scipy\\optimize\\lbfgsb.py:339: DeprecationWarning: tostring() is deprecated. Use tobytes() instead.\n",
      "  task_str = task.tostring()\n",
      "C:\\ProgramData\\Anaconda3\\lib\\site-packages\\scipy\\optimize\\lbfgsb.py:339: DeprecationWarning: tostring() is deprecated. Use tobytes() instead.\n",
      "  task_str = task.tostring()\n",
      "C:\\ProgramData\\Anaconda3\\lib\\site-packages\\scipy\\optimize\\lbfgsb.py:339: DeprecationWarning: tostring() is deprecated. Use tobytes() instead.\n",
      "  task_str = task.tostring()\n",
      "C:\\ProgramData\\Anaconda3\\lib\\site-packages\\scipy\\optimize\\lbfgsb.py:339: DeprecationWarning: tostring() is deprecated. Use tobytes() instead.\n",
      "  task_str = task.tostring()\n",
      "C:\\ProgramData\\Anaconda3\\lib\\site-packages\\scipy\\optimize\\lbfgsb.py:339: DeprecationWarning: tostring() is deprecated. Use tobytes() instead.\n",
      "  task_str = task.tostring()\n",
      "C:\\ProgramData\\Anaconda3\\lib\\site-packages\\scipy\\optimize\\lbfgsb.py:339: DeprecationWarning: tostring() is deprecated. Use tobytes() instead.\n",
      "  task_str = task.tostring()\n",
      "C:\\ProgramData\\Anaconda3\\lib\\site-packages\\scipy\\optimize\\lbfgsb.py:339: DeprecationWarning: tostring() is deprecated. Use tobytes() instead.\n",
      "  task_str = task.tostring()\n",
      "C:\\ProgramData\\Anaconda3\\lib\\site-packages\\scipy\\optimize\\lbfgsb.py:339: DeprecationWarning: tostring() is deprecated. Use tobytes() instead.\n",
      "  task_str = task.tostring()\n",
      "C:\\ProgramData\\Anaconda3\\lib\\site-packages\\scipy\\optimize\\lbfgsb.py:339: DeprecationWarning: tostring() is deprecated. Use tobytes() instead.\n",
      "  task_str = task.tostring()\n",
      "C:\\ProgramData\\Anaconda3\\lib\\site-packages\\scipy\\optimize\\lbfgsb.py:339: DeprecationWarning: tostring() is deprecated. Use tobytes() instead.\n",
      "  task_str = task.tostring()\n",
      "C:\\ProgramData\\Anaconda3\\lib\\site-packages\\scipy\\optimize\\lbfgsb.py:339: DeprecationWarning: tostring() is deprecated. Use tobytes() instead.\n",
      "  task_str = task.tostring()\n",
      "C:\\ProgramData\\Anaconda3\\lib\\site-packages\\scipy\\optimize\\lbfgsb.py:339: DeprecationWarning: tostring() is deprecated. Use tobytes() instead.\n",
      "  task_str = task.tostring()\n",
      "C:\\ProgramData\\Anaconda3\\lib\\site-packages\\scipy\\optimize\\lbfgsb.py:339: DeprecationWarning: tostring() is deprecated. Use tobytes() instead.\n",
      "  task_str = task.tostring()\n",
      "C:\\ProgramData\\Anaconda3\\lib\\site-packages\\scipy\\optimize\\lbfgsb.py:339: DeprecationWarning: tostring() is deprecated. Use tobytes() instead.\n",
      "  task_str = task.tostring()\n",
      "C:\\ProgramData\\Anaconda3\\lib\\site-packages\\scipy\\optimize\\lbfgsb.py:339: DeprecationWarning: tostring() is deprecated. Use tobytes() instead.\n",
      "  task_str = task.tostring()\n",
      "C:\\ProgramData\\Anaconda3\\lib\\site-packages\\scipy\\optimize\\lbfgsb.py:339: DeprecationWarning: tostring() is deprecated. Use tobytes() instead.\n",
      "  task_str = task.tostring()\n",
      "C:\\ProgramData\\Anaconda3\\lib\\site-packages\\scipy\\optimize\\lbfgsb.py:339: DeprecationWarning: tostring() is deprecated. Use tobytes() instead.\n",
      "  task_str = task.tostring()\n",
      "C:\\ProgramData\\Anaconda3\\lib\\site-packages\\scipy\\optimize\\lbfgsb.py:339: DeprecationWarning: tostring() is deprecated. Use tobytes() instead.\n",
      "  task_str = task.tostring()\n",
      "C:\\ProgramData\\Anaconda3\\lib\\site-packages\\scipy\\optimize\\lbfgsb.py:339: DeprecationWarning: tostring() is deprecated. Use tobytes() instead.\n",
      "  task_str = task.tostring()\n",
      "C:\\ProgramData\\Anaconda3\\lib\\site-packages\\scipy\\optimize\\lbfgsb.py:339: DeprecationWarning: tostring() is deprecated. Use tobytes() instead.\n",
      "  task_str = task.tostring()\n",
      "C:\\ProgramData\\Anaconda3\\lib\\site-packages\\scipy\\optimize\\lbfgsb.py:339: DeprecationWarning: tostring() is deprecated. Use tobytes() instead.\n",
      "  task_str = task.tostring()\n",
      "C:\\ProgramData\\Anaconda3\\lib\\site-packages\\scipy\\optimize\\lbfgsb.py:339: DeprecationWarning: tostring() is deprecated. Use tobytes() instead.\n",
      "  task_str = task.tostring()\n",
      "C:\\ProgramData\\Anaconda3\\lib\\site-packages\\scipy\\optimize\\lbfgsb.py:339: DeprecationWarning: tostring() is deprecated. Use tobytes() instead.\n",
      "  task_str = task.tostring()\n",
      "C:\\ProgramData\\Anaconda3\\lib\\site-packages\\scipy\\optimize\\lbfgsb.py:339: DeprecationWarning: tostring() is deprecated. Use tobytes() instead.\n",
      "  task_str = task.tostring()\n",
      "C:\\ProgramData\\Anaconda3\\lib\\site-packages\\scipy\\optimize\\lbfgsb.py:339: DeprecationWarning: tostring() is deprecated. Use tobytes() instead.\n",
      "  task_str = task.tostring()\n",
      "C:\\ProgramData\\Anaconda3\\lib\\site-packages\\scipy\\optimize\\lbfgsb.py:339: DeprecationWarning: tostring() is deprecated. Use tobytes() instead.\n",
      "  task_str = task.tostring()\n",
      "C:\\ProgramData\\Anaconda3\\lib\\site-packages\\scipy\\optimize\\lbfgsb.py:339: DeprecationWarning: tostring() is deprecated. Use tobytes() instead.\n",
      "  task_str = task.tostring()\n",
      "C:\\ProgramData\\Anaconda3\\lib\\site-packages\\scipy\\optimize\\lbfgsb.py:339: DeprecationWarning: tostring() is deprecated. Use tobytes() instead.\n",
      "  task_str = task.tostring()\n",
      "C:\\ProgramData\\Anaconda3\\lib\\site-packages\\scipy\\optimize\\lbfgsb.py:339: DeprecationWarning: tostring() is deprecated. Use tobytes() instead.\n",
      "  task_str = task.tostring()\n",
      "C:\\ProgramData\\Anaconda3\\lib\\site-packages\\scipy\\optimize\\lbfgsb.py:339: DeprecationWarning: tostring() is deprecated. Use tobytes() instead.\n",
      "  task_str = task.tostring()\n",
      "C:\\ProgramData\\Anaconda3\\lib\\site-packages\\scipy\\optimize\\lbfgsb.py:339: DeprecationWarning: tostring() is deprecated. Use tobytes() instead.\n",
      "  task_str = task.tostring()\n",
      "C:\\ProgramData\\Anaconda3\\lib\\site-packages\\scipy\\optimize\\lbfgsb.py:339: DeprecationWarning: tostring() is deprecated. Use tobytes() instead.\n",
      "  task_str = task.tostring()\n",
      "C:\\ProgramData\\Anaconda3\\lib\\site-packages\\scipy\\optimize\\lbfgsb.py:339: DeprecationWarning: tostring() is deprecated. Use tobytes() instead.\n",
      "  task_str = task.tostring()\n",
      "C:\\ProgramData\\Anaconda3\\lib\\site-packages\\scipy\\optimize\\lbfgsb.py:339: DeprecationWarning: tostring() is deprecated. Use tobytes() instead.\n",
      "  task_str = task.tostring()\n",
      "C:\\ProgramData\\Anaconda3\\lib\\site-packages\\scipy\\optimize\\lbfgsb.py:339: DeprecationWarning: tostring() is deprecated. Use tobytes() instead.\n",
      "  task_str = task.tostring()\n",
      "C:\\ProgramData\\Anaconda3\\lib\\site-packages\\scipy\\optimize\\lbfgsb.py:339: DeprecationWarning: tostring() is deprecated. Use tobytes() instead.\n",
      "  task_str = task.tostring()\n",
      "C:\\ProgramData\\Anaconda3\\lib\\site-packages\\scipy\\optimize\\lbfgsb.py:339: DeprecationWarning: tostring() is deprecated. Use tobytes() instead.\n",
      "  task_str = task.tostring()\n",
      "C:\\ProgramData\\Anaconda3\\lib\\site-packages\\scipy\\optimize\\lbfgsb.py:339: DeprecationWarning: tostring() is deprecated. Use tobytes() instead.\n",
      "  task_str = task.tostring()\n",
      "C:\\ProgramData\\Anaconda3\\lib\\site-packages\\scipy\\optimize\\lbfgsb.py:339: DeprecationWarning: tostring() is deprecated. Use tobytes() instead.\n",
      "  task_str = task.tostring()\n",
      "C:\\ProgramData\\Anaconda3\\lib\\site-packages\\scipy\\optimize\\lbfgsb.py:339: DeprecationWarning: tostring() is deprecated. Use tobytes() instead.\n",
      "  task_str = task.tostring()\n",
      "C:\\ProgramData\\Anaconda3\\lib\\site-packages\\scipy\\optimize\\lbfgsb.py:339: DeprecationWarning: tostring() is deprecated. Use tobytes() instead.\n",
      "  task_str = task.tostring()\n",
      "C:\\ProgramData\\Anaconda3\\lib\\site-packages\\scipy\\optimize\\lbfgsb.py:339: DeprecationWarning: tostring() is deprecated. Use tobytes() instead.\n",
      "  task_str = task.tostring()\n"
     ]
    },
    {
     "name": "stderr",
     "output_type": "stream",
     "text": [
      "C:\\ProgramData\\Anaconda3\\lib\\site-packages\\scipy\\optimize\\lbfgsb.py:339: DeprecationWarning: tostring() is deprecated. Use tobytes() instead.\n",
      "  task_str = task.tostring()\n",
      "C:\\ProgramData\\Anaconda3\\lib\\site-packages\\scipy\\optimize\\lbfgsb.py:339: DeprecationWarning: tostring() is deprecated. Use tobytes() instead.\n",
      "  task_str = task.tostring()\n",
      "C:\\ProgramData\\Anaconda3\\lib\\site-packages\\scipy\\optimize\\lbfgsb.py:339: DeprecationWarning: tostring() is deprecated. Use tobytes() instead.\n",
      "  task_str = task.tostring()\n",
      "C:\\ProgramData\\Anaconda3\\lib\\site-packages\\scipy\\optimize\\lbfgsb.py:339: DeprecationWarning: tostring() is deprecated. Use tobytes() instead.\n",
      "  task_str = task.tostring()\n",
      "C:\\ProgramData\\Anaconda3\\lib\\site-packages\\scipy\\optimize\\lbfgsb.py:339: DeprecationWarning: tostring() is deprecated. Use tobytes() instead.\n",
      "  task_str = task.tostring()\n",
      "C:\\ProgramData\\Anaconda3\\lib\\site-packages\\scipy\\optimize\\lbfgsb.py:339: DeprecationWarning: tostring() is deprecated. Use tobytes() instead.\n",
      "  task_str = task.tostring()\n",
      "C:\\ProgramData\\Anaconda3\\lib\\site-packages\\scipy\\optimize\\lbfgsb.py:339: DeprecationWarning: tostring() is deprecated. Use tobytes() instead.\n",
      "  task_str = task.tostring()\n",
      "C:\\ProgramData\\Anaconda3\\lib\\site-packages\\scipy\\optimize\\lbfgsb.py:339: DeprecationWarning: tostring() is deprecated. Use tobytes() instead.\n",
      "  task_str = task.tostring()\n",
      "C:\\ProgramData\\Anaconda3\\lib\\site-packages\\scipy\\optimize\\lbfgsb.py:339: DeprecationWarning: tostring() is deprecated. Use tobytes() instead.\n",
      "  task_str = task.tostring()\n",
      "C:\\ProgramData\\Anaconda3\\lib\\site-packages\\scipy\\optimize\\lbfgsb.py:339: DeprecationWarning: tostring() is deprecated. Use tobytes() instead.\n",
      "  task_str = task.tostring()\n",
      "C:\\ProgramData\\Anaconda3\\lib\\site-packages\\scipy\\optimize\\lbfgsb.py:339: DeprecationWarning: tostring() is deprecated. Use tobytes() instead.\n",
      "  task_str = task.tostring()\n",
      "C:\\ProgramData\\Anaconda3\\lib\\site-packages\\scipy\\optimize\\lbfgsb.py:339: DeprecationWarning: tostring() is deprecated. Use tobytes() instead.\n",
      "  task_str = task.tostring()\n",
      "C:\\ProgramData\\Anaconda3\\lib\\site-packages\\scipy\\optimize\\lbfgsb.py:339: DeprecationWarning: tostring() is deprecated. Use tobytes() instead.\n",
      "  task_str = task.tostring()\n",
      "C:\\ProgramData\\Anaconda3\\lib\\site-packages\\scipy\\optimize\\lbfgsb.py:339: DeprecationWarning: tostring() is deprecated. Use tobytes() instead.\n",
      "  task_str = task.tostring()\n",
      "C:\\ProgramData\\Anaconda3\\lib\\site-packages\\scipy\\optimize\\lbfgsb.py:339: DeprecationWarning: tostring() is deprecated. Use tobytes() instead.\n",
      "  task_str = task.tostring()\n",
      "C:\\ProgramData\\Anaconda3\\lib\\site-packages\\scipy\\optimize\\lbfgsb.py:339: DeprecationWarning: tostring() is deprecated. Use tobytes() instead.\n",
      "  task_str = task.tostring()\n",
      "C:\\ProgramData\\Anaconda3\\lib\\site-packages\\scipy\\optimize\\lbfgsb.py:339: DeprecationWarning: tostring() is deprecated. Use tobytes() instead.\n",
      "  task_str = task.tostring()\n",
      "C:\\ProgramData\\Anaconda3\\lib\\site-packages\\scipy\\optimize\\lbfgsb.py:339: DeprecationWarning: tostring() is deprecated. Use tobytes() instead.\n",
      "  task_str = task.tostring()\n",
      "C:\\ProgramData\\Anaconda3\\lib\\site-packages\\scipy\\optimize\\lbfgsb.py:339: DeprecationWarning: tostring() is deprecated. Use tobytes() instead.\n",
      "  task_str = task.tostring()\n",
      "C:\\ProgramData\\Anaconda3\\lib\\site-packages\\scipy\\optimize\\lbfgsb.py:339: DeprecationWarning: tostring() is deprecated. Use tobytes() instead.\n",
      "  task_str = task.tostring()\n",
      "C:\\ProgramData\\Anaconda3\\lib\\site-packages\\scipy\\optimize\\lbfgsb.py:339: DeprecationWarning: tostring() is deprecated. Use tobytes() instead.\n",
      "  task_str = task.tostring()\n",
      "C:\\ProgramData\\Anaconda3\\lib\\site-packages\\scipy\\optimize\\lbfgsb.py:339: DeprecationWarning: tostring() is deprecated. Use tobytes() instead.\n",
      "  task_str = task.tostring()\n",
      "C:\\ProgramData\\Anaconda3\\lib\\site-packages\\scipy\\optimize\\lbfgsb.py:339: DeprecationWarning: tostring() is deprecated. Use tobytes() instead.\n",
      "  task_str = task.tostring()\n",
      "C:\\ProgramData\\Anaconda3\\lib\\site-packages\\scipy\\optimize\\lbfgsb.py:339: DeprecationWarning: tostring() is deprecated. Use tobytes() instead.\n",
      "  task_str = task.tostring()\n",
      "C:\\ProgramData\\Anaconda3\\lib\\site-packages\\scipy\\optimize\\lbfgsb.py:339: DeprecationWarning: tostring() is deprecated. Use tobytes() instead.\n",
      "  task_str = task.tostring()\n",
      "C:\\ProgramData\\Anaconda3\\lib\\site-packages\\scipy\\optimize\\lbfgsb.py:339: DeprecationWarning: tostring() is deprecated. Use tobytes() instead.\n",
      "  task_str = task.tostring()\n",
      "C:\\ProgramData\\Anaconda3\\lib\\site-packages\\scipy\\optimize\\lbfgsb.py:339: DeprecationWarning: tostring() is deprecated. Use tobytes() instead.\n",
      "  task_str = task.tostring()\n",
      "C:\\ProgramData\\Anaconda3\\lib\\site-packages\\scipy\\optimize\\lbfgsb.py:339: DeprecationWarning: tostring() is deprecated. Use tobytes() instead.\n",
      "  task_str = task.tostring()\n",
      "C:\\ProgramData\\Anaconda3\\lib\\site-packages\\scipy\\optimize\\lbfgsb.py:339: DeprecationWarning: tostring() is deprecated. Use tobytes() instead.\n",
      "  task_str = task.tostring()\n",
      "C:\\ProgramData\\Anaconda3\\lib\\site-packages\\scipy\\optimize\\lbfgsb.py:339: DeprecationWarning: tostring() is deprecated. Use tobytes() instead.\n",
      "  task_str = task.tostring()\n",
      "C:\\ProgramData\\Anaconda3\\lib\\site-packages\\scipy\\optimize\\lbfgsb.py:339: DeprecationWarning: tostring() is deprecated. Use tobytes() instead.\n",
      "  task_str = task.tostring()\n",
      "C:\\ProgramData\\Anaconda3\\lib\\site-packages\\scipy\\optimize\\lbfgsb.py:339: DeprecationWarning: tostring() is deprecated. Use tobytes() instead.\n",
      "  task_str = task.tostring()\n",
      "C:\\ProgramData\\Anaconda3\\lib\\site-packages\\scipy\\optimize\\lbfgsb.py:339: DeprecationWarning: tostring() is deprecated. Use tobytes() instead.\n",
      "  task_str = task.tostring()\n",
      "C:\\ProgramData\\Anaconda3\\lib\\site-packages\\scipy\\optimize\\lbfgsb.py:339: DeprecationWarning: tostring() is deprecated. Use tobytes() instead.\n",
      "  task_str = task.tostring()\n",
      "C:\\ProgramData\\Anaconda3\\lib\\site-packages\\scipy\\optimize\\lbfgsb.py:339: DeprecationWarning: tostring() is deprecated. Use tobytes() instead.\n",
      "  task_str = task.tostring()\n",
      "C:\\ProgramData\\Anaconda3\\lib\\site-packages\\scipy\\optimize\\lbfgsb.py:339: DeprecationWarning: tostring() is deprecated. Use tobytes() instead.\n",
      "  task_str = task.tostring()\n",
      "C:\\ProgramData\\Anaconda3\\lib\\site-packages\\scipy\\optimize\\lbfgsb.py:339: DeprecationWarning: tostring() is deprecated. Use tobytes() instead.\n",
      "  task_str = task.tostring()\n",
      "C:\\ProgramData\\Anaconda3\\lib\\site-packages\\scipy\\optimize\\lbfgsb.py:339: DeprecationWarning: tostring() is deprecated. Use tobytes() instead.\n",
      "  task_str = task.tostring()\n",
      "C:\\ProgramData\\Anaconda3\\lib\\site-packages\\scipy\\optimize\\lbfgsb.py:339: DeprecationWarning: tostring() is deprecated. Use tobytes() instead.\n",
      "  task_str = task.tostring()\n",
      "C:\\ProgramData\\Anaconda3\\lib\\site-packages\\scipy\\optimize\\lbfgsb.py:339: DeprecationWarning: tostring() is deprecated. Use tobytes() instead.\n",
      "  task_str = task.tostring()\n",
      "C:\\ProgramData\\Anaconda3\\lib\\site-packages\\scipy\\optimize\\lbfgsb.py:339: DeprecationWarning: tostring() is deprecated. Use tobytes() instead.\n",
      "  task_str = task.tostring()\n",
      "C:\\ProgramData\\Anaconda3\\lib\\site-packages\\scipy\\optimize\\lbfgsb.py:339: DeprecationWarning: tostring() is deprecated. Use tobytes() instead.\n",
      "  task_str = task.tostring()\n",
      "C:\\ProgramData\\Anaconda3\\lib\\site-packages\\scipy\\optimize\\lbfgsb.py:339: DeprecationWarning: tostring() is deprecated. Use tobytes() instead.\n",
      "  task_str = task.tostring()\n",
      "C:\\ProgramData\\Anaconda3\\lib\\site-packages\\scipy\\optimize\\lbfgsb.py:339: DeprecationWarning: tostring() is deprecated. Use tobytes() instead.\n",
      "  task_str = task.tostring()\n",
      "C:\\ProgramData\\Anaconda3\\lib\\site-packages\\scipy\\optimize\\lbfgsb.py:339: DeprecationWarning: tostring() is deprecated. Use tobytes() instead.\n",
      "  task_str = task.tostring()\n",
      "C:\\ProgramData\\Anaconda3\\lib\\site-packages\\scipy\\optimize\\lbfgsb.py:339: DeprecationWarning: tostring() is deprecated. Use tobytes() instead.\n",
      "  task_str = task.tostring()\n",
      "C:\\ProgramData\\Anaconda3\\lib\\site-packages\\scipy\\optimize\\lbfgsb.py:339: DeprecationWarning: tostring() is deprecated. Use tobytes() instead.\n",
      "  task_str = task.tostring()\n",
      "C:\\ProgramData\\Anaconda3\\lib\\site-packages\\scipy\\optimize\\lbfgsb.py:339: DeprecationWarning: tostring() is deprecated. Use tobytes() instead.\n",
      "  task_str = task.tostring()\n",
      "C:\\ProgramData\\Anaconda3\\lib\\site-packages\\scipy\\optimize\\lbfgsb.py:339: DeprecationWarning: tostring() is deprecated. Use tobytes() instead.\n",
      "  task_str = task.tostring()\n"
     ]
    },
    {
     "name": "stderr",
     "output_type": "stream",
     "text": [
      "C:\\ProgramData\\Anaconda3\\lib\\site-packages\\scipy\\optimize\\lbfgsb.py:339: DeprecationWarning: tostring() is deprecated. Use tobytes() instead.\n",
      "  task_str = task.tostring()\n",
      "C:\\ProgramData\\Anaconda3\\lib\\site-packages\\scipy\\optimize\\lbfgsb.py:339: DeprecationWarning: tostring() is deprecated. Use tobytes() instead.\n",
      "  task_str = task.tostring()\n",
      "C:\\ProgramData\\Anaconda3\\lib\\site-packages\\scipy\\optimize\\lbfgsb.py:339: DeprecationWarning: tostring() is deprecated. Use tobytes() instead.\n",
      "  task_str = task.tostring()\n",
      "C:\\ProgramData\\Anaconda3\\lib\\site-packages\\scipy\\optimize\\lbfgsb.py:339: DeprecationWarning: tostring() is deprecated. Use tobytes() instead.\n",
      "  task_str = task.tostring()\n",
      "C:\\ProgramData\\Anaconda3\\lib\\site-packages\\scipy\\optimize\\lbfgsb.py:339: DeprecationWarning: tostring() is deprecated. Use tobytes() instead.\n",
      "  task_str = task.tostring()\n",
      "C:\\ProgramData\\Anaconda3\\lib\\site-packages\\scipy\\optimize\\lbfgsb.py:339: DeprecationWarning: tostring() is deprecated. Use tobytes() instead.\n",
      "  task_str = task.tostring()\n",
      "C:\\ProgramData\\Anaconda3\\lib\\site-packages\\scipy\\optimize\\lbfgsb.py:339: DeprecationWarning: tostring() is deprecated. Use tobytes() instead.\n",
      "  task_str = task.tostring()\n",
      "C:\\ProgramData\\Anaconda3\\lib\\site-packages\\scipy\\optimize\\lbfgsb.py:339: DeprecationWarning: tostring() is deprecated. Use tobytes() instead.\n",
      "  task_str = task.tostring()\n",
      "C:\\ProgramData\\Anaconda3\\lib\\site-packages\\scipy\\optimize\\lbfgsb.py:339: DeprecationWarning: tostring() is deprecated. Use tobytes() instead.\n",
      "  task_str = task.tostring()\n",
      "C:\\ProgramData\\Anaconda3\\lib\\site-packages\\scipy\\optimize\\lbfgsb.py:339: DeprecationWarning: tostring() is deprecated. Use tobytes() instead.\n",
      "  task_str = task.tostring()\n",
      "C:\\ProgramData\\Anaconda3\\lib\\site-packages\\scipy\\optimize\\lbfgsb.py:339: DeprecationWarning: tostring() is deprecated. Use tobytes() instead.\n",
      "  task_str = task.tostring()\n",
      "C:\\ProgramData\\Anaconda3\\lib\\site-packages\\scipy\\optimize\\lbfgsb.py:339: DeprecationWarning: tostring() is deprecated. Use tobytes() instead.\n",
      "  task_str = task.tostring()\n",
      "C:\\ProgramData\\Anaconda3\\lib\\site-packages\\scipy\\optimize\\lbfgsb.py:339: DeprecationWarning: tostring() is deprecated. Use tobytes() instead.\n",
      "  task_str = task.tostring()\n",
      "C:\\ProgramData\\Anaconda3\\lib\\site-packages\\scipy\\optimize\\lbfgsb.py:339: DeprecationWarning: tostring() is deprecated. Use tobytes() instead.\n",
      "  task_str = task.tostring()\n",
      "C:\\ProgramData\\Anaconda3\\lib\\site-packages\\scipy\\optimize\\lbfgsb.py:339: DeprecationWarning: tostring() is deprecated. Use tobytes() instead.\n",
      "  task_str = task.tostring()\n",
      "C:\\ProgramData\\Anaconda3\\lib\\site-packages\\scipy\\optimize\\lbfgsb.py:339: DeprecationWarning: tostring() is deprecated. Use tobytes() instead.\n",
      "  task_str = task.tostring()\n",
      "C:\\ProgramData\\Anaconda3\\lib\\site-packages\\scipy\\optimize\\lbfgsb.py:339: DeprecationWarning: tostring() is deprecated. Use tobytes() instead.\n",
      "  task_str = task.tostring()\n",
      "C:\\ProgramData\\Anaconda3\\lib\\site-packages\\scipy\\optimize\\lbfgsb.py:339: DeprecationWarning: tostring() is deprecated. Use tobytes() instead.\n",
      "  task_str = task.tostring()\n",
      "C:\\ProgramData\\Anaconda3\\lib\\site-packages\\scipy\\optimize\\lbfgsb.py:339: DeprecationWarning: tostring() is deprecated. Use tobytes() instead.\n",
      "  task_str = task.tostring()\n",
      "C:\\ProgramData\\Anaconda3\\lib\\site-packages\\scipy\\optimize\\lbfgsb.py:339: DeprecationWarning: tostring() is deprecated. Use tobytes() instead.\n",
      "  task_str = task.tostring()\n",
      "C:\\ProgramData\\Anaconda3\\lib\\site-packages\\scipy\\optimize\\lbfgsb.py:339: DeprecationWarning: tostring() is deprecated. Use tobytes() instead.\n",
      "  task_str = task.tostring()\n",
      "C:\\ProgramData\\Anaconda3\\lib\\site-packages\\scipy\\optimize\\lbfgsb.py:339: DeprecationWarning: tostring() is deprecated. Use tobytes() instead.\n",
      "  task_str = task.tostring()\n",
      "C:\\ProgramData\\Anaconda3\\lib\\site-packages\\scipy\\optimize\\lbfgsb.py:339: DeprecationWarning: tostring() is deprecated. Use tobytes() instead.\n",
      "  task_str = task.tostring()\n",
      "C:\\ProgramData\\Anaconda3\\lib\\site-packages\\scipy\\optimize\\lbfgsb.py:339: DeprecationWarning: tostring() is deprecated. Use tobytes() instead.\n",
      "  task_str = task.tostring()\n",
      "C:\\ProgramData\\Anaconda3\\lib\\site-packages\\scipy\\optimize\\lbfgsb.py:339: DeprecationWarning: tostring() is deprecated. Use tobytes() instead.\n",
      "  task_str = task.tostring()\n",
      "C:\\ProgramData\\Anaconda3\\lib\\site-packages\\scipy\\optimize\\lbfgsb.py:339: DeprecationWarning: tostring() is deprecated. Use tobytes() instead.\n",
      "  task_str = task.tostring()\n",
      "C:\\ProgramData\\Anaconda3\\lib\\site-packages\\scipy\\optimize\\lbfgsb.py:339: DeprecationWarning: tostring() is deprecated. Use tobytes() instead.\n",
      "  task_str = task.tostring()\n",
      "C:\\ProgramData\\Anaconda3\\lib\\site-packages\\scipy\\optimize\\lbfgsb.py:339: DeprecationWarning: tostring() is deprecated. Use tobytes() instead.\n",
      "  task_str = task.tostring()\n",
      "C:\\ProgramData\\Anaconda3\\lib\\site-packages\\scipy\\optimize\\lbfgsb.py:339: DeprecationWarning: tostring() is deprecated. Use tobytes() instead.\n",
      "  task_str = task.tostring()\n",
      "C:\\ProgramData\\Anaconda3\\lib\\site-packages\\scipy\\optimize\\lbfgsb.py:339: DeprecationWarning: tostring() is deprecated. Use tobytes() instead.\n",
      "  task_str = task.tostring()\n",
      "C:\\ProgramData\\Anaconda3\\lib\\site-packages\\scipy\\optimize\\lbfgsb.py:339: DeprecationWarning: tostring() is deprecated. Use tobytes() instead.\n",
      "  task_str = task.tostring()\n",
      "C:\\ProgramData\\Anaconda3\\lib\\site-packages\\scipy\\optimize\\lbfgsb.py:339: DeprecationWarning: tostring() is deprecated. Use tobytes() instead.\n",
      "  task_str = task.tostring()\n",
      "C:\\ProgramData\\Anaconda3\\lib\\site-packages\\scipy\\optimize\\lbfgsb.py:339: DeprecationWarning: tostring() is deprecated. Use tobytes() instead.\n",
      "  task_str = task.tostring()\n",
      "C:\\ProgramData\\Anaconda3\\lib\\site-packages\\scipy\\optimize\\lbfgsb.py:339: DeprecationWarning: tostring() is deprecated. Use tobytes() instead.\n",
      "  task_str = task.tostring()\n",
      "C:\\ProgramData\\Anaconda3\\lib\\site-packages\\scipy\\optimize\\lbfgsb.py:339: DeprecationWarning: tostring() is deprecated. Use tobytes() instead.\n",
      "  task_str = task.tostring()\n",
      "C:\\ProgramData\\Anaconda3\\lib\\site-packages\\scipy\\optimize\\lbfgsb.py:339: DeprecationWarning: tostring() is deprecated. Use tobytes() instead.\n",
      "  task_str = task.tostring()\n",
      "C:\\ProgramData\\Anaconda3\\lib\\site-packages\\scipy\\optimize\\lbfgsb.py:339: DeprecationWarning: tostring() is deprecated. Use tobytes() instead.\n",
      "  task_str = task.tostring()\n",
      "C:\\ProgramData\\Anaconda3\\lib\\site-packages\\scipy\\optimize\\lbfgsb.py:339: DeprecationWarning: tostring() is deprecated. Use tobytes() instead.\n",
      "  task_str = task.tostring()\n",
      "C:\\ProgramData\\Anaconda3\\lib\\site-packages\\scipy\\optimize\\lbfgsb.py:339: DeprecationWarning: tostring() is deprecated. Use tobytes() instead.\n",
      "  task_str = task.tostring()\n",
      "C:\\ProgramData\\Anaconda3\\lib\\site-packages\\scipy\\optimize\\lbfgsb.py:339: DeprecationWarning: tostring() is deprecated. Use tobytes() instead.\n",
      "  task_str = task.tostring()\n",
      "C:\\ProgramData\\Anaconda3\\lib\\site-packages\\scipy\\optimize\\lbfgsb.py:339: DeprecationWarning: tostring() is deprecated. Use tobytes() instead.\n",
      "  task_str = task.tostring()\n",
      "C:\\ProgramData\\Anaconda3\\lib\\site-packages\\scipy\\optimize\\lbfgsb.py:339: DeprecationWarning: tostring() is deprecated. Use tobytes() instead.\n",
      "  task_str = task.tostring()\n",
      "C:\\ProgramData\\Anaconda3\\lib\\site-packages\\scipy\\optimize\\lbfgsb.py:339: DeprecationWarning: tostring() is deprecated. Use tobytes() instead.\n",
      "  task_str = task.tostring()\n",
      "C:\\ProgramData\\Anaconda3\\lib\\site-packages\\scipy\\optimize\\lbfgsb.py:339: DeprecationWarning: tostring() is deprecated. Use tobytes() instead.\n",
      "  task_str = task.tostring()\n",
      "C:\\ProgramData\\Anaconda3\\lib\\site-packages\\scipy\\optimize\\lbfgsb.py:339: DeprecationWarning: tostring() is deprecated. Use tobytes() instead.\n",
      "  task_str = task.tostring()\n",
      "C:\\ProgramData\\Anaconda3\\lib\\site-packages\\scipy\\optimize\\lbfgsb.py:339: DeprecationWarning: tostring() is deprecated. Use tobytes() instead.\n",
      "  task_str = task.tostring()\n",
      "C:\\ProgramData\\Anaconda3\\lib\\site-packages\\scipy\\optimize\\lbfgsb.py:339: DeprecationWarning: tostring() is deprecated. Use tobytes() instead.\n",
      "  task_str = task.tostring()\n",
      "C:\\ProgramData\\Anaconda3\\lib\\site-packages\\scipy\\optimize\\lbfgsb.py:339: DeprecationWarning: tostring() is deprecated. Use tobytes() instead.\n",
      "  task_str = task.tostring()\n"
     ]
    },
    {
     "name": "stderr",
     "output_type": "stream",
     "text": [
      "C:\\ProgramData\\Anaconda3\\lib\\site-packages\\scipy\\optimize\\lbfgsb.py:339: DeprecationWarning: tostring() is deprecated. Use tobytes() instead.\n",
      "  task_str = task.tostring()\n",
      "C:\\ProgramData\\Anaconda3\\lib\\site-packages\\scipy\\optimize\\lbfgsb.py:339: DeprecationWarning: tostring() is deprecated. Use tobytes() instead.\n",
      "  task_str = task.tostring()\n",
      "C:\\ProgramData\\Anaconda3\\lib\\site-packages\\scipy\\optimize\\lbfgsb.py:339: DeprecationWarning: tostring() is deprecated. Use tobytes() instead.\n",
      "  task_str = task.tostring()\n",
      "C:\\ProgramData\\Anaconda3\\lib\\site-packages\\scipy\\optimize\\lbfgsb.py:339: DeprecationWarning: tostring() is deprecated. Use tobytes() instead.\n",
      "  task_str = task.tostring()\n",
      "C:\\ProgramData\\Anaconda3\\lib\\site-packages\\scipy\\optimize\\lbfgsb.py:339: DeprecationWarning: tostring() is deprecated. Use tobytes() instead.\n",
      "  task_str = task.tostring()\n",
      "C:\\ProgramData\\Anaconda3\\lib\\site-packages\\scipy\\optimize\\lbfgsb.py:339: DeprecationWarning: tostring() is deprecated. Use tobytes() instead.\n",
      "  task_str = task.tostring()\n",
      "C:\\ProgramData\\Anaconda3\\lib\\site-packages\\scipy\\optimize\\lbfgsb.py:339: DeprecationWarning: tostring() is deprecated. Use tobytes() instead.\n",
      "  task_str = task.tostring()\n",
      "C:\\ProgramData\\Anaconda3\\lib\\site-packages\\scipy\\optimize\\lbfgsb.py:339: DeprecationWarning: tostring() is deprecated. Use tobytes() instead.\n",
      "  task_str = task.tostring()\n",
      "C:\\ProgramData\\Anaconda3\\lib\\site-packages\\scipy\\optimize\\lbfgsb.py:339: DeprecationWarning: tostring() is deprecated. Use tobytes() instead.\n",
      "  task_str = task.tostring()\n",
      "C:\\ProgramData\\Anaconda3\\lib\\site-packages\\scipy\\optimize\\lbfgsb.py:339: DeprecationWarning: tostring() is deprecated. Use tobytes() instead.\n",
      "  task_str = task.tostring()\n",
      "C:\\ProgramData\\Anaconda3\\lib\\site-packages\\scipy\\optimize\\lbfgsb.py:339: DeprecationWarning: tostring() is deprecated. Use tobytes() instead.\n",
      "  task_str = task.tostring()\n",
      "C:\\ProgramData\\Anaconda3\\lib\\site-packages\\scipy\\optimize\\lbfgsb.py:339: DeprecationWarning: tostring() is deprecated. Use tobytes() instead.\n",
      "  task_str = task.tostring()\n",
      "C:\\ProgramData\\Anaconda3\\lib\\site-packages\\scipy\\optimize\\lbfgsb.py:339: DeprecationWarning: tostring() is deprecated. Use tobytes() instead.\n",
      "  task_str = task.tostring()\n",
      "C:\\ProgramData\\Anaconda3\\lib\\site-packages\\scipy\\optimize\\lbfgsb.py:339: DeprecationWarning: tostring() is deprecated. Use tobytes() instead.\n",
      "  task_str = task.tostring()\n",
      "C:\\ProgramData\\Anaconda3\\lib\\site-packages\\scipy\\optimize\\lbfgsb.py:339: DeprecationWarning: tostring() is deprecated. Use tobytes() instead.\n",
      "  task_str = task.tostring()\n",
      "C:\\ProgramData\\Anaconda3\\lib\\site-packages\\scipy\\optimize\\lbfgsb.py:339: DeprecationWarning: tostring() is deprecated. Use tobytes() instead.\n",
      "  task_str = task.tostring()\n",
      "C:\\ProgramData\\Anaconda3\\lib\\site-packages\\scipy\\optimize\\lbfgsb.py:339: DeprecationWarning: tostring() is deprecated. Use tobytes() instead.\n",
      "  task_str = task.tostring()\n",
      "C:\\ProgramData\\Anaconda3\\lib\\site-packages\\scipy\\optimize\\lbfgsb.py:339: DeprecationWarning: tostring() is deprecated. Use tobytes() instead.\n",
      "  task_str = task.tostring()\n",
      "C:\\ProgramData\\Anaconda3\\lib\\site-packages\\scipy\\optimize\\lbfgsb.py:339: DeprecationWarning: tostring() is deprecated. Use tobytes() instead.\n",
      "  task_str = task.tostring()\n",
      "C:\\ProgramData\\Anaconda3\\lib\\site-packages\\scipy\\optimize\\lbfgsb.py:339: DeprecationWarning: tostring() is deprecated. Use tobytes() instead.\n",
      "  task_str = task.tostring()\n",
      "C:\\ProgramData\\Anaconda3\\lib\\site-packages\\scipy\\optimize\\lbfgsb.py:339: DeprecationWarning: tostring() is deprecated. Use tobytes() instead.\n",
      "  task_str = task.tostring()\n",
      "C:\\ProgramData\\Anaconda3\\lib\\site-packages\\scipy\\optimize\\lbfgsb.py:339: DeprecationWarning: tostring() is deprecated. Use tobytes() instead.\n",
      "  task_str = task.tostring()\n",
      "C:\\ProgramData\\Anaconda3\\lib\\site-packages\\scipy\\optimize\\lbfgsb.py:339: DeprecationWarning: tostring() is deprecated. Use tobytes() instead.\n",
      "  task_str = task.tostring()\n",
      "C:\\ProgramData\\Anaconda3\\lib\\site-packages\\scipy\\optimize\\lbfgsb.py:339: DeprecationWarning: tostring() is deprecated. Use tobytes() instead.\n",
      "  task_str = task.tostring()\n",
      "C:\\ProgramData\\Anaconda3\\lib\\site-packages\\scipy\\optimize\\lbfgsb.py:339: DeprecationWarning: tostring() is deprecated. Use tobytes() instead.\n",
      "  task_str = task.tostring()\n",
      "C:\\ProgramData\\Anaconda3\\lib\\site-packages\\scipy\\optimize\\lbfgsb.py:339: DeprecationWarning: tostring() is deprecated. Use tobytes() instead.\n",
      "  task_str = task.tostring()\n",
      "C:\\ProgramData\\Anaconda3\\lib\\site-packages\\scipy\\optimize\\lbfgsb.py:339: DeprecationWarning: tostring() is deprecated. Use tobytes() instead.\n",
      "  task_str = task.tostring()\n",
      "C:\\ProgramData\\Anaconda3\\lib\\site-packages\\scipy\\optimize\\lbfgsb.py:339: DeprecationWarning: tostring() is deprecated. Use tobytes() instead.\n",
      "  task_str = task.tostring()\n",
      "C:\\ProgramData\\Anaconda3\\lib\\site-packages\\scipy\\optimize\\lbfgsb.py:339: DeprecationWarning: tostring() is deprecated. Use tobytes() instead.\n",
      "  task_str = task.tostring()\n",
      "C:\\ProgramData\\Anaconda3\\lib\\site-packages\\scipy\\optimize\\lbfgsb.py:339: DeprecationWarning: tostring() is deprecated. Use tobytes() instead.\n",
      "  task_str = task.tostring()\n",
      "C:\\ProgramData\\Anaconda3\\lib\\site-packages\\scipy\\optimize\\lbfgsb.py:339: DeprecationWarning: tostring() is deprecated. Use tobytes() instead.\n",
      "  task_str = task.tostring()\n",
      "C:\\ProgramData\\Anaconda3\\lib\\site-packages\\scipy\\optimize\\lbfgsb.py:339: DeprecationWarning: tostring() is deprecated. Use tobytes() instead.\n",
      "  task_str = task.tostring()\n",
      "C:\\ProgramData\\Anaconda3\\lib\\site-packages\\scipy\\optimize\\lbfgsb.py:339: DeprecationWarning: tostring() is deprecated. Use tobytes() instead.\n",
      "  task_str = task.tostring()\n",
      "C:\\ProgramData\\Anaconda3\\lib\\site-packages\\scipy\\optimize\\lbfgsb.py:339: DeprecationWarning: tostring() is deprecated. Use tobytes() instead.\n",
      "  task_str = task.tostring()\n",
      "C:\\ProgramData\\Anaconda3\\lib\\site-packages\\scipy\\optimize\\lbfgsb.py:339: DeprecationWarning: tostring() is deprecated. Use tobytes() instead.\n",
      "  task_str = task.tostring()\n",
      "C:\\ProgramData\\Anaconda3\\lib\\site-packages\\scipy\\optimize\\lbfgsb.py:339: DeprecationWarning: tostring() is deprecated. Use tobytes() instead.\n",
      "  task_str = task.tostring()\n",
      "C:\\ProgramData\\Anaconda3\\lib\\site-packages\\scipy\\optimize\\lbfgsb.py:339: DeprecationWarning: tostring() is deprecated. Use tobytes() instead.\n",
      "  task_str = task.tostring()\n",
      "C:\\ProgramData\\Anaconda3\\lib\\site-packages\\scipy\\optimize\\lbfgsb.py:339: DeprecationWarning: tostring() is deprecated. Use tobytes() instead.\n",
      "  task_str = task.tostring()\n",
      "C:\\ProgramData\\Anaconda3\\lib\\site-packages\\scipy\\optimize\\lbfgsb.py:339: DeprecationWarning: tostring() is deprecated. Use tobytes() instead.\n",
      "  task_str = task.tostring()\n",
      "C:\\ProgramData\\Anaconda3\\lib\\site-packages\\scipy\\optimize\\lbfgsb.py:339: DeprecationWarning: tostring() is deprecated. Use tobytes() instead.\n",
      "  task_str = task.tostring()\n",
      "C:\\ProgramData\\Anaconda3\\lib\\site-packages\\scipy\\optimize\\lbfgsb.py:339: DeprecationWarning: tostring() is deprecated. Use tobytes() instead.\n",
      "  task_str = task.tostring()\n",
      "C:\\ProgramData\\Anaconda3\\lib\\site-packages\\scipy\\optimize\\lbfgsb.py:339: DeprecationWarning: tostring() is deprecated. Use tobytes() instead.\n",
      "  task_str = task.tostring()\n",
      "C:\\ProgramData\\Anaconda3\\lib\\site-packages\\scipy\\optimize\\lbfgsb.py:339: DeprecationWarning: tostring() is deprecated. Use tobytes() instead.\n",
      "  task_str = task.tostring()\n",
      "C:\\ProgramData\\Anaconda3\\lib\\site-packages\\scipy\\optimize\\lbfgsb.py:339: DeprecationWarning: tostring() is deprecated. Use tobytes() instead.\n",
      "  task_str = task.tostring()\n",
      "C:\\ProgramData\\Anaconda3\\lib\\site-packages\\scipy\\optimize\\lbfgsb.py:339: DeprecationWarning: tostring() is deprecated. Use tobytes() instead.\n",
      "  task_str = task.tostring()\n",
      "C:\\ProgramData\\Anaconda3\\lib\\site-packages\\scipy\\optimize\\lbfgsb.py:339: DeprecationWarning: tostring() is deprecated. Use tobytes() instead.\n",
      "  task_str = task.tostring()\n",
      "C:\\ProgramData\\Anaconda3\\lib\\site-packages\\scipy\\optimize\\lbfgsb.py:339: DeprecationWarning: tostring() is deprecated. Use tobytes() instead.\n",
      "  task_str = task.tostring()\n",
      "C:\\ProgramData\\Anaconda3\\lib\\site-packages\\scipy\\optimize\\lbfgsb.py:339: DeprecationWarning: tostring() is deprecated. Use tobytes() instead.\n",
      "  task_str = task.tostring()\n"
     ]
    },
    {
     "name": "stderr",
     "output_type": "stream",
     "text": [
      "C:\\ProgramData\\Anaconda3\\lib\\site-packages\\scipy\\optimize\\lbfgsb.py:339: DeprecationWarning: tostring() is deprecated. Use tobytes() instead.\n",
      "  task_str = task.tostring()\n",
      "C:\\ProgramData\\Anaconda3\\lib\\site-packages\\scipy\\optimize\\lbfgsb.py:339: DeprecationWarning: tostring() is deprecated. Use tobytes() instead.\n",
      "  task_str = task.tostring()\n",
      "C:\\ProgramData\\Anaconda3\\lib\\site-packages\\scipy\\optimize\\lbfgsb.py:339: DeprecationWarning: tostring() is deprecated. Use tobytes() instead.\n",
      "  task_str = task.tostring()\n",
      "C:\\ProgramData\\Anaconda3\\lib\\site-packages\\scipy\\optimize\\lbfgsb.py:339: DeprecationWarning: tostring() is deprecated. Use tobytes() instead.\n",
      "  task_str = task.tostring()\n",
      "C:\\ProgramData\\Anaconda3\\lib\\site-packages\\scipy\\optimize\\lbfgsb.py:360: DeprecationWarning: tostring() is deprecated. Use tobytes() instead.\n",
      "  task_str = task.tostring().strip(b'\\x00').strip()\n"
     ]
    }
   ],
   "source": [
    "from sklearn.linear_model import LogisticRegression\n",
    "lr = LogisticRegression()\n",
    "lr.fit(x_train,y_train)\n",
    "y_pred = lr.predict(x_test)"
   ]
  },
  {
   "cell_type": "code",
   "execution_count": 26,
   "metadata": {
    "executionInfo": {
     "elapsed": 305,
     "status": "ok",
     "timestamp": 1630507368374,
     "user": {
      "displayName": "Ramesh Ravindran",
      "photoUrl": "https://lh3.googleusercontent.com/a-/AOh14GhcjUie2zDWpQEXGBSui04ZAq0Nl9CR7dlOS1FcBg=s64",
      "userId": "08375370966839671912"
     },
     "user_tz": -330
    },
    "id": "QroR6soWzJCU"
   },
   "outputs": [],
   "source": [
    "LR = lr.score(x_test,y_test) * 100"
   ]
  },
  {
   "cell_type": "code",
   "execution_count": 27,
   "metadata": {
    "colab": {
     "base_uri": "https://localhost:8080/"
    },
    "executionInfo": {
     "elapsed": 10,
     "status": "ok",
     "timestamp": 1630507369866,
     "user": {
      "displayName": "Ramesh Ravindran",
      "photoUrl": "https://lh3.googleusercontent.com/a-/AOh14GhcjUie2zDWpQEXGBSui04ZAq0Nl9CR7dlOS1FcBg=s64",
      "userId": "08375370966839671912"
     },
     "user_tz": -330
    },
    "id": "xsPEgJeGzJCU",
    "outputId": "2261cd8f-a654-4fdc-96df-7429085fa124"
   },
   "outputs": [
    {
     "name": "stdout",
     "output_type": "stream",
     "text": [
      "              precision    recall  f1-score   support\n",
      "\n",
      "           0       0.00      0.00      0.00         0\n",
      "           1       0.00      0.00      0.00         0\n",
      "           2       0.00      0.00      0.00         0\n",
      "           3       0.00      0.00      0.00         0\n",
      "           4       0.00      0.00      0.00         0\n",
      "           5       0.00      0.00      0.00         0\n",
      "           6       0.04      0.60      0.07         5\n",
      "           7       0.01      1.00      0.03         1\n",
      "           8       0.18      0.26      0.21       234\n",
      "           9       0.00      0.00      0.00         0\n",
      "          10       0.30      0.31      0.31       346\n",
      "          11       0.00      0.00      0.00         1\n",
      "          12       0.73      0.34      0.47      1063\n",
      "\n",
      "    accuracy                           0.32      1650\n",
      "   macro avg       0.10      0.19      0.08      1650\n",
      "weighted avg       0.56      0.32      0.39      1650\n",
      "\n"
     ]
    },
    {
     "name": "stderr",
     "output_type": "stream",
     "text": [
      "C:\\Users\\Tru Projects\\AppData\\Roaming\\Python\\Python37\\site-packages\\sklearn\\metrics\\_classification.py:1318: UndefinedMetricWarning: Recall and F-score are ill-defined and being set to 0.0 in labels with no true samples. Use `zero_division` parameter to control this behavior.\n",
      "  _warn_prf(average, modifier, msg_start, len(result))\n",
      "C:\\Users\\Tru Projects\\AppData\\Roaming\\Python\\Python37\\site-packages\\sklearn\\metrics\\_classification.py:1318: UndefinedMetricWarning: Recall and F-score are ill-defined and being set to 0.0 in labels with no true samples. Use `zero_division` parameter to control this behavior.\n",
      "  _warn_prf(average, modifier, msg_start, len(result))\n",
      "C:\\Users\\Tru Projects\\AppData\\Roaming\\Python\\Python37\\site-packages\\sklearn\\metrics\\_classification.py:1318: UndefinedMetricWarning: Recall and F-score are ill-defined and being set to 0.0 in labels with no true samples. Use `zero_division` parameter to control this behavior.\n",
      "  _warn_prf(average, modifier, msg_start, len(result))\n"
     ]
    }
   ],
   "source": [
    "from sklearn.metrics import classification_report\n",
    "print(classification_report(y_pred,y_test))"
   ]
  },
  {
   "cell_type": "code",
   "execution_count": 28,
   "metadata": {
    "colab": {
     "base_uri": "https://localhost:8080/"
    },
    "executionInfo": {
     "elapsed": 323,
     "status": "ok",
     "timestamp": 1630507372197,
     "user": {
      "displayName": "Ramesh Ravindran",
      "photoUrl": "https://lh3.googleusercontent.com/a-/AOh14GhcjUie2zDWpQEXGBSui04ZAq0Nl9CR7dlOS1FcBg=s64",
      "userId": "08375370966839671912"
     },
     "user_tz": -330
    },
    "id": "OvMzK1GRzJCU",
    "outputId": "604737f7-0752-47d8-95cf-c468b826b5da"
   },
   "outputs": [
    {
     "data": {
      "text/plain": [
       "array([[  0,   0,   0,   0,   0,   0,   0,   0,   0,   0,   0,   0,   0],\n",
       "       [  0,   0,   0,   0,   0,   0,   0,   0,   0,   0,   0,   0,   0],\n",
       "       [  0,   0,   0,   0,   0,   0,   0,   0,   0,   0,   0,   0,   0],\n",
       "       [  0,   0,   0,   0,   0,   0,   0,   0,   0,   0,   0,   0,   0],\n",
       "       [  0,   0,   0,   0,   0,   0,   0,   0,   0,   0,   0,   0,   0],\n",
       "       [  0,   0,   0,   0,   0,   0,   0,   0,   0,   0,   0,   0,   0],\n",
       "       [  0,   0,   0,   0,   0,   0,   3,   0,   0,   0,   1,   0,   1],\n",
       "       [  0,   0,   0,   0,   0,   0,   0,   1,   0,   0,   0,   0,   0],\n",
       "       [  1,   0,   9,   8,   8,  13,  10,  11,  60,   9,  34,  14,  57],\n",
       "       [  0,   0,   0,   0,   0,   0,   0,   0,   0,   0,   0,   0,   0],\n",
       "       [  1,   2,   4,   5,   8,  18,  15,  22,  64,   4, 107,  17,  79],\n",
       "       [  0,   0,   0,   0,   0,   0,   0,   0,   1,   0,   0,   0,   0],\n",
       "       [  5,   8,  21,   9,  18,  42,  57,  35, 214,  16, 212,  62, 364]],\n",
       "      dtype=int64)"
      ]
     },
     "execution_count": 28,
     "metadata": {},
     "output_type": "execute_result"
    }
   ],
   "source": [
    "from sklearn.metrics import confusion_matrix\n",
    "confusion_matrix(y_pred,y_test)"
   ]
  },
  {
   "cell_type": "markdown",
   "metadata": {
    "id": "TbdWD8fNzJCU"
   },
   "source": [
    "# Random Forest Classifier"
   ]
  },
  {
   "cell_type": "code",
   "execution_count": 29,
   "metadata": {
    "id": "nkniEyXWzJCV"
   },
   "outputs": [
    {
     "name": "stdout",
     "output_type": "stream",
     "text": [
      "*Confusion Matrix for RF: \n",
      "[[  0   0   0   0   0   0   1   0   3   0   1   0   2]\n",
      " [  0   0   0   0   0   0   0   0   2   0   3   0   5]\n",
      " [  0   0   0   0   0   0   0   1  17   0   4   1  11]\n",
      " [  0   0   0   0   0   0   0   0  15   0   4   0   3]\n",
      " [  0   0   0   0   0   0   0   0  10   0   5   2  17]\n",
      " [  0   0   0   0   0   2   0   0  19   0  13   1  38]\n",
      " [  0   0   1   0   0   0   6   0  32   0  10   0  36]\n",
      " [  0   0   0   0   0   0   1   4  15   0  19   1  29]\n",
      " [  0   0   1   0   0   1   3   0 141   0  42   6 145]\n",
      " [  0   0   0   0   0   0   0   0  12   0   3   0  14]\n",
      " [  0   0   0   0   0   0   7   3  86   0  91   2 165]\n",
      " [  0   0   0   0   0   0   1   1  30   0  15   2  44]\n",
      " [  0   0   0   1   0   1   9   1 123   0  71   3 292]]\n"
     ]
    }
   ],
   "source": [
    "from sklearn.ensemble import RandomForestClassifier\n",
    "RF = RandomForestClassifier()\n",
    "RF.fit(x_train, y_train)\n",
    "predictions = RF.predict(x_test)\n",
    "print(\"*Confusion Matrix for RF: \")\n",
    "print(confusion_matrix(y_test, predictions))"
   ]
  },
  {
   "cell_type": "code",
   "execution_count": 30,
   "metadata": {
    "colab": {
     "base_uri": "https://localhost:8080/"
    },
    "executionInfo": {
     "elapsed": 3156,
     "status": "ok",
     "timestamp": 1630507576202,
     "user": {
      "displayName": "Ramesh Ravindran",
      "photoUrl": "https://lh3.googleusercontent.com/a-/AOh14GhcjUie2zDWpQEXGBSui04ZAq0Nl9CR7dlOS1FcBg=s64",
      "userId": "08375370966839671912"
     },
     "user_tz": -330
    },
    "id": "UZVCyArizJCV",
    "outputId": "b5703af5-1214-4c57-d3a6-45d1fa42e968"
   },
   "outputs": [
    {
     "name": "stdout",
     "output_type": "stream",
     "text": [
      "              precision    recall  f1-score   support\n",
      "\n",
      "           0       0.00      0.00      0.00         0\n",
      "           1       0.00      0.00      0.00         0\n",
      "           2       0.00      0.00      0.00         2\n",
      "           3       0.00      0.00      0.00         1\n",
      "           4       0.00      0.00      0.00         0\n",
      "           5       0.03      0.50      0.05         4\n",
      "           6       0.07      0.21      0.11        28\n",
      "           7       0.06      0.40      0.10        10\n",
      "           8       0.42      0.28      0.33       505\n",
      "           9       0.00      0.00      0.00         0\n",
      "          10       0.26      0.32      0.29       281\n",
      "          11       0.02      0.11      0.04        18\n",
      "          12       0.58      0.36      0.45       801\n",
      "\n",
      "    accuracy                           0.33      1650\n",
      "   macro avg       0.11      0.17      0.10      1650\n",
      "weighted avg       0.46      0.33      0.37      1650\n",
      "\n"
     ]
    },
    {
     "name": "stderr",
     "output_type": "stream",
     "text": [
      "C:\\Users\\Tru Projects\\AppData\\Roaming\\Python\\Python37\\site-packages\\sklearn\\metrics\\_classification.py:1318: UndefinedMetricWarning: Recall and F-score are ill-defined and being set to 0.0 in labels with no true samples. Use `zero_division` parameter to control this behavior.\n",
      "  _warn_prf(average, modifier, msg_start, len(result))\n",
      "C:\\Users\\Tru Projects\\AppData\\Roaming\\Python\\Python37\\site-packages\\sklearn\\metrics\\_classification.py:1318: UndefinedMetricWarning: Recall and F-score are ill-defined and being set to 0.0 in labels with no true samples. Use `zero_division` parameter to control this behavior.\n",
      "  _warn_prf(average, modifier, msg_start, len(result))\n",
      "C:\\Users\\Tru Projects\\AppData\\Roaming\\Python\\Python37\\site-packages\\sklearn\\metrics\\_classification.py:1318: UndefinedMetricWarning: Recall and F-score are ill-defined and being set to 0.0 in labels with no true samples. Use `zero_division` parameter to control this behavior.\n",
      "  _warn_prf(average, modifier, msg_start, len(result))\n"
     ]
    }
   ],
   "source": [
    "from sklearn.metrics import classification_report\n",
    "print(classification_report(predictions,y_test))"
   ]
  },
  {
   "cell_type": "code",
   "execution_count": 31,
   "metadata": {
    "colab": {
     "base_uri": "https://localhost:8080/"
    },
    "executionInfo": {
     "elapsed": 323,
     "status": "ok",
     "timestamp": 1630507593186,
     "user": {
      "displayName": "Ramesh Ravindran",
      "photoUrl": "https://lh3.googleusercontent.com/a-/AOh14GhcjUie2zDWpQEXGBSui04ZAq0Nl9CR7dlOS1FcBg=s64",
      "userId": "08375370966839671912"
     },
     "user_tz": -330
    },
    "id": "p6IzhjW4zJCW",
    "outputId": "0887a4be-a618-414c-8905-5bdc33a1fa27"
   },
   "outputs": [
    {
     "name": "stdout",
     "output_type": "stream",
     "text": [
      "32.6060606060606\n"
     ]
    }
   ],
   "source": [
    "from sklearn.metrics import accuracy_score\n",
    "val1 = accuracy_score(y_test, predictions)*100\n",
    "print(val1)"
   ]
  },
  {
   "cell_type": "markdown",
   "metadata": {
    "id": "1uM1YFr3zJCW"
   },
   "source": [
    "# Decision Tree Classifier"
   ]
  },
  {
   "cell_type": "code",
   "execution_count": 32,
   "metadata": {
    "colab": {
     "base_uri": "https://localhost:8080/"
    },
    "executionInfo": {
     "elapsed": 96455,
     "status": "ok",
     "timestamp": 1630507693599,
     "user": {
      "displayName": "Ramesh Ravindran",
      "photoUrl": "https://lh3.googleusercontent.com/a-/AOh14GhcjUie2zDWpQEXGBSui04ZAq0Nl9CR7dlOS1FcBg=s64",
      "userId": "08375370966839671912"
     },
     "user_tz": -330
    },
    "id": "y9UAZ9SxzJCW",
    "outputId": "c9a6757e-4b52-47c3-a828-2a2e03acd18c"
   },
   "outputs": [
    {
     "name": "stdout",
     "output_type": "stream",
     "text": [
      "*Confusion Matrix for DT: \n",
      "[[  0   0   0   0   0   0   1   0   2   0   1   0   3]\n",
      " [  0   0   0   0   0   0   1   0   2   0   1   0   6]\n",
      " [  0   1   0   0   1   0   3   0  12   1   4   1  11]\n",
      " [  0   0   1   0   1   0   0   0  10   1   3   1   5]\n",
      " [  0   1   0   0   4   3   0   0   6   1   7   1  11]\n",
      " [  0   0   1   1   3   4   2   0  18   0  18   4  22]\n",
      " [  0   0   0   0   0   1  11   0  17   1  21   3  31]\n",
      " [  1   0   0   0   2   1   2  11  16   0  16   7  13]\n",
      " [  1   0   3   2   8  10   8   3 119   5  58  19 103]\n",
      " [  0   0   0   0   0   0   0   0  11   0   5   2  11]\n",
      " [  2   0   4   0   3   8  15   5  76   2  94   8 137]\n",
      " [  0   0   1   0   1   5   9   1  23   0  17   8  28]\n",
      " [  1   1   7   5   2  14  14   7 129   5 101  22 193]]\n"
     ]
    }
   ],
   "source": [
    "from sklearn import tree\n",
    "DT = tree.DecisionTreeClassifier()\n",
    "DT.fit(x_train, y_train)\n",
    "predictions = DT.predict(x_test)\n",
    "print(\"*Confusion Matrix for DT: \")\n",
    "print(confusion_matrix(y_test, predictions))"
   ]
  },
  {
   "cell_type": "code",
   "execution_count": 33,
   "metadata": {
    "colab": {
     "base_uri": "https://localhost:8080/"
    },
    "executionInfo": {
     "elapsed": 1151,
     "status": "ok",
     "timestamp": 1630507737778,
     "user": {
      "displayName": "Ramesh Ravindran",
      "photoUrl": "https://lh3.googleusercontent.com/a-/AOh14GhcjUie2zDWpQEXGBSui04ZAq0Nl9CR7dlOS1FcBg=s64",
      "userId": "08375370966839671912"
     },
     "user_tz": -330
    },
    "id": "YWLxMP8JzJCW",
    "outputId": "08625342-e13b-4bf8-cc5e-d0d723dbd934"
   },
   "outputs": [
    {
     "name": "stdout",
     "output_type": "stream",
     "text": [
      "              precision    recall  f1-score   support\n",
      "\n",
      "           0       0.00      0.00      0.00         5\n",
      "           1       0.00      0.00      0.00         3\n",
      "           2       0.00      0.00      0.00        17\n",
      "           3       0.00      0.00      0.00         8\n",
      "           4       0.12      0.16      0.14        25\n",
      "           5       0.05      0.09      0.07        46\n",
      "           6       0.13      0.17      0.15        66\n",
      "           7       0.16      0.41      0.23        27\n",
      "           8       0.35      0.27      0.31       441\n",
      "           9       0.00      0.00      0.00        16\n",
      "          10       0.27      0.27      0.27       346\n",
      "          11       0.09      0.11      0.09        76\n",
      "          12       0.39      0.34      0.36       574\n",
      "\n",
      "    accuracy                           0.27      1650\n",
      "   macro avg       0.12      0.14      0.12      1650\n",
      "weighted avg       0.30      0.27      0.28      1650\n",
      "\n"
     ]
    }
   ],
   "source": [
    "from sklearn.metrics import classification_report\n",
    "print(classification_report(predictions,y_test))"
   ]
  },
  {
   "cell_type": "code",
   "execution_count": 34,
   "metadata": {
    "colab": {
     "base_uri": "https://localhost:8080/"
    },
    "executionInfo": {
     "elapsed": 10,
     "status": "ok",
     "timestamp": 1630507740664,
     "user": {
      "displayName": "Ramesh Ravindran",
      "photoUrl": "https://lh3.googleusercontent.com/a-/AOh14GhcjUie2zDWpQEXGBSui04ZAq0Nl9CR7dlOS1FcBg=s64",
      "userId": "08375370966839671912"
     },
     "user_tz": -330
    },
    "id": "w6tWUHwyzJCX",
    "outputId": "b2944118-c499-4530-ac98-9508664cc99e"
   },
   "outputs": [
    {
     "name": "stdout",
     "output_type": "stream",
     "text": [
      "26.90909090909091\n"
     ]
    }
   ],
   "source": [
    "val2 = accuracy_score(y_test, predictions)* 100\n",
    "print(val2)"
   ]
  },
  {
   "cell_type": "markdown",
   "metadata": {
    "id": "ZZcIU6fEzJCX"
   },
   "source": [
    "# KNeighbors Classifier"
   ]
  },
  {
   "cell_type": "code",
   "execution_count": 35,
   "metadata": {
    "id": "sCO7qmd2zJCY"
   },
   "outputs": [
    {
     "name": "stdout",
     "output_type": "stream",
     "text": [
      "*Accuracy score for KNN:  20.78787878787879 \n",
      "\n",
      "*Confusion Matrix for KNN: \n",
      "[[  0   0   0   0   0   0   0   0   7   0   0   0   0]\n",
      " [  0   0   0   0   0   0   0   0  10   0   0   0   0]\n",
      " [  0   0   0   0   0   0   0   0  34   0   0   0   0]\n",
      " [  0   0   0   0   0   0   0   0  22   0   0   0   0]\n",
      " [  0   0   0   0   0   0   0   0  34   0   0   0   0]\n",
      " [  0   0   0   0   0   0   0   0  72   0   1   0   0]\n",
      " [  0   0   1   0   0   0   0   0  83   0   0   0   1]\n",
      " [  0   0   0   0   0   0   0   0  68   0   1   0   0]\n",
      " [  0   0   0   0   0   0   0   0 335   0   2   0   2]\n",
      " [  0   0   0   0   0   0   0   0  29   0   0   0   0]\n",
      " [  0   0   0   0   0   0   0   0 349   0   5   0   0]\n",
      " [  0   0   0   0   0   0   0   0  92   0   1   0   0]\n",
      " [  0   0   0   0   0   0   0   0 495   0   3   0   3]]\n",
      "*Classification Report for KNN: \n",
      "              precision    recall  f1-score   support\n",
      "\n",
      "           0       0.00      0.00      0.00         7\n",
      "           1       0.00      0.00      0.00        10\n",
      "           2       0.00      0.00      0.00        34\n",
      "           3       0.00      0.00      0.00        22\n",
      "           4       0.00      0.00      0.00        34\n",
      "           5       0.00      0.00      0.00        73\n",
      "           6       0.00      0.00      0.00        85\n",
      "           7       0.00      0.00      0.00        69\n",
      "           8       0.21      0.99      0.34       339\n",
      "           9       0.00      0.00      0.00        29\n",
      "          10       0.38      0.01      0.03       354\n",
      "          11       0.00      0.00      0.00        93\n",
      "          12       0.50      0.01      0.01       501\n",
      "\n",
      "    accuracy                           0.21      1650\n",
      "   macro avg       0.08      0.08      0.03      1650\n",
      "weighted avg       0.28      0.21      0.08      1650\n",
      "\n"
     ]
    },
    {
     "name": "stderr",
     "output_type": "stream",
     "text": [
      "C:\\Users\\Tru Projects\\AppData\\Roaming\\Python\\Python37\\site-packages\\sklearn\\metrics\\_classification.py:1318: UndefinedMetricWarning: Precision and F-score are ill-defined and being set to 0.0 in labels with no predicted samples. Use `zero_division` parameter to control this behavior.\n",
      "  _warn_prf(average, modifier, msg_start, len(result))\n",
      "C:\\Users\\Tru Projects\\AppData\\Roaming\\Python\\Python37\\site-packages\\sklearn\\metrics\\_classification.py:1318: UndefinedMetricWarning: Precision and F-score are ill-defined and being set to 0.0 in labels with no predicted samples. Use `zero_division` parameter to control this behavior.\n",
      "  _warn_prf(average, modifier, msg_start, len(result))\n",
      "C:\\Users\\Tru Projects\\AppData\\Roaming\\Python\\Python37\\site-packages\\sklearn\\metrics\\_classification.py:1318: UndefinedMetricWarning: Precision and F-score are ill-defined and being set to 0.0 in labels with no predicted samples. Use `zero_division` parameter to control this behavior.\n",
      "  _warn_prf(average, modifier, msg_start, len(result))\n"
     ]
    }
   ],
   "source": [
    "from sklearn.neighbors import KNeighborsClassifier\n",
    "KNN = KNeighborsClassifier()\n",
    "KNN.fit(x_train, y_train)\n",
    "predictions = KNN.predict(x_test)\n",
    "val5 = (accuracy_score(y_test, predictions)*100)\n",
    "print(\"*Accuracy score for KNN: \", val5, \"\\n\")\n",
    "print(\"*Confusion Matrix for KNN: \")\n",
    "print(confusion_matrix(y_test, predictions))\n",
    "print(\"*Classification Report for KNN: \")\n",
    "print(classification_report(y_test, predictions))"
   ]
  },
  {
   "cell_type": "markdown",
   "metadata": {
    "id": "3D8PXsedzJCY"
   },
   "source": [
    "# XGB Classifier"
   ]
  },
  {
   "cell_type": "code",
   "execution_count": 31,
   "metadata": {
    "id": "w5-YbpNYzJCY"
   },
   "outputs": [
    {
     "name": "stdout",
     "output_type": "stream",
     "text": [
      "[23:42:34] WARNING: C:/Users/Administrator/workspace/xgboost-win64_release_1.4.0/src/learner.cc:1095: Starting in XGBoost 1.3.0, the default evaluation metric used with the objective 'binary:logistic' was changed from 'error' to 'logloss'. Explicitly set eval_metric if you'd like to restore the old behavior.\n",
      "Accuracy: 97.34%\n",
      "*Confusion Matrix for XGB: \n",
      "[[1582   13]\n",
      " [  36  208]]\n",
      "*Classification Report for XGB: \n",
      "              precision    recall  f1-score   support\n",
      "\n",
      "           0       0.98      0.99      0.98      1595\n",
      "           1       0.94      0.85      0.89       244\n",
      "\n",
      "    accuracy                           0.97      1839\n",
      "   macro avg       0.96      0.92      0.94      1839\n",
      "weighted avg       0.97      0.97      0.97      1839\n",
      "\n"
     ]
    }
   ],
   "source": [
    "from xgboost import XGBClassifier\n",
    "model = XGBClassifier()\n",
    "model.fit(x_train, y_train)\n",
    "# make predictions for test data\n",
    "y_pred = model.predict(x_test)\n",
    "predictions = [round(value) for value in y_pred]\n",
    "# evaluate predictions\n",
    "val6 = accuracy_score(y_test, predictions) * 100\n",
    "print(\"Accuracy: %.2f%%\" % (val6))\n",
    "print(\"*Confusion Matrix for XGB: \")\n",
    "print(confusion_matrix(y_test, predictions))\n",
    "print(\"*Classification Report for XGB: \")\n",
    "print(classification_report(y_test, predictions))"
   ]
  },
  {
   "cell_type": "markdown",
   "metadata": {},
   "source": [
    "# Naive Bayes"
   ]
  },
  {
   "cell_type": "code",
   "execution_count": 32,
   "metadata": {},
   "outputs": [
    {
     "name": "stdout",
     "output_type": "stream",
     "text": [
      "Accuracy: 88.69%\n",
      "*Confusion Matrix for NB: \n",
      "[[1414  181]\n",
      " [  27  217]]\n",
      "*Classification Report for NB: \n",
      "              precision    recall  f1-score   support\n",
      "\n",
      "           0       0.98      0.89      0.93      1595\n",
      "           1       0.55      0.89      0.68       244\n",
      "\n",
      "    accuracy                           0.89      1839\n",
      "   macro avg       0.76      0.89      0.80      1839\n",
      "weighted avg       0.92      0.89      0.90      1839\n",
      "\n"
     ]
    }
   ],
   "source": [
    "from sklearn.naive_bayes import GaussianNB\n",
    "model = GaussianNB()\n",
    "model.fit(x_train, y_train)\n",
    "# make predictions for test data\n",
    "y_pred = model.predict(x_test)\n",
    "predictions = [round(value) for value in y_pred]\n",
    "# evaluate predictions\n",
    "val3 = accuracy_score(y_test, predictions) * 100\n",
    "print(\"Accuracy: %.2f%%\" % (val3))\n",
    "print(\"*Confusion Matrix for NB: \")\n",
    "print(confusion_matrix(y_test, predictions))\n",
    "print(\"*Classification Report for NB: \")\n",
    "print(classification_report(y_test, predictions))"
   ]
  },
  {
   "cell_type": "markdown",
   "metadata": {
    "id": "P_6KFixkzJCa"
   },
   "source": [
    "# Voting Classifier"
   ]
  },
  {
   "cell_type": "code",
   "execution_count": 33,
   "metadata": {
    "id": "vAvInpm7zJCa",
    "outputId": "4b88ddef-162b-4c5f-c829-fa89c64aa83d"
   },
   "outputs": [
    {
     "name": "stdout",
     "output_type": "stream",
     "text": [
      "*Accuracy score for Voting Classifier:  97.66177270255574 \n",
      "\n",
      "*Confusion Matrix for Voting CLassifier: \n",
      "[[1595    0]\n",
      " [  43  201]]\n",
      "*Classification Report for Voting Classifier: \n",
      "              precision    recall  f1-score   support\n",
      "\n",
      "           0       0.97      1.00      0.99      1595\n",
      "           1       1.00      0.82      0.90       244\n",
      "\n",
      "    accuracy                           0.98      1839\n",
      "   macro avg       0.99      0.91      0.95      1839\n",
      "weighted avg       0.98      0.98      0.98      1839\n",
      "\n"
     ]
    }
   ],
   "source": [
    "from sklearn.ensemble import VotingClassifier\n",
    "from sklearn.linear_model import LogisticRegression\n",
    "from sklearn.ensemble import RandomForestClassifier\n",
    "from sklearn.tree import DecisionTreeClassifier\n",
    "estimator = []\n",
    "estimator.append(('LR', \n",
    "                  LogisticRegression(solver ='lbfgs', \n",
    "                                     multi_class ='multinomial', \n",
    "                                     max_iter = 200)))\n",
    "estimator.append(('RFC', RandomForestClassifier()))\n",
    "estimator.append(('DTC', DecisionTreeClassifier()))\n",
    "vot_hard = VotingClassifier(estimators = estimator, voting ='hard')\n",
    "vot_hard.fit(x_train, y_train)\n",
    "predictions = vot_hard.predict(x_test)\n",
    "val7 = (accuracy_score(y_test, predictions)*100)\n",
    "print(\"*Accuracy score for Voting Classifier: \", val7, \"\\n\")\n",
    "print(\"*Confusion Matrix for Voting CLassifier: \")\n",
    "print(confusion_matrix(y_test, predictions))\n",
    "print(\"*Classification Report for Voting Classifier: \")\n",
    "print(classification_report(y_test, predictions))"
   ]
  },
  {
   "cell_type": "markdown",
   "metadata": {
    "id": "X9bP7dGDzJCb"
   },
   "source": [
    "# Accuracy Comparsion"
   ]
  },
  {
   "cell_type": "code",
   "execution_count": 34,
   "metadata": {
    "id": "AQ5VQOSAzJCb",
    "outputId": "a7a41272-a12c-46a2-9e2a-281b007946a9"
   },
   "outputs": [
    {
     "data": {
      "image/png": "[encoded data removed]",
      "text/plain": [
       "<Figure size 864x576 with 1 Axes>"
      ]
     },
     "metadata": {
      "needs_background": "light"
     },
     "output_type": "display_data"
    }
   ],
   "source": [
    "import numpy as np\n",
    "import pandas as pd\n",
    "import matplotlib.pyplot as plt\n",
    "\n",
    "# Bring some raw data.\n",
    "frequencies = [LR,val1,val2,val3,val4,val5,val6,val7]\n",
    "\n",
    "# In my original code I create a series and run on that,\n",
    "# so for consistency I create a series from the list.\n",
    "freq_series = pd.Series(frequencies)\n",
    "\n",
    "x_labels = ['LR','RF','DT','SVM','KNN','XGBClassifier','NB','Voting Classifier']\n",
    "\n",
    "# Plot the figure.\n",
    "plt.figure(figsize=(12, 8))\n",
    "ax = freq_series.plot(kind='bar')\n",
    "ax.set_title('Evaluation of ML & DL')\n",
    "ax.set_xlabel('Classifier!')\n",
    "ax.set_ylabel('Accuracy Range')\n",
    "ax.set_xticklabels(x_labels)\n",
    "\n",
    "\n",
    "def add_value_labels(ax, spacing=5):\n",
    "    \"\"\"Add labels to the end of each bar in a bar chart.\n",
    "\n",
    "    Arguments:\n",
    "        ax (matplotlib.axes.Axes): The matplotlib object containing the axes\n",
    "            of the plot to annotate.\n",
    "        spacing (int): The distance between the labels and the bars.\n",
    "    \"\"\"\n",
    "\n",
    "    # For each bar: Place a label\n",
    "    for rect in ax.patches:\n",
    "        # Get X and Y placement of label from rect.\n",
    "        y_value = rect.get_height()\n",
    "        x_value = rect.get_x() + rect.get_width() / 2\n",
    "\n",
    "        # Number of points between bar and label. Change to your liking.\n",
    "        space = spacing\n",
    "        # Vertical alignment for positive values\n",
    "        va = 'bottom'\n",
    "\n",
    "        # If value of bar is negative: Place label below bar\n",
    "        if y_value < 0:\n",
    "            # Invert space to place label below\n",
    "            space *= -1\n",
    "            # Vertically align label at top\n",
    "            va = 'top'\n",
    "\n",
    "        # Use Y value as label and format number with one decimal place\n",
    "        label = \"{:.1f}\".format(y_value)\n",
    "\n",
    "        # Create annotation\n",
    "        ax.annotate(\n",
    "            label,                      # Use `label` as label\n",
    "            (x_value, y_value),         # Place label at end of the bar\n",
    "            xytext=(0, space),          # Vertically shift label by `space`\n",
    "            textcoords=\"offset points\", # Interpret `xytext` as offset in points\n",
    "            ha='center',                # Horizontally center label\n",
    "            va=va)                      # Vertically align label differently for\n",
    "                                        # positive and negative values.\n",
    "\n",
    "\n",
    "# Call the function above. All the magic happens there.\n",
    "add_value_labels(ax)\n",
    "plt.show()"
   ]
  },
  {
   "cell_type": "code",
   "execution_count": 35,
   "metadata": {
    "id": "JiiWZXX1zJCc",
    "outputId": "16a18190-9ecc-474e-a9e2-e8007e53be3f"
   },
   "outputs": [
    {
     "data": {
      "text/plain": [
       "['model.sav']"
      ]
     },
     "execution_count": 35,
     "metadata": {},
     "output_type": "execute_result"
    }
   ],
   "source": [
    "import joblib\n",
    "filename = 'model.sav'\n",
    "joblib.dump(vot_hard, filename)"
   ]
  },
  {
   "cell_type": "code",
   "execution_count": null,
   "metadata": {
    "id": "PWe-pxSQzJCc"
   },
   "outputs": [],
   "source": []
  }
 ],
 "metadata": {
  "accelerator": "GPU",
  "colab": {
   "collapsed_sections": [
    "8SUbHt-wzJCY",
    "P_6KFixkzJCa",
    "X9bP7dGDzJCb"
   ],
   "name": "Notebook.ipynb",
   "provenance": []
  },
  "kernelspec": {
   "display_name": "Python 3",
   "language": "python",
   "name": "python3"
  },
  "language_info": {
   "codemirror_mode": {
    "name": "ipython",
    "version": 3
   },
   "file_extension": ".py",
   "mimetype": "text/x-python",
   "name": "python",
   "nbconvert_exporter": "python",
   "pygments_lexer": "ipython3",
   "version": "3.7.4"
  },
  "vscode": {
   "interpreter": {
    "hash": "31f2aee4e71d21fbe5cf8b01ff0e069b9275f58929596ceb00d14d90e3e16cd6"
   }
  }
 },
 "nbformat": 4,
 "nbformat_minor": 1
}
